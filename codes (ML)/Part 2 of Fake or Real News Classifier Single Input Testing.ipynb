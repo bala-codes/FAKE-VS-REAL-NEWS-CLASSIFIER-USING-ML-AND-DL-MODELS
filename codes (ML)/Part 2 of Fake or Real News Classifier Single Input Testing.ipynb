{
  "nbformat": 4,
  "nbformat_minor": 0,
  "metadata": {
    "colab": {
      "name": "Part 2 of Fake or Real News Classifier - Single Input Edition.ipynb",
      "provenance": [],
      "collapsed_sections": [],
      "include_colab_link": true
    },
    "kernelspec": {
      "name": "python3",
      "display_name": "Python 3"
    },
    "accelerator": "GPU"
  },
  "cells": [
    {
      "cell_type": "markdown",
      "metadata": {
        "id": "view-in-github",
        "colab_type": "text"
      },
      "source": [
        "<a href=\"https://colab.research.google.com/github/bala-codes/FAKE-VS-REAL-NEWS-CLASSIFIER-USING-ML-AND-DL-MODELS/blob/master/codes%20(ML)/Part%202%20of%20Fake%20or%20Real%20News%20Classifier%20Single%20Input%20Testing.ipynb\" target=\"_parent\"><img src=\"https://colab.research.google.com/assets/colab-badge.svg\" alt=\"Open In Colab\"/></a>"
      ]
    },
    {
      "cell_type": "code",
      "metadata": {
        "id": "iArv-2OPT9Ft",
        "colab_type": "code",
        "colab": {
          "base_uri": "https://localhost:8080/",
          "height": 122
        },
        "outputId": "2ab0d56e-be8d-4c24-b768-17a069a0a52b"
      },
      "source": [
        "# IF YOU ARE USING GOOGLE COLABORATORY AND IF YOUR DATA IS STORED IN GOOGLE DRIVE, THEN RUN THIS CODE OTHERWISE DON'T EXECUTE\n",
        "\n",
        "from google.colab import drive\n",
        "drive.mount('/content/gdrive')"
      ],
      "execution_count": null,
      "outputs": [
        {
          "output_type": "stream",
          "text": [
            "Go to this URL in a browser: https://accounts.google.com/o/oauth2/auth?client_id=947318989803-6bn6qk8qdgf4n4g3pfee6491hc0brc4i.apps.googleusercontent.com&redirect_uri=urn%3aietf%3awg%3aoauth%3a2.0%3aoob&response_type=code&scope=email%20https%3a%2f%2fwww.googleapis.com%2fauth%2fdocs.test%20https%3a%2f%2fwww.googleapis.com%2fauth%2fdrive%20https%3a%2f%2fwww.googleapis.com%2fauth%2fdrive.photos.readonly%20https%3a%2f%2fwww.googleapis.com%2fauth%2fpeopleapi.readonly\n",
            "\n",
            "Enter your authorization code:\n",
            "··········\n",
            "Mounted at /content/gdrive\n"
          ],
          "name": "stdout"
        }
      ]
    },
    {
      "cell_type": "code",
      "metadata": {
        "id": "v-hmC35fPYOb",
        "colab_type": "code",
        "colab": {}
      },
      "source": [
        "import datetime\n",
        "now = datetime.datetime.now()\n",
        "print (\"Current date and time : \")\n",
        "print (now.strftime(\"%Y-%m-%d %H:%M:%S\"))"
      ],
      "execution_count": null,
      "outputs": []
    },
    {
      "cell_type": "code",
      "metadata": {
        "id": "a7DFP7E9H8FX",
        "colab_type": "code",
        "colab": {}
      },
      "source": [
        "import pickle\n",
        "import numpy as np\n",
        "import matplotlib.pyplot as plt\n",
        "plt.style.use('ggplot')"
      ],
      "execution_count": null,
      "outputs": []
    },
    {
      "cell_type": "code",
      "metadata": {
        "id": "X5meDk8HUH_b",
        "colab_type": "code",
        "colab": {}
      },
      "source": [
        "with open(\"/content/gdrive/My Drive/Machine Learning Projects/FAKE VS REAL NEWS CATEGORY CLASSIFIER PROJECT/SOURCE CODES AND DATASETS/PACKAGE 1 - SOURCE CODES AND FILES/Pretrained Models/nb_classifier.pkl\", \"rb\") as fin:\n",
        "  vectorizer, nb_classifier = pickle.load(fin)\n",
        " \n",
        "with open(\"/content/gdrive/My Drive/Machine Learning Projects/FAKE VS REAL NEWS CATEGORY CLASSIFIER PROJECT/SOURCE CODES AND DATASETS/PACKAGE 1 - SOURCE CODES AND FILES/Pretrained Models/SVC_classifier.pkl\", \"rb\") as fin:\n",
        "  vectorizer, svc_classifier = pickle.load(fin)\n",
        "\n",
        "with open(\"/content/gdrive/My Drive/Machine Learning Projects/FAKE VS REAL NEWS CATEGORY CLASSIFIER PROJECT/SOURCE CODES AND DATASETS/PACKAGE 1 - SOURCE CODES AND FILES/Pretrained Models/SVC_N_classifier.pkl\", \"rb\") as fin:\n",
        "  vectorizer, SVC_N_classifier = pickle.load(fin)\n",
        " \n",
        "with open(\"/content/gdrive/My Drive/Machine Learning Projects/FAKE VS REAL NEWS CATEGORY CLASSIFIER PROJECT/SOURCE CODES AND DATASETS/PACKAGE 1 - SOURCE CODES AND FILES/Pretrained Models/pac_classifier.pkl\", \"rb\") as fin:\n",
        "  vectorizer, pac_classifier = pickle.load(fin)\n",
        " \n",
        "with open(\"/content/gdrive/My Drive/Machine Learning Projects/FAKE VS REAL NEWS CATEGORY CLASSIFIER PROJECT/SOURCE CODES AND DATASETS/PACKAGE 1 - SOURCE CODES AND FILES/Pretrained Models/calibrator_classifier.pkl\", \"rb\") as fin:\n",
        "  vectorizer, calibrator_classifier = pickle.load(fin)\n",
        "  \n",
        "with open(\"/content/gdrive/My Drive/Machine Learning Projects/FAKE VS REAL NEWS CATEGORY CLASSIFIER PROJECT/SOURCE CODES AND DATASETS/PACKAGE 1 - SOURCE CODES AND FILES/Pretrained Models/logreg_classifier.pkl\", \"rb\") as fin:\n",
        "  vectorizer, logreg_classifier = pickle.load(fin)\n",
        "\n",
        "with open(\"/content/gdrive/My Drive/Machine Learning Projects/FAKE VS REAL NEWS CATEGORY CLASSIFIER PROJECT/Pretrained - Models/logregcv_classifier.pkl\", \"rb\") as fin:\n",
        "  vectorizer, logregcv_classifier = pickle.load(fin)\n",
        "\n",
        "\n",
        "print(\"SUCCESS ALL MODELS LOADED\")"
      ],
      "execution_count": null,
      "outputs": []
    },
    {
      "cell_type": "code",
      "metadata": {
        "id": "C-klp1dYF4xQ",
        "colab_type": "code",
        "colab": {}
      },
      "source": [
        "# Required Functions to predict the News\n",
        "def prediction(text):\n",
        "  test = vectorizer.transform(text)\n",
        "  graph,output = ensemble(test)\n",
        "\n",
        "  if output == 1:\n",
        "    value = 'REAL'\n",
        "  else:\n",
        "    value = 'FAKE'\n",
        "\n",
        "  class_labels = ['FAKE','REAL']\n",
        "  j = [graph[0][0],graph[0][1]]\n",
        "  y_pos = np.arange(len(class_labels))\n",
        "  plt.barh(y_pos,j)\n",
        "  plt.yticks(y_pos,class_labels)\n",
        "  plt.title('PREDICTION FOR BEING FAKE VS REAL')\n",
        "  plt.ylabel('Percentage')\n",
        "  plt.xlabel('Labels')\n",
        "  plt.show()\n",
        "  print()\n",
        "  start = \"\\033[1m\"\n",
        "  end = \"\\033[0;0m\"\n",
        "  print('THE GIVEN NEWS ARTICLE IS ' + start + str(value) + end)\n",
        "\n",
        "def ensemble(x):\n",
        "  pred1 = logreg_classifier.predict_proba(x)\n",
        "  pred2 = nb_classifier.predict_proba(x)\n",
        "  pred3 = svc_classifier._predict_proba_lr(x)\n",
        "  pred4 = pac_classifier._predict_proba_lr(x)\n",
        "  pred5 = calibrator_classifier.predict_proba(x)\n",
        "  pred6 = SVC_N_classifier.predict_proba(x)\n",
        "  pred7 = logregcv_classifier.predict_proba(x)\n",
        "\n",
        "  test_pred_prob = np.mean([pred1, pred2, pred3, pred4, pred5, pred6, pred7], axis=0)\n",
        "  pred = np.argmax(test_pred_prob, axis=1)\n",
        "  return test_pred_prob,pred\n"
      ],
      "execution_count": null,
      "outputs": []
    },
    {
      "cell_type": "markdown",
      "metadata": {
        "id": "2ro5Wj8KB-X_",
        "colab_type": "text"
      },
      "source": [
        "# GIVE YOUR INPUT HERE"
      ]
    },
    {
      "cell_type": "code",
      "metadata": {
        "id": "TFyanqQxVZTW",
        "colab_type": "code",
        "colab": {
          "base_uri": "https://localhost:8080/",
          "height": 372
        },
        "outputId": "84140b3d-b06d-4be1-bb64-90c404cd11d9"
      },
      "source": [
        "#String input\n",
        "x = input(\"ENTER THE NEWS ARTCILE HERE : \")\n",
        "x=[x,]\n",
        "prediction(x)"
      ],
      "execution_count": null,
      "outputs": [
        {
          "output_type": "stream",
          "text": [
            "ENTER THE NEWS ARTCILE HERE : ENTER THE NEWS ARTCILE HERE : History was created Thursday when Jammu and Kashmir, which has been part of the Union of India since 1947, ceased to be a state and was officially bifurcated into two Union Territories The decision was taken 72 years after the then ruler of the princely state, Maharaja Hari Singh, executed the Instrument of Accession on 26 October, 1947, making it part of the Union of India According to the Act, the UT of Jammu and Kashmir will have a legislature like Puducherry while Ladakh will be a UT without legislature like Chandigarh and both the UTs will be headed by two separate Lieutenant Governors (LG) IAS officers Girish Chandra Murmu and RK Mathur, who have been appointed the new LGs for the UTs of Jammu and Kashmir, and Ladakh, respectively, will be sworn-in at separate functions to be held in Srinagar and Leh on Thursday The Centre will be in direct control of the police and the law and order in Jammu and Kashmir from Thursday when it becomes a UT, while the land will be under the elected government there History was created Thursday when Jammu and Kashmir, which has been part of the Union of India since 1947, ceased to be a state and was officially bifurcated into two Union Territories. And with this the President's Rule imposed in undivided Jammu and Kashmir, since June 2017 after Mehbooba Mufti-led coalition government lost its majority, was revoked.  President Ram Nath Kovind issued two separate notifications on Thursday morning — the first revoking the President's rule in undivided Jammu and Kashmir and subsequently, taking over the control of the administration of the UT of Jammu and Kashmir, which will be controlled through the L-G now.  IAS officers Girish Chandra Murmu and RK Mathur have been appointed the new Lieutenant Governors (LGs) for the Union territories (UTs) of Jammu and Kashmir, and Ladakh, respectively. Mathur took oath as the first L-G of Ladakh in Leh, while Murmu was sworn-in in Jammu and Kashmir's Srinagar.  Also Read  Looking to buy a car or plan an exotic vacation? SIPs can help you plan for this faster. Use this calculator to know how. Looking to buy a car or plan an exotic vacation? SIPs can help you plan for this faster. Use this calculator to know how. Promoted By MF Sahi Hai   Jammu and Kashmir, Ladakh become UTs; L-Gs RK Mathur, GC Murmu administered oath of office in Leh, SrinagarA security jawan stands guard during a shutdown in Srinagar. PTI Both Murmu and Mathur were administered oath of office by Chief Justice of Jammu and Kashmir High Court Gita Mittal.  As per the Jammu and Kashmir Reorganisation Act, 2019, the two UTs came into existence at the stroke of midnight on 31 October (Wednesday-Thursday), nearly three months after the announcement in Rajya Sabha.  This is for the first time that a state is converted into two UTs even though there are numerous example of a UT becoming a full state or a state bifurcating into two states.  The total number of states in the country will be now 28 while the total UTs will go up to seven.  The Narendra Modi government's decision and subsequent approval of the Parliament to abrogate the special status given to Jammu and Kashmir under Article 370 and its bifurcation into two UTs was taken to redraw the map and future of a region at the centre of a protracted militancy movement.  The long-sanding electoral promise of the BJP to end the special status of Jammu and Kashmir was announced less than 90 days after the Modi 2.0 government assumed power in May end.  The 5 August decision was taken 72 years after the then ruler of the princely state, Maharaja Hari Singh, executed the Instrument of Accession on 26 October, 1947, making it part of the Union of India.  The two UTs come into existence on the day of the birth anniversary country's first Home Minister Sardar Vallabhbhai Patel, who is credited for the merger of over 560 states into the Union of India.\n"
          ],
          "name": "stdout"
        },
        {
          "output_type": "display_data",
          "data": {
            "image/png": "[encoded data removed]",
            "text/plain": [
              "<Figure size 432x288 with 1 Axes>"
            ]
          },
          "metadata": {
            "tags": []
          }
        },
        {
          "output_type": "stream",
          "text": [
            "\n",
            "THE GIVEN NEWS ARTICLE IS \u001b[1mREAL\u001b[0;0m\n"
          ],
          "name": "stdout"
        }
      ]
    },
    {
      "cell_type": "code",
      "metadata": {
        "id": "a2LDfb8uc74T",
        "colab_type": "code",
        "colab": {}
      },
      "source": [
        ""
      ],
      "execution_count": null,
      "outputs": []
    }
  ]
}