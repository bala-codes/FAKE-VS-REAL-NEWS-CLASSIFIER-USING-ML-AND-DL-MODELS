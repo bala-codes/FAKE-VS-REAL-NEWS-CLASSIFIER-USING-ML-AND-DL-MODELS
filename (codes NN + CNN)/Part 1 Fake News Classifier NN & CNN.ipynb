{
  "nbformat": 4,
  "nbformat_minor": 0,
  "metadata": {
    "colab": {
      "name": "Part 2.1 - Fake News Classifier - Neural Networks.ipynb",
      "provenance": [],
      "collapsed_sections": [],
      "include_colab_link": true
    },
    "kernelspec": {
      "name": "python3",
      "display_name": "Python 3"
    },
    "accelerator": "GPU"
  },
  "cells": [
    {
      "cell_type": "markdown",
      "metadata": {
        "id": "view-in-github",
        "colab_type": "text"
      },
      "source": [
        "<a href=\"https://colab.research.google.com/github/bala-codes/FAKE-VS-REAL-NEWS-CLASSIFIER-USING-ML-AND-DL-MODELS/blob/master/(codes%20NN%20%2B%20CNN)/Part%201%20Fake%20News%20Classifier%20NN%20%26%20CNN.ipynb\" target=\"_parent\"><img src=\"https://colab.research.google.com/assets/colab-badge.svg\" alt=\"Open In Colab\"/></a>"
      ]
    },
    {
      "cell_type": "code",
      "metadata": {
        "id": "Sr531Qmrvh1q",
        "colab_type": "code",
        "colab": {
          "base_uri": "https://localhost:8080/",
          "height": 34
        },
        "outputId": "b2261c2a-3209-489d-c1f5-c1ed690b9f93"
      },
      "source": [
        "from google.colab import drive\n",
        "drive.mount('/content/drive')"
      ],
      "execution_count": null,
      "outputs": [
        {
          "output_type": "stream",
          "text": [
            "Drive already mounted at /content/drive; to attempt to forcibly remount, call drive.mount(\"/content/drive\", force_remount=True).\n"
          ],
          "name": "stdout"
        }
      ]
    },
    {
      "cell_type": "code",
      "metadata": {
        "id": "hQlE1Zne4ndT",
        "colab_type": "code",
        "colab": {}
      },
      "source": [
        "#Importing the libraries which are required.\n",
        "import pandas as pd\n",
        "import numpy as np\n",
        "import string\n",
        "import matplotlib.pyplot as plt\n",
        "%matplotlib inline\n",
        "import seaborn as sns\n",
        "import pickle\n",
        "import warnings\n",
        "warnings.filterwarnings(\"ignore\")\n",
        "import keras\n",
        "from keras.utils.np_utils import to_categorical\n",
        "from sklearn import metrics\n",
        "from sklearn.metrics import classification_report"
      ],
      "execution_count": null,
      "outputs": []
    },
    {
      "cell_type": "code",
      "metadata": {
        "id": "6MWEuywgY5gU",
        "colab_type": "code",
        "colab": {
          "base_uri": "https://localhost:8080/",
          "height": 34
        },
        "outputId": "d49d00df-f36d-4e4d-de81-af245586e863"
      },
      "source": [
        "li = [5, 7, 25]\n",
        "\n",
        "f = list(filter(lambda x: x*2 , li))\n",
        "f "
      ],
      "execution_count": null,
      "outputs": [
        {
          "output_type": "execute_result",
          "data": {
            "text/plain": [
              "[7, 25]"
            ]
          },
          "metadata": {
            "tags": []
          },
          "execution_count": 9
        }
      ]
    },
    {
      "cell_type": "code",
      "metadata": {
        "id": "vkviXuzZFlGT",
        "colab_type": "code",
        "colab": {
          "base_uri": "https://localhost:8080/",
          "height": 105
        },
        "outputId": "0094a760-7b11-4bb1-d1c6-efd9ce59bf96"
      },
      "source": [
        "# memory footprint support libraries/code\n",
        "!ln -sf /opt/bin/nvidia-smi /usr/bin/nvidia-smi\n",
        "!pip install gputil\n",
        "!pip install psutil\n",
        "!pip install humanize\n",
        "import psutil\n",
        "import humanize\n",
        "import os\n",
        "import GPUtil as GPU\n",
        "GPUs = GPU.getGPUs()\n",
        "# XXX: only one GPU on Colab and isn’t guaranteed\n",
        "gpu = GPUs[0]\n",
        "def printm():\n",
        " process = psutil.Process(os.getpid())\n",
        " print(\"Gen RAM Free: \" + humanize.naturalsize( psutil.virtual_memory().available ), \" | Proc size: \" + humanize.naturalsize( process.memory_info().rss))\n",
        " print(\"GPU RAM Free: {0:.0f}MB | Used: {1:.0f}MB | Util {2:3.0f}% | Total {3:.0f}MB\".format(gpu.memoryFree, gpu.memoryUsed, gpu.memoryUtil*100, gpu.memoryTotal))\n",
        "printm() "
      ],
      "execution_count": null,
      "outputs": [
        {
          "output_type": "stream",
          "text": [
            "Requirement already satisfied: gputil in /usr/local/lib/python3.6/dist-packages (1.4.0)\n",
            "Requirement already satisfied: psutil in /usr/local/lib/python3.6/dist-packages (5.4.8)\n",
            "Requirement already satisfied: humanize in /usr/local/lib/python3.6/dist-packages (0.5.1)\n",
            "Gen RAM Free: 12.4 GB  | Proc size: 2.6 GB\n",
            "GPU RAM Free: 11441MB | Used: 0MB | Util   0% | Total 11441MB\n"
          ],
          "name": "stdout"
        }
      ]
    },
    {
      "cell_type": "code",
      "metadata": {
        "id": "OSLFLdsv4xAn",
        "colab_type": "code",
        "colab": {
          "base_uri": "https://localhost:8080/",
          "height": 197
        },
        "outputId": "d3084c79-3782-4407-c7dc-80826e1c01e8"
      },
      "source": [
        "import pandas as pd\n",
        "header = ['text','SECTION_CLEANED','label']\n",
        "df = pd.read_csv('/content/drive/My Drive/Machine Learning Projects/FAKE VS REAL NEWS CATEGORY CLASSIFIER PROJECT/SOURCE CODES AND DATASETS/FAKE VS REAL NEWS - FINAL DATASETS/dfcleanedascsv.csv', usecols = header)\n",
        "df = pd.DataFrame(df)\n",
        "\n",
        "df.head()"
      ],
      "execution_count": null,
      "outputs": [
        {
          "output_type": "execute_result",
          "data": {
            "text/html": [
              "<div>\n",
              "<style scoped>\n",
              "    .dataframe tbody tr th:only-of-type {\n",
              "        vertical-align: middle;\n",
              "    }\n",
              "\n",
              "    .dataframe tbody tr th {\n",
              "        vertical-align: top;\n",
              "    }\n",
              "\n",
              "    .dataframe thead th {\n",
              "        text-align: right;\n",
              "    }\n",
              "</style>\n",
              "<table border=\"1\" class=\"dataframe\">\n",
              "  <thead>\n",
              "    <tr style=\"text-align: right;\">\n",
              "      <th></th>\n",
              "      <th>text</th>\n",
              "      <th>label</th>\n",
              "      <th>SECTION_CLEANED</th>\n",
              "    </tr>\n",
              "  </thead>\n",
              "  <tbody>\n",
              "    <tr>\n",
              "      <th>0</th>\n",
              "      <td>Daniel Greenfield, a Shillman Journalism Fello...</td>\n",
              "      <td>FAKE</td>\n",
              "      <td>daniel greenfield shillman journalism fellow f...</td>\n",
              "    </tr>\n",
              "    <tr>\n",
              "      <th>1</th>\n",
              "      <td>Google Pinterest Digg Linkedin Reddit Stumbleu...</td>\n",
              "      <td>FAKE</td>\n",
              "      <td>google pinterest digg linkedin reddit stumbleu...</td>\n",
              "    </tr>\n",
              "    <tr>\n",
              "      <th>2</th>\n",
              "      <td>U.S. Secretary of State John F. Kerry said Mon...</td>\n",
              "      <td>REAL</td>\n",
              "      <td>us secretary state john f kerry say monday sto...</td>\n",
              "    </tr>\n",
              "    <tr>\n",
              "      <th>3</th>\n",
              "      <td>— Kaydee King (@KaydeeKing) November 9, 2016 T...</td>\n",
              "      <td>FAKE</td>\n",
              "      <td>— kaydee king kaydeeking november 9 2016 lesso...</td>\n",
              "    </tr>\n",
              "    <tr>\n",
              "      <th>4</th>\n",
              "      <td>It's primary day in New York and front-runners...</td>\n",
              "      <td>REAL</td>\n",
              "      <td>primary day new york frontrunners hillary clin...</td>\n",
              "    </tr>\n",
              "  </tbody>\n",
              "</table>\n",
              "</div>"
            ],
            "text/plain": [
              "                                                text  ...                                    SECTION_CLEANED\n",
              "0  Daniel Greenfield, a Shillman Journalism Fello...  ...  daniel greenfield shillman journalism fellow f...\n",
              "1  Google Pinterest Digg Linkedin Reddit Stumbleu...  ...  google pinterest digg linkedin reddit stumbleu...\n",
              "2  U.S. Secretary of State John F. Kerry said Mon...  ...  us secretary state john f kerry say monday sto...\n",
              "3  — Kaydee King (@KaydeeKing) November 9, 2016 T...  ...  — kaydee king kaydeeking november 9 2016 lesso...\n",
              "4  It's primary day in New York and front-runners...  ...  primary day new york frontrunners hillary clin...\n",
              "\n",
              "[5 rows x 3 columns]"
            ]
          },
          "metadata": {
            "tags": []
          },
          "execution_count": 29
        }
      ]
    },
    {
      "cell_type": "code",
      "metadata": {
        "id": "JkzkyMXmAfsY",
        "colab_type": "code",
        "colab": {
          "base_uri": "https://localhost:8080/",
          "height": 215
        },
        "outputId": "df5bede0-2402-47c8-ef5b-4bfdd6151b1d"
      },
      "source": [
        "print(df.shape)\n",
        "df.tail()"
      ],
      "execution_count": null,
      "outputs": [
        {
          "output_type": "stream",
          "text": [
            "(6951, 3)\n"
          ],
          "name": "stdout"
        },
        {
          "output_type": "execute_result",
          "data": {
            "text/html": [
              "<div>\n",
              "<style scoped>\n",
              "    .dataframe tbody tr th:only-of-type {\n",
              "        vertical-align: middle;\n",
              "    }\n",
              "\n",
              "    .dataframe tbody tr th {\n",
              "        vertical-align: top;\n",
              "    }\n",
              "\n",
              "    .dataframe thead th {\n",
              "        text-align: right;\n",
              "    }\n",
              "</style>\n",
              "<table border=\"1\" class=\"dataframe\">\n",
              "  <thead>\n",
              "    <tr style=\"text-align: right;\">\n",
              "      <th></th>\n",
              "      <th>text</th>\n",
              "      <th>label</th>\n",
              "      <th>SECTION_CLEANED</th>\n",
              "    </tr>\n",
              "  </thead>\n",
              "  <tbody>\n",
              "    <tr>\n",
              "      <th>6946</th>\n",
              "      <td>HBO’s Real Time host Bill Maher – someone not ...</td>\n",
              "      <td>REAL</td>\n",
              "      <td>hbos real time host bill maher – someone often...</td>\n",
              "    </tr>\n",
              "    <tr>\n",
              "      <th>6947</th>\n",
              "      <td>New York (CNN) Hillary Clinton is visiting onl...</td>\n",
              "      <td>REAL</td>\n",
              "      <td>new york cnn hillary clinton visit two battleg...</td>\n",
              "    </tr>\n",
              "    <tr>\n",
              "      <th>6948</th>\n",
              "      <td>Hollywood loses yet another one of their deare...</td>\n",
              "      <td>REAL</td>\n",
              "      <td>hollywood lose yet another one dearest actress...</td>\n",
              "    </tr>\n",
              "    <tr>\n",
              "      <th>6949</th>\n",
              "      <td>Story highlights Trump was sitting in a chair ...</td>\n",
              "      <td>REAL</td>\n",
              "      <td>story highlight trump sit chair onstage feet a...</td>\n",
              "    </tr>\n",
              "    <tr>\n",
              "      <th>6950</th>\n",
              "      <td>Donald Trump Jr., a son of the Republican pres...</td>\n",
              "      <td>REAL</td>\n",
              "      <td>donald trump jr son republican presidential no...</td>\n",
              "    </tr>\n",
              "  </tbody>\n",
              "</table>\n",
              "</div>"
            ],
            "text/plain": [
              "                                                   text  ...                                    SECTION_CLEANED\n",
              "6946  HBO’s Real Time host Bill Maher – someone not ...  ...  hbos real time host bill maher – someone often...\n",
              "6947  New York (CNN) Hillary Clinton is visiting onl...  ...  new york cnn hillary clinton visit two battleg...\n",
              "6948  Hollywood loses yet another one of their deare...  ...  hollywood lose yet another one dearest actress...\n",
              "6949  Story highlights Trump was sitting in a chair ...  ...  story highlight trump sit chair onstage feet a...\n",
              "6950  Donald Trump Jr., a son of the Republican pres...  ...  donald trump jr son republican presidential no...\n",
              "\n",
              "[5 rows x 3 columns]"
            ]
          },
          "metadata": {
            "tags": []
          },
          "execution_count": 30
        }
      ]
    },
    {
      "cell_type": "code",
      "metadata": {
        "id": "vpq6E-GG93DW",
        "colab_type": "code",
        "colab": {
          "base_uri": "https://localhost:8080/",
          "height": 386
        },
        "outputId": "1f961d75-43b4-4a7e-d726-d25f676f8df6"
      },
      "source": [
        "df.dropna(inplace=True)\n",
        "print(df.shape)\n",
        "label_count = df.label.value_counts()\n",
        "print('Class 0:', label_count[0])\n",
        "print('Class 1:', label_count[1])\n",
        "print('Proportion:', round(label_count[0] / label_count[1], 2), ': 1')\n",
        "\n",
        "label_count.plot(kind='bar', title='Count (label)')"
      ],
      "execution_count": null,
      "outputs": [
        {
          "output_type": "stream",
          "text": [
            "(6949, 3)\n",
            "Class 0: 3685\n",
            "Class 1: 3264\n",
            "Proportion: 1.13 : 1\n"
          ],
          "name": "stdout"
        },
        {
          "output_type": "execute_result",
          "data": {
            "text/plain": [
              "<matplotlib.axes._subplots.AxesSubplot at 0x7efd79673d30>"
            ]
          },
          "metadata": {
            "tags": []
          },
          "execution_count": 31
        },
        {
          "output_type": "display_data",
          "data": {
            "image/png": "[encoded data removed]",
            "text/plain": [
              "<Figure size 432x288 with 1 Axes>"
            ]
          },
          "metadata": {
            "tags": []
          }
        }
      ]
    },
    {
      "cell_type": "code",
      "metadata": {
        "id": "M-FhNm0Z_Iee",
        "colab_type": "code",
        "colab": {
          "base_uri": "https://localhost:8080/",
          "height": 52
        },
        "outputId": "ed9f6185-abe5-4f34-e9f1-2e6d922364b0"
      },
      "source": [
        "# Summarize number of words\n",
        "print(\"Number of words: \")\n",
        "print(len(np.unique(np.hstack(df['SECTION_CLEANED'].values))))"
      ],
      "execution_count": null,
      "outputs": [
        {
          "output_type": "stream",
          "text": [
            "Number of words: \n",
            "6834\n"
          ],
          "name": "stdout"
        }
      ]
    },
    {
      "cell_type": "code",
      "metadata": {
        "id": "P7CE1sJi40H9",
        "colab_type": "code",
        "colab": {
          "base_uri": "https://localhost:8080/",
          "height": 197
        },
        "outputId": "abfecbe7-eb55-4ee1-9ff5-ecabeef6fafd"
      },
      "source": [
        "df['SECTION_CLEANED'] = df['SECTION_CLEANED'].astype(str)\n",
        "df['label'] = df['label'].replace(to_replace = ['FAKE', 'REAL'], value = [0,1])\n",
        "df.head()"
      ],
      "execution_count": null,
      "outputs": [
        {
          "output_type": "execute_result",
          "data": {
            "text/html": [
              "<div>\n",
              "<style scoped>\n",
              "    .dataframe tbody tr th:only-of-type {\n",
              "        vertical-align: middle;\n",
              "    }\n",
              "\n",
              "    .dataframe tbody tr th {\n",
              "        vertical-align: top;\n",
              "    }\n",
              "\n",
              "    .dataframe thead th {\n",
              "        text-align: right;\n",
              "    }\n",
              "</style>\n",
              "<table border=\"1\" class=\"dataframe\">\n",
              "  <thead>\n",
              "    <tr style=\"text-align: right;\">\n",
              "      <th></th>\n",
              "      <th>text</th>\n",
              "      <th>label</th>\n",
              "      <th>SECTION_CLEANED</th>\n",
              "    </tr>\n",
              "  </thead>\n",
              "  <tbody>\n",
              "    <tr>\n",
              "      <th>0</th>\n",
              "      <td>Daniel Greenfield, a Shillman Journalism Fello...</td>\n",
              "      <td>0</td>\n",
              "      <td>daniel greenfield shillman journalism fellow f...</td>\n",
              "    </tr>\n",
              "    <tr>\n",
              "      <th>1</th>\n",
              "      <td>Google Pinterest Digg Linkedin Reddit Stumbleu...</td>\n",
              "      <td>0</td>\n",
              "      <td>google pinterest digg linkedin reddit stumbleu...</td>\n",
              "    </tr>\n",
              "    <tr>\n",
              "      <th>2</th>\n",
              "      <td>U.S. Secretary of State John F. Kerry said Mon...</td>\n",
              "      <td>1</td>\n",
              "      <td>us secretary state john f kerry say monday sto...</td>\n",
              "    </tr>\n",
              "    <tr>\n",
              "      <th>3</th>\n",
              "      <td>— Kaydee King (@KaydeeKing) November 9, 2016 T...</td>\n",
              "      <td>0</td>\n",
              "      <td>— kaydee king kaydeeking november 9 2016 lesso...</td>\n",
              "    </tr>\n",
              "    <tr>\n",
              "      <th>4</th>\n",
              "      <td>It's primary day in New York and front-runners...</td>\n",
              "      <td>1</td>\n",
              "      <td>primary day new york frontrunners hillary clin...</td>\n",
              "    </tr>\n",
              "  </tbody>\n",
              "</table>\n",
              "</div>"
            ],
            "text/plain": [
              "                                                text  ...                                    SECTION_CLEANED\n",
              "0  Daniel Greenfield, a Shillman Journalism Fello...  ...  daniel greenfield shillman journalism fellow f...\n",
              "1  Google Pinterest Digg Linkedin Reddit Stumbleu...  ...  google pinterest digg linkedin reddit stumbleu...\n",
              "2  U.S. Secretary of State John F. Kerry said Mon...  ...  us secretary state john f kerry say monday sto...\n",
              "3  — Kaydee King (@KaydeeKing) November 9, 2016 T...  ...  — kaydee king kaydeeking november 9 2016 lesso...\n",
              "4  It's primary day in New York and front-runners...  ...  primary day new york frontrunners hillary clin...\n",
              "\n",
              "[5 rows x 3 columns]"
            ]
          },
          "metadata": {
            "tags": []
          },
          "execution_count": 33
        }
      ]
    },
    {
      "cell_type": "markdown",
      "metadata": {
        "id": "70fp3INfoFc5",
        "colab_type": "text"
      },
      "source": [
        "# If you get any stripes in the next figure, then you have some missing values in the dataset."
      ]
    },
    {
      "cell_type": "code",
      "metadata": {
        "id": "5scVC23iBSVj",
        "colab_type": "code",
        "colab": {
          "base_uri": "https://localhost:8080/",
          "height": 283
        },
        "outputId": "abcca329-b7e4-43c1-ab82-c01db9ec066c"
      },
      "source": [
        "import seaborn as sns\n",
        "sns.heatmap(df.isnull(),yticklabels=False,cbar=False,cmap='YlGnBu')"
      ],
      "execution_count": null,
      "outputs": [
        {
          "output_type": "execute_result",
          "data": {
            "text/plain": [
              "<matplotlib.axes._subplots.AxesSubplot at 0x7efd8588fd30>"
            ]
          },
          "metadata": {
            "tags": []
          },
          "execution_count": 9
        },
        {
          "output_type": "display_data",
          "data": {
            "image/png": "[encoded data removed]",
            "text/plain": [
              "<Figure size 432x288 with 1 Axes>"
            ]
          },
          "metadata": {
            "tags": []
          }
        }
      ]
    },
    {
      "cell_type": "code",
      "metadata": {
        "id": "eU4tIy4v45OF",
        "colab_type": "code",
        "colab": {
          "base_uri": "https://localhost:8080/",
          "height": 52
        },
        "outputId": "649a3523-7034-4cc2-bb63-f2f528337e61"
      },
      "source": [
        "\n",
        "from sklearn.model_selection import train_test_split\n",
        "\n",
        "sentences = df['SECTION_CLEANED'].values\n",
        "y = df['label'].values\n",
        "\n",
        "sentences_train, sentences_test, y_train, y_test = train_test_split(sentences, y, test_size=0.20, random_state=1000)\n",
        "print(sentences_train.shape, sentences_test.shape)\n",
        "print(y_train.shape, y_test.shape)"
      ],
      "execution_count": null,
      "outputs": [
        {
          "output_type": "stream",
          "text": [
            "(5559,) (1390,)\n",
            "(5559,) (1390,)\n"
          ],
          "name": "stdout"
        }
      ]
    },
    {
      "cell_type": "code",
      "metadata": {
        "id": "1w-ltFoX-4iB",
        "colab_type": "code",
        "colab": {
          "base_uri": "https://localhost:8080/",
          "height": 52
        },
        "outputId": "1b38cd40-bf49-431c-f86e-8faea4cf4b8b"
      },
      "source": [
        "# Summarize number of words\n",
        "print(\"Number of words: \")\n",
        "print(len(np.unique(np.hstack(sentences_train))))"
      ],
      "execution_count": null,
      "outputs": [
        {
          "output_type": "stream",
          "text": [
            "Number of words: \n",
            "5483\n"
          ],
          "name": "stdout"
        }
      ]
    },
    {
      "cell_type": "code",
      "metadata": {
        "id": "oekZkOQU_770",
        "colab_type": "code",
        "colab": {
          "base_uri": "https://localhost:8080/",
          "height": 34
        },
        "outputId": "f2273564-c11d-4392-9a7d-8968bff46347"
      },
      "source": [
        "X = np.concatenate((sentences_train, sentences_test), axis=0)\n",
        "len(X[0])"
      ],
      "execution_count": null,
      "outputs": [
        {
          "output_type": "execute_result",
          "data": {
            "text/plain": [
              "1031"
            ]
          },
          "metadata": {
            "tags": []
          },
          "execution_count": 12
        }
      ]
    },
    {
      "cell_type": "code",
      "metadata": {
        "id": "pb-_dxAh_TmK",
        "colab_type": "code",
        "colab": {
          "base_uri": "https://localhost:8080/",
          "height": 518
        },
        "outputId": "565a5510-7be0-4607-fd38-f9256d5f803d"
      },
      "source": [
        "# Summarize review length  {price:.2f} \n",
        "\n",
        "print(\"Review length: \")\n",
        "result = list(map(len,X))\n",
        "print(\"Mean %.2f words (%f)\" % (np.mean(result), np.std(result)))\n",
        "\n",
        "#print(\"Mean {} words {}\".format(np.mean(result), np.std(result)))\n",
        "# plot review length as a boxplot and histogram\n",
        "plt.figure(figsize=(15,8))\n",
        "plt.subplot(211)\n",
        "plt.boxplot(result)\n",
        "plt.subplot(212)\n",
        "plt.hist(result)\n",
        "plt.show()"
      ],
      "execution_count": null,
      "outputs": [
        {
          "output_type": "stream",
          "text": [
            "Review length: \n",
            "Mean 2985.10 words (2692.350781)\n"
          ],
          "name": "stdout"
        },
        {
          "output_type": "display_data",
          "data": {
            "image/png": "[encoded data removed]",
            "text/plain": [
              "<Figure size 1080x576 with 2 Axes>"
            ]
          },
          "metadata": {
            "tags": []
          }
        }
      ]
    },
    {
      "cell_type": "code",
      "metadata": {
        "id": "GzoCa4Ip5StK",
        "colab_type": "code",
        "colab": {}
      },
      "source": [
        "# Import TfidfVectorizer\n",
        "from sklearn.feature_extraction.text import TfidfVectorizer\n",
        "\n",
        "vectorizer = TfidfVectorizer()\n",
        "vectorizer.fit(sentences_train)\n",
        "X_train = vectorizer.transform(sentences_train)\n",
        "X_test  = vectorizer.transform(sentences_test)"
      ],
      "execution_count": null,
      "outputs": []
    },
    {
      "cell_type": "code",
      "metadata": {
        "id": "oS7_2Rh17FOo",
        "colab_type": "code",
        "colab": {
          "base_uri": "https://localhost:8080/",
          "height": 87
        },
        "outputId": "bdc7d2af-fd24-4c4f-ab37-f8180cd23a5e"
      },
      "source": [
        "print(X_train.shape)\n",
        "print(y_train.shape)\n",
        "\n",
        "print(X_test.shape)\n",
        "print(y_test.shape)"
      ],
      "execution_count": null,
      "outputs": [
        {
          "output_type": "stream",
          "text": [
            "(5559, 74261)\n",
            "(5559,)\n",
            "(1390, 74261)\n",
            "(1390,)\n"
          ],
          "name": "stdout"
        }
      ]
    },
    {
      "cell_type": "code",
      "metadata": {
        "id": "QRqR8tlJ2tHI",
        "colab_type": "code",
        "colab": {
          "base_uri": "https://localhost:8080/",
          "height": 34
        },
        "outputId": "01040b17-7814-4081-a5b0-e5062bbd7a73"
      },
      "source": [
        "y_train"
      ],
      "execution_count": null,
      "outputs": [
        {
          "output_type": "execute_result",
          "data": {
            "text/plain": [
              "array([0, 1, 0, ..., 1, 0, 0])"
            ]
          },
          "metadata": {
            "tags": []
          },
          "execution_count": 38
        }
      ]
    },
    {
      "cell_type": "code",
      "metadata": {
        "id": "XrYtW3FKea-q",
        "colab_type": "code",
        "colab": {
          "base_uri": "https://localhost:8080/",
          "height": 123
        },
        "outputId": "6c5f828e-98e9-48e1-e00e-69dfa7bbd20b"
      },
      "source": [
        "print(y_train[0:5])\n",
        "y_train = keras.utils.to_categorical(y_train, num_classes=2, dtype='int32')\n",
        "y_test = keras.utils.to_categorical(y_test, num_classes=2, dtype='int32')\n",
        "\n",
        "y_train[0:5]"
      ],
      "execution_count": null,
      "outputs": [
        {
          "output_type": "stream",
          "text": [
            "[0 1 0 1 0]\n"
          ],
          "name": "stdout"
        },
        {
          "output_type": "execute_result",
          "data": {
            "text/plain": [
              "array([[1, 0],\n",
              "       [0, 1],\n",
              "       [1, 0],\n",
              "       [0, 1],\n",
              "       [1, 0]], dtype=int32)"
            ]
          },
          "metadata": {
            "tags": []
          },
          "execution_count": 39
        }
      ]
    },
    {
      "cell_type": "code",
      "metadata": {
        "id": "tLtt3uhzEvBS",
        "colab_type": "code",
        "colab": {}
      },
      "source": [
        "import os\n",
        "os.environ['TF_CPP_MIN_LOG_LEVEL'] = '3' \n",
        "import tensorflow as tf\n",
        "try:\n",
        "    from tensorflow.python.util import module_wrapper as deprecation\n",
        "except ImportError:\n",
        "    from tensorflow.python.util import deprecation_wrapper as deprecation\n",
        "deprecation._PER_MODULE_WARNING_LIMIT = 0\n",
        "\n",
        "from tensorflow.python.util import deprecation\n",
        "deprecation._PRINT_DEPRECATION_WARNINGS = False"
      ],
      "execution_count": null,
      "outputs": []
    },
    {
      "cell_type": "code",
      "metadata": {
        "id": "9PbG_tqRpJLk",
        "colab_type": "code",
        "colab": {}
      },
      "source": [
        "import matplotlib.pyplot as plt\n",
        "plt.style.use('ggplot')\n",
        "\n",
        "def plot_history(history):\n",
        "    acc = history.history['acc']\n",
        "    val_acc = history.history['val_acc']\n",
        "    loss = history.history['loss']\n",
        "    val_loss = history.history['val_loss']\n",
        "    x = range(1, len(acc) + 1)\n",
        "\n",
        "    plt.figure(figsize=(12, 5))\n",
        "    plt.subplot(1, 2, 1)\n",
        "    plt.plot(x, acc, 'b', label='Training acc')\n",
        "    plt.plot(x, val_acc, 'r', label='Validation acc')\n",
        "    plt.title('Training and validation accuracy')\n",
        "    plt.legend()\n",
        "    plt.subplot(1, 2, 2)\n",
        "    plt.plot(x, loss, 'b', label='Training loss')\n",
        "    plt.plot(x, val_loss, 'r', label='Validation loss')\n",
        "    plt.title('Training and validation loss')\n",
        "    plt.legend()"
      ],
      "execution_count": null,
      "outputs": []
    },
    {
      "cell_type": "markdown",
      "metadata": {
        "id": "LaFL9QoWoR4y",
        "colab_type": "text"
      },
      "source": [
        "#A Simple Neural Network"
      ]
    },
    {
      "cell_type": "code",
      "metadata": {
        "id": "p0svkgnB7JvZ",
        "colab_type": "code",
        "colab": {
          "base_uri": "https://localhost:8080/",
          "height": 72
        },
        "outputId": "2ea43562-2b29-4795-89d0-c5260fb2e079"
      },
      "source": [
        "from keras.models import Sequential\n",
        "from keras import layers\n",
        "from keras.layers import Dropout, BatchNormalization, Dense\n",
        "from keras import *\n",
        "\n",
        "input_dim = X_train.shape[1]  # Number of features\n",
        "print(input_dim)\n",
        "\n",
        "model = Sequential()\n",
        "model.add(layers.Dense(96, input_dim=input_dim, activation='relu'))\n",
        "model.add(BatchNormalization())\n",
        "model.add(layers.Dropout(0.4))\n",
        "model.add(layers.Dense(32,activation='relu'))\n",
        "model.add(BatchNormalization())\n",
        "model.add(layers.Dropout(0.6))\n",
        "model.add(layers.Dense(2, activation='softmax')) #initially  1 , sigmoid"
      ],
      "execution_count": null,
      "outputs": [
        {
          "output_type": "stream",
          "text": [
            "76312\n",
            "WARNING:tensorflow:Large dropout rate: 0.6 (>0.5). In TensorFlow 2.x, dropout() uses dropout rate instead of keep_prob. Please ensure that this is intended.\n"
          ],
          "name": "stdout"
        }
      ]
    },
    {
      "cell_type": "code",
      "metadata": {
        "id": "en7f2TCA7l6w",
        "colab_type": "code",
        "colab": {
          "base_uri": "https://localhost:8080/",
          "height": 407
        },
        "outputId": "f1d5ef48-f327-4f4a-e85b-56c935514e09"
      },
      "source": [
        "model.compile(loss='binary_crossentropy',optimizer='adam',metrics=['accuracy'])\n",
        "model.summary()"
      ],
      "execution_count": null,
      "outputs": [
        {
          "output_type": "stream",
          "text": [
            "Model: \"sequential_2\"\n",
            "_________________________________________________________________\n",
            "Layer (type)                 Output Shape              Param #   \n",
            "=================================================================\n",
            "dense_4 (Dense)              (None, 96)                7033536   \n",
            "_________________________________________________________________\n",
            "batch_normalization_3 (Batch (None, 96)                384       \n",
            "_________________________________________________________________\n",
            "dropout_3 (Dropout)          (None, 96)                0         \n",
            "_________________________________________________________________\n",
            "dense_5 (Dense)              (None, 32)                3104      \n",
            "_________________________________________________________________\n",
            "batch_normalization_4 (Batch (None, 32)                128       \n",
            "_________________________________________________________________\n",
            "dropout_4 (Dropout)          (None, 32)                0         \n",
            "_________________________________________________________________\n",
            "dense_6 (Dense)              (None, 2)                 66        \n",
            "=================================================================\n",
            "Total params: 7,037,218\n",
            "Trainable params: 7,036,962\n",
            "Non-trainable params: 256\n",
            "_________________________________________________________________\n"
          ],
          "name": "stdout"
        }
      ]
    },
    {
      "cell_type": "code",
      "metadata": {
        "id": "tafMZake7qpo",
        "colab_type": "code",
        "colab": {
          "base_uri": "https://localhost:8080/",
          "height": 461
        },
        "outputId": "d1abc7c4-9be2-47b7-8f87-48a483cff776"
      },
      "source": [
        "%%time\n",
        "history = model.fit(X_train, y_train,epochs=11,verbose=1,validation_data=(X_test, y_test))"
      ],
      "execution_count": null,
      "outputs": [
        {
          "output_type": "stream",
          "text": [
            "Train on 5211 samples, validate on 1738 samples\n",
            "Epoch 1/11\n",
            "5211/5211 [==============================] - 12s 2ms/step - loss: 0.4892 - acc: 0.7883 - val_loss: 0.2775 - val_acc: 0.8964\n",
            "Epoch 2/11\n",
            "5211/5211 [==============================] - 6s 1ms/step - loss: 0.2343 - acc: 0.9156 - val_loss: 0.2673 - val_acc: 0.9005\n",
            "Epoch 3/11\n",
            "5211/5211 [==============================] - 6s 1ms/step - loss: 0.1536 - acc: 0.9461 - val_loss: 0.2821 - val_acc: 0.8976\n",
            "Epoch 4/11\n",
            "5211/5211 [==============================] - 6s 1ms/step - loss: 0.1023 - acc: 0.9666 - val_loss: 0.3154 - val_acc: 0.8947\n",
            "Epoch 5/11\n",
            "5211/5211 [==============================] - 6s 1ms/step - loss: 0.0850 - acc: 0.9752 - val_loss: 0.3500 - val_acc: 0.8987\n",
            "Epoch 6/11\n",
            "5211/5211 [==============================] - 6s 1ms/step - loss: 0.0927 - acc: 0.9716 - val_loss: 0.3557 - val_acc: 0.8999\n",
            "Epoch 7/11\n",
            "5211/5211 [==============================] - 6s 1ms/step - loss: 0.0844 - acc: 0.9733 - val_loss: 0.3517 - val_acc: 0.8953\n",
            "Epoch 8/11\n",
            "5211/5211 [==============================] - 6s 1ms/step - loss: 0.0683 - acc: 0.9791 - val_loss: 0.3592 - val_acc: 0.8999\n",
            "Epoch 9/11\n",
            "5211/5211 [==============================] - 6s 1ms/step - loss: 0.0702 - acc: 0.9785 - val_loss: 0.3632 - val_acc: 0.8987\n",
            "Epoch 10/11\n",
            "5211/5211 [==============================] - 6s 1ms/step - loss: 0.0701 - acc: 0.9783 - val_loss: 0.3725 - val_acc: 0.8947\n",
            "Epoch 11/11\n",
            "5211/5211 [==============================] - 6s 1ms/step - loss: 0.0611 - acc: 0.9827 - val_loss: 0.3826 - val_acc: 0.8953\n",
            "CPU times: user 53.7 s, sys: 22.9 s, total: 1min 16s\n",
            "Wall time: 1min 14s\n"
          ],
          "name": "stdout"
        }
      ]
    },
    {
      "cell_type": "code",
      "metadata": {
        "id": "xEpEZUeC79TV",
        "colab_type": "code",
        "colab": {
          "base_uri": "https://localhost:8080/",
          "height": 105
        },
        "outputId": "4ae1e213-5a31-49cc-8020-53e1b3ebf133"
      },
      "source": [
        "from sklearn import metrics\n",
        "\n",
        "loss, accuracy = model.evaluate(X_train, y_train, verbose=False)\n",
        "print(\"Training Accuracy: {:.4f}\".format(accuracy))\n",
        "\n",
        "loss, accuracy = model.evaluate(X_test, y_test, verbose=False)\n",
        "print(\"Testing Accuracy:  {:.4f}\".format(accuracy))\n",
        "\n",
        "print(\"CONFUSION MATRIX\")\n",
        "pred = model.predict(X_test)\n",
        "cm = metrics.confusion_matrix(np.argmax(y_test, axis= 1),np.argmax(pred, axis = 1), labels=[0,1]) # 'FAKE','REAL'\n",
        "print(cm)"
      ],
      "execution_count": null,
      "outputs": [
        {
          "output_type": "stream",
          "text": [
            "Training Accuracy: 0.9871\n",
            "Testing Accuracy:  0.8953\n",
            "CONFUSION MATRIX\n",
            "[[757  70]\n",
            " [112 799]]\n"
          ],
          "name": "stdout"
        }
      ]
    },
    {
      "cell_type": "code",
      "metadata": {
        "id": "0qTxTXHUBzqW",
        "colab_type": "code",
        "colab": {
          "base_uri": "https://localhost:8080/",
          "height": 354
        },
        "outputId": "9b784c2e-5232-435d-9c59-9af13f2595e3"
      },
      "source": [
        "plot_history(history)"
      ],
      "execution_count": null,
      "outputs": [
        {
          "output_type": "stream",
          "text": [
            "X range(1, 12)\n"
          ],
          "name": "stdout"
        },
        {
          "output_type": "display_data",
          "data": {
            "image/png": "[encoded data removed]",
            "text/plain": [
              "<Figure size 864x360 with 2 Axes>"
            ]
          },
          "metadata": {
            "tags": []
          }
        }
      ]
    },
    {
      "cell_type": "code",
      "metadata": {
        "id": "5qDUeZzpB0o1",
        "colab_type": "code",
        "colab": {}
      },
      "source": [
        "# Save the weights\n",
        "model.save_weights('/content/drive/My Drive/Machine Learning Projects/FAKE VS REAL NEWS CATEGORY CLASSIFIER PROJECT/SOURCE CODES AND DATASETS/PACKAGE 2 - SOURCE CODES AND FILES/Pretrained Models/fakenews_NN_model_weights.h5')\n",
        "\n",
        "# Save the model architecture\n",
        "with open('/content/drive/My Drive/Machine Learning Projects/FAKE VS REAL NEWS CATEGORY CLASSIFIER PROJECT/SOURCE CODES AND DATASETS/PACKAGE 2 - SOURCE CODES AND FILES/Pretrained Models/fakenews_NN_model_architecture.json', 'w') as f:\n",
        "    f.write(model.to_json())"
      ],
      "execution_count": null,
      "outputs": []
    },
    {
      "cell_type": "markdown",
      "metadata": {
        "id": "3pVfq5e9oXwL",
        "colab_type": "text"
      },
      "source": [
        "# A Convolutional Neural Network"
      ]
    },
    {
      "cell_type": "code",
      "metadata": {
        "id": "t9u82M0RlASt",
        "colab_type": "code",
        "colab": {}
      },
      "source": [
        "from keras.preprocessing.text import Tokenizer\n",
        "\n",
        "tokenizer = Tokenizer(num_words=5000, lower=True)\n",
        "tokenizer.fit_on_texts(sentences_train)\n",
        "\n",
        "X_train = tokenizer.texts_to_sequences(sentences_train)\n",
        "X_test = tokenizer.texts_to_sequences(sentences_test)\n",
        "\n",
        "vocab_size = len(tokenizer.word_index) + 1"
      ],
      "execution_count": null,
      "outputs": []
    },
    {
      "cell_type": "code",
      "metadata": {
        "id": "dGdO_aZE5EK9",
        "colab_type": "code",
        "colab": {}
      },
      "source": [
        "with open('/content/drive/My Drive/Machine Learning Projects/FAKE VS REAL NEWS CATEGORY CLASSIFIER PROJECT/SOURCE CODES AND DATASETS/PACKAGE 2 - SOURCE CODES AND FILES/Pretrained Models/CNN_tokenizer.pkl', 'wb') as handle:\n",
        "    pickle.dump(tokenizer, handle, protocol=pickle.HIGHEST_PROTOCOL)"
      ],
      "execution_count": null,
      "outputs": []
    },
    {
      "cell_type": "code",
      "metadata": {
        "id": "XLKPc0ifq9BV",
        "colab_type": "code",
        "colab": {}
      },
      "source": [
        "from keras.preprocessing.sequence import pad_sequences\n",
        "\n",
        "maxlen = 1000 # 800\n",
        "\n",
        "X_train = pad_sequences(X_train, padding='post', maxlen=maxlen)\n",
        "X_test = pad_sequences(X_test, padding='post', maxlen=maxlen)"
      ],
      "execution_count": null,
      "outputs": []
    },
    {
      "cell_type": "code",
      "metadata": {
        "id": "MnlN-hmbrEod",
        "colab_type": "code",
        "colab": {
          "base_uri": "https://localhost:8080/",
          "height": 1000
        },
        "outputId": "ab9b4266-e841-49ea-9c1e-96d79ccfe44f"
      },
      "source": [
        "print(X_train[200])"
      ],
      "execution_count": null,
      "outputs": [
        {
          "output_type": "stream",
          "text": [
            "[1211   18 2758  186  121 1211   18 2758  186  121   30 1009 1211   18\n",
            " 1336 2758  186  121  257   15 1197 4982  451 2031 1307 2092 1717  923\n",
            "   36  170 3860   85 1211 1083  361   35  739  257 3816  925  765   18\n",
            "  328 2758   34 2388   30   79  797  585  142  215   25    5  186  351\n",
            " 4834  391  117 4278 1375  396  348  764  923  924  678  505  579  319\n",
            "  500   73 3561  294 2240  270  595   28  289  186  797  377 3860 1247\n",
            " 4344 1395  439  213  687    1   34 2388  989 1018   30  121  223  216\n",
            "  969 4293  772  714 1280   15  595   93  451 2031 2554  793  300  797\n",
            "    5    1  597   40  619    5 1855  171  184 2092 1505 3294    5  141\n",
            "  270   30   79 1717  122    0    0    0    0    0    0    0    0    0\n",
            "    0    0    0    0    0    0    0    0    0    0    0    0    0    0\n",
            "    0    0    0    0    0    0    0    0    0    0    0    0    0    0\n",
            "    0    0    0    0    0    0    0    0    0    0    0    0    0    0\n",
            "    0    0    0    0    0    0    0    0    0    0    0    0    0    0\n",
            "    0    0    0    0    0    0    0    0    0    0    0    0    0    0\n",
            "    0    0    0    0    0    0    0    0    0    0    0    0    0    0\n",
            "    0    0    0    0    0    0    0    0    0    0    0    0    0    0\n",
            "    0    0    0    0    0    0    0    0    0    0    0    0    0    0\n",
            "    0    0    0    0    0    0    0    0    0    0    0    0    0    0\n",
            "    0    0    0    0    0    0    0    0    0    0    0    0    0    0\n",
            "    0    0    0    0    0    0    0    0    0    0    0    0    0    0\n",
            "    0    0    0    0    0    0    0    0    0    0    0    0    0    0\n",
            "    0    0    0    0    0    0    0    0    0    0    0    0    0    0\n",
            "    0    0    0    0    0    0    0    0    0    0    0    0    0    0\n",
            "    0    0    0    0    0    0    0    0    0    0    0    0    0    0\n",
            "    0    0    0    0    0    0    0    0    0    0    0    0    0    0\n",
            "    0    0    0    0    0    0    0    0    0    0    0    0    0    0\n",
            "    0    0    0    0    0    0    0    0    0    0    0    0    0    0\n",
            "    0    0    0    0    0    0    0    0    0    0    0    0    0    0\n",
            "    0    0    0    0    0    0    0    0    0    0    0    0    0    0\n",
            "    0    0    0    0    0    0    0    0    0    0    0    0    0    0\n",
            "    0    0    0    0    0    0    0    0    0    0    0    0    0    0\n",
            "    0    0    0    0    0    0    0    0    0    0    0    0    0    0\n",
            "    0    0    0    0    0    0    0    0    0    0    0    0    0    0\n",
            "    0    0    0    0    0    0    0    0    0    0    0    0    0    0\n",
            "    0    0    0    0    0    0    0    0    0    0    0    0    0    0\n",
            "    0    0    0    0    0    0    0    0    0    0    0    0    0    0\n",
            "    0    0    0    0    0    0    0    0    0    0    0    0    0    0\n",
            "    0    0    0    0    0    0    0    0    0    0    0    0    0    0\n",
            "    0    0    0    0    0    0    0    0    0    0    0    0    0    0\n",
            "    0    0    0    0    0    0    0    0    0    0    0    0    0    0\n",
            "    0    0    0    0    0    0    0    0    0    0    0    0    0    0\n",
            "    0    0    0    0    0    0    0    0    0    0    0    0    0    0\n",
            "    0    0    0    0    0    0    0    0    0    0    0    0    0    0\n",
            "    0    0    0    0    0    0    0    0    0    0    0    0    0    0\n",
            "    0    0    0    0    0    0    0    0    0    0    0    0    0    0\n",
            "    0    0    0    0    0    0    0    0    0    0    0    0    0    0\n",
            "    0    0    0    0    0    0    0    0    0    0    0    0    0    0\n",
            "    0    0    0    0    0    0    0    0    0    0    0    0    0    0\n",
            "    0    0    0    0    0    0    0    0    0    0    0    0    0    0\n",
            "    0    0    0    0    0    0    0    0    0    0    0    0    0    0\n",
            "    0    0    0    0    0    0    0    0    0    0    0    0    0    0\n",
            "    0    0    0    0    0    0    0    0    0    0    0    0    0    0\n",
            "    0    0    0    0    0    0    0    0    0    0    0    0    0    0\n",
            "    0    0    0    0    0    0    0    0    0    0    0    0    0    0\n",
            "    0    0    0    0    0    0    0    0    0    0    0    0    0    0\n",
            "    0    0    0    0    0    0    0    0    0    0    0    0    0    0\n",
            "    0    0    0    0    0    0    0    0    0    0    0    0    0    0\n",
            "    0    0    0    0    0    0    0    0    0    0    0    0    0    0\n",
            "    0    0    0    0    0    0    0    0    0    0    0    0    0    0\n",
            "    0    0    0    0    0    0    0    0    0    0    0    0    0    0\n",
            "    0    0    0    0    0    0    0    0    0    0    0    0    0    0\n",
            "    0    0    0    0    0    0    0    0    0    0    0    0    0    0\n",
            "    0    0    0    0    0    0    0    0    0    0    0    0    0    0\n",
            "    0    0    0    0    0    0    0    0    0    0    0    0    0    0\n",
            "    0    0    0    0    0    0    0    0    0    0    0    0    0    0\n",
            "    0    0    0    0    0    0    0    0    0    0    0    0    0    0\n",
            "    0    0    0    0    0    0    0    0    0    0    0    0    0    0\n",
            "    0    0    0    0    0    0    0    0    0    0    0    0    0    0\n",
            "    0    0    0    0    0    0    0    0    0    0    0    0    0    0\n",
            "    0    0    0    0    0    0    0    0    0    0    0    0    0    0\n",
            "    0    0    0    0    0    0]\n"
          ],
          "name": "stdout"
        }
      ]
    },
    {
      "cell_type": "code",
      "metadata": {
        "id": "DbjjCQLcrHfe",
        "colab_type": "code",
        "colab": {
          "base_uri": "https://localhost:8080/",
          "height": 585
        },
        "outputId": "e2ae5586-419f-40ec-a87e-d0d0a8afac19"
      },
      "source": [
        "from tensorflow.keras.models import Sequential\n",
        "from tensorflow.keras import layers\n",
        "from keras.layers import Dense, Flatten, Conv1D, Dropout, BatchNormalization\n",
        "from keras.layers import MaxPooling1D\n",
        "from keras.layers.embeddings import Embedding\n",
        "from keras.preprocessing import sequence\n",
        "from keras import *\n",
        "from keras.callbacks import *\n",
        "\n",
        "embedding_dim = 500\n",
        "\n",
        "model = Sequential()\n",
        "model.add(layers.Embedding(input_dim = vocab_size , output_dim = embedding_dim ,input_length = maxlen))\n",
        "model.add(layers.Conv1D(filters=32, kernel_size=4, padding = 'valid' ,activation= 'relu' ))\n",
        "model.add(layers.MaxPooling1D(pool_size=2))\n",
        "model.add(layers.Conv1D(filters=64, kernel_size=5, padding = 'valid' ,activation= 'relu' ))\n",
        "model.add(layers.MaxPooling1D(pool_size=2))\n",
        "model.add(layers.Flatten())\n",
        "model.add(layers.BatchNormalization())\n",
        "model.add(layers.Dropout(0.4))\n",
        "model.add(layers.Dense(512, activation= 'relu' ))\n",
        "model.add(layers.BatchNormalization())\n",
        "model.add(layers.Dropout(0.4))\n",
        "model.add(layers.Dense(2, activation= 'softmax' ))\n",
        "# Important Note - About the next line, needs to be taken care of.\n",
        "#model.load_weights(\"/content/drive/My Drive/Machine Learning Projects/FAKE VS REAL NEWS CATEGORY CLASSIFIER PROJECT/SOURCE CODES AND DATASETS/PACKAGE 2 - SOURCE CODES AND FILES/Pretrained Models/reloader_weights.h5\")\n",
        "model.compile(optimizer='adam',loss='binary_crossentropy',metrics=['accuracy'])\n",
        "model.summary()"
      ],
      "execution_count": null,
      "outputs": [
        {
          "output_type": "stream",
          "text": [
            "Model: \"sequential_5\"\n",
            "_________________________________________________________________\n",
            "Layer (type)                 Output Shape              Param #   \n",
            "=================================================================\n",
            "embedding_5 (Embedding)      (None, 1000, 500)         41583000  \n",
            "_________________________________________________________________\n",
            "conv1d_9 (Conv1D)            (None, 997, 32)           64032     \n",
            "_________________________________________________________________\n",
            "max_pooling1d_9 (MaxPooling1 (None, 498, 32)           0         \n",
            "_________________________________________________________________\n",
            "conv1d_10 (Conv1D)           (None, 494, 64)           10304     \n",
            "_________________________________________________________________\n",
            "max_pooling1d_10 (MaxPooling (None, 247, 64)           0         \n",
            "_________________________________________________________________\n",
            "flatten_5 (Flatten)          (None, 15808)             0         \n",
            "_________________________________________________________________\n",
            "batch_normalization_9 (Batch (None, 15808)             63232     \n",
            "_________________________________________________________________\n",
            "dropout_9 (Dropout)          (None, 15808)             0         \n",
            "_________________________________________________________________\n",
            "dense_9 (Dense)              (None, 512)               8094208   \n",
            "_________________________________________________________________\n",
            "batch_normalization_10 (Batc (None, 512)               2048      \n",
            "_________________________________________________________________\n",
            "dropout_10 (Dropout)         (None, 512)               0         \n",
            "_________________________________________________________________\n",
            "dense_10 (Dense)             (None, 2)                 1026      \n",
            "=================================================================\n",
            "Total params: 49,817,850\n",
            "Trainable params: 49,785,210\n",
            "Non-trainable params: 32,640\n",
            "_________________________________________________________________\n"
          ],
          "name": "stdout"
        }
      ]
    },
    {
      "cell_type": "code",
      "metadata": {
        "id": "FtVSk8zG_rnS",
        "colab_type": "code",
        "colab": {
          "base_uri": "https://localhost:8080/",
          "height": 1000
        },
        "outputId": "f40fe8d9-1fd0-4798-e261-717fef31f9f7"
      },
      "source": [
        "%%time\n",
        "#red_lr= ReduceLROnPlateau(monitor='val_loss', patience = 3 , verbose = 2 , factor = 0.5 , min_delta = 0.01 )\n",
        "check=ModelCheckpoint(filepath=r'/content/drive/My Drive/Machine Learning Projects/FAKE VS REAL NEWS CATEGORY CLASSIFIER PROJECT/SOURCE CODES AND DATASETS/PACKAGE 2 - SOURCE CODES AND FILES/Pretrained Models/FAKENEWS_CNN_MODEL.h5', verbose=1 , monitor='val_acc',save_best_only=True, mode='max')\n",
        "\n",
        "history = model.fit(X_train, y_train , epochs = 20 , verbose = 1 , callbacks = [check], validation_data=(X_test, y_test))"
      ],
      "execution_count": null,
      "outputs": [
        {
          "output_type": "stream",
          "text": [
            "Train on 5559 samples, validate on 1390 samples\n",
            "Epoch 1/20\n",
            "5559/5559 [==============================] - 17s 3ms/step - loss: 0.0850 - acc: 0.9714 - val_loss: 0.4580 - val_acc: 0.8806\n",
            "\n",
            "Epoch 00001: val_acc improved from -inf to 0.88058, saving model to /content/drive/My Drive/Machine Learning Projects/FAKE VS REAL NEWS CATEGORY CLASSIFIER PROJECT/SOURCE CODES AND DATASETS/PACKAGE 2 - SOURCE CODES AND FILES/Pretrained Models/FAKENEWS_CNN_MODEL.h5\n",
            "Epoch 2/20\n",
            "5559/5559 [==============================] - 15s 3ms/step - loss: 0.0600 - acc: 0.9741 - val_loss: 0.5303 - val_acc: 0.8597\n",
            "\n",
            "Epoch 00002: val_acc did not improve from 0.88058\n",
            "Epoch 3/20\n",
            "5559/5559 [==============================] - 15s 3ms/step - loss: 0.0589 - acc: 0.9755 - val_loss: 0.4570 - val_acc: 0.8755\n",
            "\n",
            "Epoch 00003: val_acc did not improve from 0.88058\n",
            "Epoch 4/20\n",
            "5559/5559 [==============================] - 15s 3ms/step - loss: 0.0526 - acc: 0.9777 - val_loss: 0.6280 - val_acc: 0.8532\n",
            "\n",
            "Epoch 00004: val_acc did not improve from 0.88058\n",
            "Epoch 5/20\n",
            "5559/5559 [==============================] - 15s 3ms/step - loss: 0.0514 - acc: 0.9782 - val_loss: 0.6935 - val_acc: 0.8403\n",
            "\n",
            "Epoch 00005: val_acc did not improve from 0.88058\n",
            "Epoch 6/20\n",
            "5559/5559 [==============================] - 15s 3ms/step - loss: 0.0602 - acc: 0.9770 - val_loss: 0.5765 - val_acc: 0.8791\n",
            "\n",
            "Epoch 00006: val_acc did not improve from 0.88058\n",
            "Epoch 7/20\n",
            "5559/5559 [==============================] - 15s 3ms/step - loss: 0.0544 - acc: 0.9752 - val_loss: 0.4203 - val_acc: 0.8755\n",
            "\n",
            "Epoch 00007: val_acc did not improve from 0.88058\n",
            "Epoch 8/20\n",
            "5559/5559 [==============================] - 15s 3ms/step - loss: 0.0591 - acc: 0.9775 - val_loss: 0.7698 - val_acc: 0.8288\n",
            "\n",
            "Epoch 00008: val_acc did not improve from 0.88058\n",
            "Epoch 9/20\n",
            "5559/5559 [==============================] - 15s 3ms/step - loss: 0.0494 - acc: 0.9791 - val_loss: 0.5267 - val_acc: 0.8741\n",
            "\n",
            "Epoch 00009: val_acc did not improve from 0.88058\n",
            "Epoch 10/20\n",
            "5559/5559 [==============================] - 15s 3ms/step - loss: 0.0402 - acc: 0.9818 - val_loss: 0.5958 - val_acc: 0.8647\n",
            "\n",
            "Epoch 00010: val_acc did not improve from 0.88058\n",
            "Epoch 11/20\n",
            "5559/5559 [==============================] - 15s 3ms/step - loss: 0.0377 - acc: 0.9826 - val_loss: 0.6343 - val_acc: 0.8748\n",
            "\n",
            "Epoch 00011: val_acc did not improve from 0.88058\n",
            "Epoch 12/20\n",
            "5559/5559 [==============================] - 15s 3ms/step - loss: 0.0463 - acc: 0.9800 - val_loss: 0.6647 - val_acc: 0.8612\n",
            "\n",
            "Epoch 00012: val_acc did not improve from 0.88058\n",
            "Epoch 13/20\n",
            "5559/5559 [==============================] - 15s 3ms/step - loss: 0.0464 - acc: 0.9786 - val_loss: 0.5577 - val_acc: 0.8755\n",
            "\n",
            "Epoch 00013: val_acc did not improve from 0.88058\n",
            "Epoch 14/20\n",
            "5559/5559 [==============================] - 15s 3ms/step - loss: 0.0469 - acc: 0.9808 - val_loss: 0.6900 - val_acc: 0.8583\n",
            "\n",
            "Epoch 00014: val_acc did not improve from 0.88058\n",
            "Epoch 15/20\n",
            "5559/5559 [==============================] - 15s 3ms/step - loss: 0.0405 - acc: 0.9815 - val_loss: 0.5562 - val_acc: 0.8849\n",
            "\n",
            "Epoch 00015: val_acc improved from 0.88058 to 0.88489, saving model to /content/drive/My Drive/Machine Learning Projects/FAKE VS REAL NEWS CATEGORY CLASSIFIER PROJECT/SOURCE CODES AND DATASETS/PACKAGE 2 - SOURCE CODES AND FILES/Pretrained Models/FAKENEWS_CNN_MODEL.h5\n",
            "Epoch 16/20\n",
            "5559/5559 [==============================] - 15s 3ms/step - loss: 0.0447 - acc: 0.9806 - val_loss: 0.5815 - val_acc: 0.8827\n",
            "\n",
            "Epoch 00016: val_acc did not improve from 0.88489\n",
            "Epoch 17/20\n",
            "5559/5559 [==============================] - 15s 3ms/step - loss: 0.0345 - acc: 0.9824 - val_loss: 0.5612 - val_acc: 0.8791\n",
            "\n",
            "Epoch 00017: val_acc did not improve from 0.88489\n",
            "Epoch 18/20\n",
            "5559/5559 [==============================] - 15s 3ms/step - loss: 0.0402 - acc: 0.9824 - val_loss: 0.5161 - val_acc: 0.8777\n",
            "\n",
            "Epoch 00018: val_acc did not improve from 0.88489\n",
            "Epoch 19/20\n",
            "5559/5559 [==============================] - 15s 3ms/step - loss: 0.0419 - acc: 0.9800 - val_loss: 0.6283 - val_acc: 0.8511\n",
            "\n",
            "Epoch 00019: val_acc did not improve from 0.88489\n",
            "Epoch 20/20\n",
            "5559/5559 [==============================] - 15s 3ms/step - loss: 0.0446 - acc: 0.9808 - val_loss: 0.5261 - val_acc: 0.8763\n",
            "\n",
            "Epoch 00020: val_acc did not improve from 0.88489\n",
            "CPU times: user 3min 10s, sys: 1min 34s, total: 4min 44s\n",
            "Wall time: 5min 17s\n"
          ],
          "name": "stdout"
        }
      ]
    },
    {
      "cell_type": "code",
      "metadata": {
        "id": "-Pv2-d3DC3n3",
        "colab_type": "code",
        "colab": {}
      },
      "source": [
        "model.save_weights(\"/content/drive/My Drive/Machine Learning Projects/FAKE VS REAL NEWS CATEGORY CLASSIFIER PROJECT/SOURCE CODES AND DATASETS/PACKAGE 2 - SOURCE CODES AND FILES/Pretrained Models/reloader_weights.h5\")\n",
        "print(\"Saved model to disk\")"
      ],
      "execution_count": null,
      "outputs": []
    },
    {
      "cell_type": "code",
      "metadata": {
        "id": "eUiPhP9fAFcu",
        "colab_type": "code",
        "colab": {
          "base_uri": "https://localhost:8080/",
          "height": 585
        },
        "outputId": "efaea880-e462-4b43-b1c5-8f5f0a7389c8"
      },
      "source": [
        "from sklearn import metrics\n",
        "loss, accuracy = model.evaluate(X_train, y_train, verbose=False)\n",
        "print(\"Training Accuracy: {:.4f}\".format(accuracy))\n",
        "loss, accuracy = model.evaluate(X_test, y_test, verbose=False)\n",
        "print(\"Testing Accuracy:  {:.4f}\".format(accuracy))\n",
        "\n",
        "print(\"CONFUSION MATRIX\")\n",
        "pred = model.predict(X_test)\n",
        "cm = metrics.confusion_matrix(np.argmax(y_test, axis= 1),np.argmax(pred, axis = 1), labels=[0,1]) # 'FAKE','REAL'\n",
        "print(cm)\n",
        "\n",
        "#CONFUSION MATRIX\n",
        "#[578  77]\n",
        "#[ 72 663]\n",
        "\n",
        "print(classification_report(y_test.argmax(axis=1),pred.argmax(axis=1), target_names=['FAKE','REAL']))\n",
        "plot_history(history)"
      ],
      "execution_count": null,
      "outputs": [
        {
          "output_type": "stream",
          "text": [
            "Training Accuracy: 0.9849\n",
            "Testing Accuracy:  0.8763\n",
            "CONFUSION MATRIX\n",
            "[[585  70]\n",
            " [102 633]]\n",
            "              precision    recall  f1-score   support\n",
            "\n",
            "        FAKE       0.85      0.89      0.87       655\n",
            "        REAL       0.90      0.86      0.88       735\n",
            "\n",
            "    accuracy                           0.88      1390\n",
            "   macro avg       0.88      0.88      0.88      1390\n",
            "weighted avg       0.88      0.88      0.88      1390\n",
            "\n"
          ],
          "name": "stdout"
        },
        {
          "output_type": "display_data",
          "data": {
            "image/png": "[encoded data removed]",
            "text/plain": [
              "<Figure size 864x360 with 2 Axes>"
            ]
          },
          "metadata": {
            "tags": []
          }
        }
      ]
    },
    {
      "cell_type": "markdown",
      "metadata": {
        "id": "ryj5atOJU6Dd",
        "colab_type": "text"
      },
      "source": [
        "# CONCATTED CONVOLUTIONAL MULTI MODEL ARCHITECTURE"
      ]
    },
    {
      "cell_type": "code",
      "metadata": {
        "id": "0uRtU_arIxZZ",
        "colab_type": "code",
        "colab": {}
      },
      "source": [
        "'''\n",
        "from tensorflow.keras.models import Sequential\n",
        "from tensorflow.keras import layers\n",
        "from keras.layers import Dense, Flatten, Conv1D, Dropout, BatchNormalization\n",
        "from keras.layers import MaxPooling1D\n",
        "from keras.layers.embeddings import Embedding\n",
        "from keras.preprocessing import sequence\n",
        "from keras.utils.vis_utils import plot_model\n",
        "from keras.layers.merge import concatenate\n",
        "from keras import *\n",
        "from keras.callbacks import *\n",
        "\n",
        "def model_arc1(length, vocab_size):\n",
        "  embedding_dim = 500\n",
        "\n",
        "  # channel 1\n",
        "\n",
        "  inputs1 = Input(shape=(length,))\n",
        "  embedding1 = Embedding(input_dim = vocab_size, output_dim = embedding_dim)(inputs1)\n",
        "  conv1 = Conv1D(filters=32, kernel_size=3, activation='relu')(embedding1)\n",
        "  pool1 = MaxPooling1D(pool_size=2)(conv1)\n",
        "  flat1 = Flatten()(pool1)\n",
        "\n",
        "  # channel 2\n",
        "\n",
        "  inputs2 = Input(shape=(length,))\n",
        "  embedding2 = Embedding(input_dim = vocab_size, output_dim = embedding_dim)(inputs2)\n",
        "  conv2 = Conv1D(filters=64, kernel_size=4, activation='relu')(embedding2)\n",
        "  pool2 = MaxPooling1D(pool_size=2)(conv2)\n",
        "  flat2 = Flatten()(pool2)\n",
        "\n",
        "  # channel 3\n",
        "\n",
        "  inputs3 = Input(shape=(length,))\n",
        "  embedding3 = Embedding(input_dim = vocab_size, output_dim = embedding_dim)(inputs3)\n",
        "  conv3 = Conv1D(filters=256, kernel_size=5, activation='relu')(embedding3)\n",
        "  pool3 = MaxPooling1D(pool_size=2)(conv3)\n",
        "  flat3 = Flatten()(pool3)\n",
        "\n",
        "# merge\n",
        "  merged = concatenate([flat1, flat2, flat3])\n",
        "\n",
        "# interpretation\n",
        "  bn1 = BatchNormalization()(merged)\n",
        "\n",
        "  dense1 = Dense(512, activation='relu')(bn1)\n",
        "  bn1 = BatchNormalization()(dense1)\n",
        "  drop4 = Dropout(0.5)(bn1)\n",
        "  outputs = Dense(2, activation='softmax')(drop4)\n",
        "  model = Model(inputs=[inputs1, inputs2, inputs3], outputs=outputs)\n",
        "\n",
        "# compile\n",
        "  model.compile(loss='binary_crossentropy', optimizer='adam', metrics=['accuracy'])\n",
        "  #plot_model(model, show_shapes=True, to_file='/content/drive/My Drive/Machine Learning Projects/FAKE VS REAL NEWS CATEGORY CLASSIFIER PROJECT/SOURCE CODES AND DATASETS/PACKAGE 2 - SOURCE CODES AND FILES/Pretrained Models/model_concatted_convolution.png')\n",
        "\n",
        "  return model\n",
        "\n",
        "def model_arc2(length, vocab_size):\n",
        "  embedding_dim = 500\n",
        "\n",
        "  # channel 1\n",
        "  inputs1 = Input(shape=(length,))\n",
        "  embedding1 = Embedding(input_dim = vocab_size, output_dim = embedding_dim)(inputs1)\n",
        "  conv1 = Conv1D(filters=32, kernel_size=4, activation='relu')(embedding1)\n",
        "  drop1 = Dropout(0.5)(conv1)\n",
        "  pool1 = MaxPooling1D(pool_size=2)(drop1)\n",
        "  flat1 = Flatten()(pool1)\n",
        "  # channel 2\n",
        "  inputs2 = Input(shape=(length,))\n",
        "  embedding2 = Embedding(input_dim = vocab_size, output_dim = embedding_dim)(inputs2)\n",
        "  conv2 = Conv1D(filters=32, kernel_size=6, activation='relu')(embedding2)\n",
        "  drop2 = Dropout(0.5)(conv2)\n",
        "  pool2 = MaxPooling1D(pool_size=2)(drop2)\n",
        "  flat2 = Flatten()(pool2)\n",
        "  # channel 3\n",
        "  inputs3 = Input(shape=(length,))\n",
        "  embedding3 = Embedding(input_dim = vocab_size, output_dim = embedding_dim)(inputs3)\n",
        "  conv3 = Conv1D(filters=32, kernel_size=8, activation='relu')(embedding3)\n",
        "  drop3 = Dropout(0.5)(conv3)\n",
        "  pool3 = MaxPooling1D(pool_size=2)(drop3)\n",
        "  flat3 = Flatten()(pool3)\n",
        "  # merge\n",
        "  merged = concatenate([flat1, flat2, flat3])\n",
        "  # interpretation\n",
        "  dense1 = Dense(10, activation='relu')(merged)\n",
        "  outputs = Dense(2, activation='softmax')(dense1)\n",
        "  model = Model(inputs=[inputs1, inputs2, inputs3], outputs=outputs)\n",
        "  # compile\n",
        "  model.compile(loss='binary_crossentropy', optimizer='adam', metrics=['accuracy'])\n",
        "  # summarize\n",
        "  #model.summary()\n",
        "  #plot_model(model, show_shapes=True, to_file='model.png')\n",
        "  return model\n",
        "\n",
        "\n",
        "# Initial Filters are 32 , 32 , 32 : \"Acc \" - 98.7 & 89 %\n",
        "\n",
        "'''"
      ],
      "execution_count": null,
      "outputs": []
    },
    {
      "cell_type": "code",
      "metadata": {
        "id": "JFsQcaFXMJyG",
        "colab_type": "code",
        "colab": {
          "base_uri": "https://localhost:8080/",
          "height": 496
        },
        "outputId": "82229d51-0d80-4b70-8206-c388c8c8c8e8"
      },
      "source": [
        "%%time\n",
        "model_concat = model_arc1(maxlen, vocab_size)\n",
        "\n",
        "print()\n",
        "red_lr= ReduceLROnPlateau(monitor='val_loss', patience = 5 , verbose = 2 , factor = 0.5 , min_delta = 0.01 )\n",
        "check=ModelCheckpoint(filepath=r'/content/drive/My Drive/Machine Learning Projects/FAKE VS REAL NEWS CATEGORY CLASSIFIER PROJECT/SOURCE CODES AND DATASETS/PACKAGE 2 - SOURCE CODES AND FILES/Pretrained Models/FAKENEWS_CNN_CONCAT_MODELx2.h5', verbose=1 , monitor='val_acc',save_best_only=True, mode='max')\n",
        "\n",
        "history = model_concat.fit([X_train,X_train,X_train], y_train , epochs = 10 , verbose = 2 , callbacks = [red_lr, check], validation_data=([X_test,X_test,X_test], y_test), batch_size= 12)\n",
        "\n",
        "model_concat.summary"
      ],
      "execution_count": null,
      "outputs": [
        {
          "output_type": "stream",
          "text": [
            "\n",
            "Train on 5211 samples, validate on 1738 samples\n",
            "Epoch 1/10\n"
          ],
          "name": "stdout"
        },
        {
          "output_type": "error",
          "ename": "ResourceExhaustedError",
          "evalue": "ignored",
          "traceback": [
            "\u001b[0;31m---------------------------------------------------------------------------\u001b[0m",
            "\u001b[0;31mResourceExhaustedError\u001b[0m                    Traceback (most recent call last)",
            "\u001b[0;32m<ipython-input-34-8befaf742c3b>\u001b[0m in \u001b[0;36m<module>\u001b[0;34m()\u001b[0m\n\u001b[0;32m----> 1\u001b[0;31m \u001b[0mget_ipython\u001b[0m\u001b[0;34m(\u001b[0m\u001b[0;34m)\u001b[0m\u001b[0;34m.\u001b[0m\u001b[0mrun_cell_magic\u001b[0m\u001b[0;34m(\u001b[0m\u001b[0;34m'time'\u001b[0m\u001b[0;34m,\u001b[0m \u001b[0;34m''\u001b[0m\u001b[0;34m,\u001b[0m \u001b[0;34m\"model_concat = model_arc1(maxlen, vocab_size)\\n\\nprint()\\nred_lr= ReduceLROnPlateau(monitor='val_loss', patience = 5 , verbose = 2 , factor = 0.5 , min_delta = 0.01 )\\ncheck=ModelCheckpoint(filepath=r'/content/drive/My Drive/Machine Learning Projects/FAKE VS REAL NEWS CATEGORY CLASSIFIER PROJECT/SOURCE CODES AND DATASETS/PACKAGE 2 - SOURCE CODES AND FILES/Pretrained Models/FAKENEWS_CNN_CONCAT_MODELx2.h5', verbose=1 , monitor='val_acc',save_best_only=True, mode='max')\\n\\nhistory = model_concat.fit([X_train,X_train,X_train], y_train , epochs = 10 , verbose = 2 , callbacks = [red_lr, check], validation_data=([X_test,X_test,X_test], y_test), batch_size= 12)\\n\\nmodel_concat.summary\"\u001b[0m\u001b[0;34m)\u001b[0m\u001b[0;34m\u001b[0m\u001b[0;34m\u001b[0m\u001b[0m\n\u001b[0m",
            "\u001b[0;32m/usr/local/lib/python3.6/dist-packages/IPython/core/interactiveshell.py\u001b[0m in \u001b[0;36mrun_cell_magic\u001b[0;34m(self, magic_name, line, cell)\u001b[0m\n\u001b[1;32m   2115\u001b[0m             \u001b[0mmagic_arg_s\u001b[0m \u001b[0;34m=\u001b[0m \u001b[0mself\u001b[0m\u001b[0;34m.\u001b[0m\u001b[0mvar_expand\u001b[0m\u001b[0;34m(\u001b[0m\u001b[0mline\u001b[0m\u001b[0;34m,\u001b[0m \u001b[0mstack_depth\u001b[0m\u001b[0;34m)\u001b[0m\u001b[0;34m\u001b[0m\u001b[0;34m\u001b[0m\u001b[0m\n\u001b[1;32m   2116\u001b[0m             \u001b[0;32mwith\u001b[0m \u001b[0mself\u001b[0m\u001b[0;34m.\u001b[0m\u001b[0mbuiltin_trap\u001b[0m\u001b[0;34m:\u001b[0m\u001b[0;34m\u001b[0m\u001b[0;34m\u001b[0m\u001b[0m\n\u001b[0;32m-> 2117\u001b[0;31m                 \u001b[0mresult\u001b[0m \u001b[0;34m=\u001b[0m \u001b[0mfn\u001b[0m\u001b[0;34m(\u001b[0m\u001b[0mmagic_arg_s\u001b[0m\u001b[0;34m,\u001b[0m \u001b[0mcell\u001b[0m\u001b[0;34m)\u001b[0m\u001b[0;34m\u001b[0m\u001b[0;34m\u001b[0m\u001b[0m\n\u001b[0m\u001b[1;32m   2118\u001b[0m             \u001b[0;32mreturn\u001b[0m \u001b[0mresult\u001b[0m\u001b[0;34m\u001b[0m\u001b[0;34m\u001b[0m\u001b[0m\n\u001b[1;32m   2119\u001b[0m \u001b[0;34m\u001b[0m\u001b[0m\n",
            "\u001b[0;32m</usr/local/lib/python3.6/dist-packages/decorator.py:decorator-gen-60>\u001b[0m in \u001b[0;36mtime\u001b[0;34m(self, line, cell, local_ns)\u001b[0m\n",
            "\u001b[0;32m/usr/local/lib/python3.6/dist-packages/IPython/core/magic.py\u001b[0m in \u001b[0;36m<lambda>\u001b[0;34m(f, *a, **k)\u001b[0m\n\u001b[1;32m    186\u001b[0m     \u001b[0;31m# but it's overkill for just that one bit of state.\u001b[0m\u001b[0;34m\u001b[0m\u001b[0;34m\u001b[0m\u001b[0;34m\u001b[0m\u001b[0m\n\u001b[1;32m    187\u001b[0m     \u001b[0;32mdef\u001b[0m \u001b[0mmagic_deco\u001b[0m\u001b[0;34m(\u001b[0m\u001b[0marg\u001b[0m\u001b[0;34m)\u001b[0m\u001b[0;34m:\u001b[0m\u001b[0;34m\u001b[0m\u001b[0;34m\u001b[0m\u001b[0m\n\u001b[0;32m--> 188\u001b[0;31m         \u001b[0mcall\u001b[0m \u001b[0;34m=\u001b[0m \u001b[0;32mlambda\u001b[0m \u001b[0mf\u001b[0m\u001b[0;34m,\u001b[0m \u001b[0;34m*\u001b[0m\u001b[0ma\u001b[0m\u001b[0;34m,\u001b[0m \u001b[0;34m**\u001b[0m\u001b[0mk\u001b[0m\u001b[0;34m:\u001b[0m \u001b[0mf\u001b[0m\u001b[0;34m(\u001b[0m\u001b[0;34m*\u001b[0m\u001b[0ma\u001b[0m\u001b[0;34m,\u001b[0m \u001b[0;34m**\u001b[0m\u001b[0mk\u001b[0m\u001b[0;34m)\u001b[0m\u001b[0;34m\u001b[0m\u001b[0;34m\u001b[0m\u001b[0m\n\u001b[0m\u001b[1;32m    189\u001b[0m \u001b[0;34m\u001b[0m\u001b[0m\n\u001b[1;32m    190\u001b[0m         \u001b[0;32mif\u001b[0m \u001b[0mcallable\u001b[0m\u001b[0;34m(\u001b[0m\u001b[0marg\u001b[0m\u001b[0;34m)\u001b[0m\u001b[0;34m:\u001b[0m\u001b[0;34m\u001b[0m\u001b[0;34m\u001b[0m\u001b[0m\n",
            "\u001b[0;32m/usr/local/lib/python3.6/dist-packages/IPython/core/magics/execution.py\u001b[0m in \u001b[0;36mtime\u001b[0;34m(self, line, cell, local_ns)\u001b[0m\n\u001b[1;32m   1191\u001b[0m         \u001b[0;32melse\u001b[0m\u001b[0;34m:\u001b[0m\u001b[0;34m\u001b[0m\u001b[0;34m\u001b[0m\u001b[0m\n\u001b[1;32m   1192\u001b[0m             \u001b[0mst\u001b[0m \u001b[0;34m=\u001b[0m \u001b[0mclock2\u001b[0m\u001b[0;34m(\u001b[0m\u001b[0;34m)\u001b[0m\u001b[0;34m\u001b[0m\u001b[0;34m\u001b[0m\u001b[0m\n\u001b[0;32m-> 1193\u001b[0;31m             \u001b[0mexec\u001b[0m\u001b[0;34m(\u001b[0m\u001b[0mcode\u001b[0m\u001b[0;34m,\u001b[0m \u001b[0mglob\u001b[0m\u001b[0;34m,\u001b[0m \u001b[0mlocal_ns\u001b[0m\u001b[0;34m)\u001b[0m\u001b[0;34m\u001b[0m\u001b[0;34m\u001b[0m\u001b[0m\n\u001b[0m\u001b[1;32m   1194\u001b[0m             \u001b[0mend\u001b[0m \u001b[0;34m=\u001b[0m \u001b[0mclock2\u001b[0m\u001b[0;34m(\u001b[0m\u001b[0;34m)\u001b[0m\u001b[0;34m\u001b[0m\u001b[0;34m\u001b[0m\u001b[0m\n\u001b[1;32m   1195\u001b[0m             \u001b[0mout\u001b[0m \u001b[0;34m=\u001b[0m \u001b[0;32mNone\u001b[0m\u001b[0;34m\u001b[0m\u001b[0;34m\u001b[0m\u001b[0m\n",
            "\u001b[0;32m<timed exec>\u001b[0m in \u001b[0;36m<module>\u001b[0;34m()\u001b[0m\n",
            "\u001b[0;32m/usr/local/lib/python3.6/dist-packages/keras/engine/training.py\u001b[0m in \u001b[0;36mfit\u001b[0;34m(self, x, y, batch_size, epochs, verbose, callbacks, validation_split, validation_data, shuffle, class_weight, sample_weight, initial_epoch, steps_per_epoch, validation_steps, validation_freq, max_queue_size, workers, use_multiprocessing, **kwargs)\u001b[0m\n\u001b[1;32m   1176\u001b[0m                                         \u001b[0msteps_per_epoch\u001b[0m\u001b[0;34m=\u001b[0m\u001b[0msteps_per_epoch\u001b[0m\u001b[0;34m,\u001b[0m\u001b[0;34m\u001b[0m\u001b[0;34m\u001b[0m\u001b[0m\n\u001b[1;32m   1177\u001b[0m                                         \u001b[0mvalidation_steps\u001b[0m\u001b[0;34m=\u001b[0m\u001b[0mvalidation_steps\u001b[0m\u001b[0;34m,\u001b[0m\u001b[0;34m\u001b[0m\u001b[0;34m\u001b[0m\u001b[0m\n\u001b[0;32m-> 1178\u001b[0;31m                                         validation_freq=validation_freq)\n\u001b[0m\u001b[1;32m   1179\u001b[0m \u001b[0;34m\u001b[0m\u001b[0m\n\u001b[1;32m   1180\u001b[0m     def evaluate(self,\n",
            "\u001b[0;32m/usr/local/lib/python3.6/dist-packages/keras/engine/training_arrays.py\u001b[0m in \u001b[0;36mfit_loop\u001b[0;34m(model, fit_function, fit_inputs, out_labels, batch_size, epochs, verbose, callbacks, val_function, val_inputs, shuffle, callback_metrics, initial_epoch, steps_per_epoch, validation_steps, validation_freq)\u001b[0m\n\u001b[1;32m    202\u001b[0m                     \u001b[0mins_batch\u001b[0m\u001b[0;34m[\u001b[0m\u001b[0mi\u001b[0m\u001b[0;34m]\u001b[0m \u001b[0;34m=\u001b[0m \u001b[0mins_batch\u001b[0m\u001b[0;34m[\u001b[0m\u001b[0mi\u001b[0m\u001b[0;34m]\u001b[0m\u001b[0;34m.\u001b[0m\u001b[0mtoarray\u001b[0m\u001b[0;34m(\u001b[0m\u001b[0;34m)\u001b[0m\u001b[0;34m\u001b[0m\u001b[0;34m\u001b[0m\u001b[0m\n\u001b[1;32m    203\u001b[0m \u001b[0;34m\u001b[0m\u001b[0m\n\u001b[0;32m--> 204\u001b[0;31m                 \u001b[0mouts\u001b[0m \u001b[0;34m=\u001b[0m \u001b[0mfit_function\u001b[0m\u001b[0;34m(\u001b[0m\u001b[0mins_batch\u001b[0m\u001b[0;34m)\u001b[0m\u001b[0;34m\u001b[0m\u001b[0;34m\u001b[0m\u001b[0m\n\u001b[0m\u001b[1;32m    205\u001b[0m                 \u001b[0mouts\u001b[0m \u001b[0;34m=\u001b[0m \u001b[0mto_list\u001b[0m\u001b[0;34m(\u001b[0m\u001b[0mouts\u001b[0m\u001b[0;34m)\u001b[0m\u001b[0;34m\u001b[0m\u001b[0;34m\u001b[0m\u001b[0m\n\u001b[1;32m    206\u001b[0m                 \u001b[0;32mfor\u001b[0m \u001b[0ml\u001b[0m\u001b[0;34m,\u001b[0m \u001b[0mo\u001b[0m \u001b[0;32min\u001b[0m \u001b[0mzip\u001b[0m\u001b[0;34m(\u001b[0m\u001b[0mout_labels\u001b[0m\u001b[0;34m,\u001b[0m \u001b[0mouts\u001b[0m\u001b[0;34m)\u001b[0m\u001b[0;34m:\u001b[0m\u001b[0;34m\u001b[0m\u001b[0;34m\u001b[0m\u001b[0m\n",
            "\u001b[0;32m/usr/local/lib/python3.6/dist-packages/keras/backend/tensorflow_backend.py\u001b[0m in \u001b[0;36m__call__\u001b[0;34m(self, inputs)\u001b[0m\n\u001b[1;32m   2977\u001b[0m                     \u001b[0;32mreturn\u001b[0m \u001b[0mself\u001b[0m\u001b[0;34m.\u001b[0m\u001b[0m_legacy_call\u001b[0m\u001b[0;34m(\u001b[0m\u001b[0minputs\u001b[0m\u001b[0;34m)\u001b[0m\u001b[0;34m\u001b[0m\u001b[0;34m\u001b[0m\u001b[0m\n\u001b[1;32m   2978\u001b[0m \u001b[0;34m\u001b[0m\u001b[0m\n\u001b[0;32m-> 2979\u001b[0;31m             \u001b[0;32mreturn\u001b[0m \u001b[0mself\u001b[0m\u001b[0;34m.\u001b[0m\u001b[0m_call\u001b[0m\u001b[0;34m(\u001b[0m\u001b[0minputs\u001b[0m\u001b[0;34m)\u001b[0m\u001b[0;34m\u001b[0m\u001b[0;34m\u001b[0m\u001b[0m\n\u001b[0m\u001b[1;32m   2980\u001b[0m         \u001b[0;32melse\u001b[0m\u001b[0;34m:\u001b[0m\u001b[0;34m\u001b[0m\u001b[0;34m\u001b[0m\u001b[0m\n\u001b[1;32m   2981\u001b[0m             \u001b[0;32mif\u001b[0m \u001b[0mpy_any\u001b[0m\u001b[0;34m(\u001b[0m\u001b[0mis_tensor\u001b[0m\u001b[0;34m(\u001b[0m\u001b[0mx\u001b[0m\u001b[0;34m)\u001b[0m \u001b[0;32mfor\u001b[0m \u001b[0mx\u001b[0m \u001b[0;32min\u001b[0m \u001b[0minputs\u001b[0m\u001b[0;34m)\u001b[0m\u001b[0;34m:\u001b[0m\u001b[0;34m\u001b[0m\u001b[0;34m\u001b[0m\u001b[0m\n",
            "\u001b[0;32m/usr/local/lib/python3.6/dist-packages/keras/backend/tensorflow_backend.py\u001b[0m in \u001b[0;36m_call\u001b[0;34m(self, inputs)\u001b[0m\n\u001b[1;32m   2935\u001b[0m             \u001b[0mfetched\u001b[0m \u001b[0;34m=\u001b[0m \u001b[0mself\u001b[0m\u001b[0;34m.\u001b[0m\u001b[0m_callable_fn\u001b[0m\u001b[0;34m(\u001b[0m\u001b[0;34m*\u001b[0m\u001b[0marray_vals\u001b[0m\u001b[0;34m,\u001b[0m \u001b[0mrun_metadata\u001b[0m\u001b[0;34m=\u001b[0m\u001b[0mself\u001b[0m\u001b[0;34m.\u001b[0m\u001b[0mrun_metadata\u001b[0m\u001b[0;34m)\u001b[0m\u001b[0;34m\u001b[0m\u001b[0;34m\u001b[0m\u001b[0m\n\u001b[1;32m   2936\u001b[0m         \u001b[0;32melse\u001b[0m\u001b[0;34m:\u001b[0m\u001b[0;34m\u001b[0m\u001b[0;34m\u001b[0m\u001b[0m\n\u001b[0;32m-> 2937\u001b[0;31m             \u001b[0mfetched\u001b[0m \u001b[0;34m=\u001b[0m \u001b[0mself\u001b[0m\u001b[0;34m.\u001b[0m\u001b[0m_callable_fn\u001b[0m\u001b[0;34m(\u001b[0m\u001b[0;34m*\u001b[0m\u001b[0marray_vals\u001b[0m\u001b[0;34m)\u001b[0m\u001b[0;34m\u001b[0m\u001b[0;34m\u001b[0m\u001b[0m\n\u001b[0m\u001b[1;32m   2938\u001b[0m         \u001b[0;32mreturn\u001b[0m \u001b[0mfetched\u001b[0m\u001b[0;34m[\u001b[0m\u001b[0;34m:\u001b[0m\u001b[0mlen\u001b[0m\u001b[0;34m(\u001b[0m\u001b[0mself\u001b[0m\u001b[0;34m.\u001b[0m\u001b[0moutputs\u001b[0m\u001b[0;34m)\u001b[0m\u001b[0;34m]\u001b[0m\u001b[0;34m\u001b[0m\u001b[0;34m\u001b[0m\u001b[0m\n\u001b[1;32m   2939\u001b[0m \u001b[0;34m\u001b[0m\u001b[0m\n",
            "\u001b[0;32m/usr/local/lib/python3.6/dist-packages/tensorflow_core/python/client/session.py\u001b[0m in \u001b[0;36m__call__\u001b[0;34m(self, *args, **kwargs)\u001b[0m\n\u001b[1;32m   1470\u001b[0m         ret = tf_session.TF_SessionRunCallable(self._session._session,\n\u001b[1;32m   1471\u001b[0m                                                \u001b[0mself\u001b[0m\u001b[0;34m.\u001b[0m\u001b[0m_handle\u001b[0m\u001b[0;34m,\u001b[0m \u001b[0margs\u001b[0m\u001b[0;34m,\u001b[0m\u001b[0;34m\u001b[0m\u001b[0;34m\u001b[0m\u001b[0m\n\u001b[0;32m-> 1472\u001b[0;31m                                                run_metadata_ptr)\n\u001b[0m\u001b[1;32m   1473\u001b[0m         \u001b[0;32mif\u001b[0m \u001b[0mrun_metadata\u001b[0m\u001b[0;34m:\u001b[0m\u001b[0;34m\u001b[0m\u001b[0;34m\u001b[0m\u001b[0m\n\u001b[1;32m   1474\u001b[0m           \u001b[0mproto_data\u001b[0m \u001b[0;34m=\u001b[0m \u001b[0mtf_session\u001b[0m\u001b[0;34m.\u001b[0m\u001b[0mTF_GetBuffer\u001b[0m\u001b[0;34m(\u001b[0m\u001b[0mrun_metadata_ptr\u001b[0m\u001b[0;34m)\u001b[0m\u001b[0;34m\u001b[0m\u001b[0;34m\u001b[0m\u001b[0m\n",
            "\u001b[0;31mResourceExhaustedError\u001b[0m: OOM when allocating tensor with shape[175328,512] and type float on /job:localhost/replica:0/task:0/device:GPU:0 by allocator GPU_0_bfc\n\t [[{{node training_2/Adam/mul_57}}]]\nHint: If you want to see a list of allocated tensors when OOM happens, add report_tensor_allocations_upon_oom to RunOptions for current allocation info.\n"
          ]
        }
      ]
    },
    {
      "cell_type": "code",
      "metadata": {
        "id": "81KBypVZVBbc",
        "colab_type": "code",
        "colab": {}
      },
      "source": [
        "loss, accuracy = model_concat.evaluate([X_train,X_train,X_train], y_train, verbose=False)\n",
        "print(\"Training Accuracy: {:.4f}\".format(accuracy))\n",
        "loss, accuracy = model_concat.evaluate([X_test,X_test,X_test], y_test, verbose=False)\n",
        "print(\"Testing Accuracy:  {:.4f}\".format(accuracy))"
      ],
      "execution_count": null,
      "outputs": []
    },
    {
      "cell_type": "code",
      "metadata": {
        "id": "8N3dgEGQ09pC",
        "colab_type": "code",
        "colab": {}
      },
      "source": [
        "from sklearn import metrics\n",
        "\n",
        "print(\"CONFUSION MATRIX\")\n",
        "pred = model_concat.predict([X_test,X_test,X_test])\n",
        "cm = metrics.confusion_matrix(np.argmax(y_test, axis= 1),np.argmax(pred, axis = 1), labels=[0,1]) # 'FAKE','REAL'\n",
        "print(cm)\n",
        "\n",
        "#CONFUSION MATRIX\n",
        "#[777  50]\n",
        "#[152 759]"
      ],
      "execution_count": null,
      "outputs": []
    },
    {
      "cell_type": "code",
      "metadata": {
        "id": "PLkdFtqZhMfI",
        "colab_type": "code",
        "colab": {
          "base_uri": "https://localhost:8080/",
          "height": 354
        },
        "outputId": "fc4d78f3-491c-4ba3-8405-eafec82eb76f"
      },
      "source": [
        "acc = history.history['acc']\n",
        "val_acc = history.history['val_acc']\n",
        "loss = history.history['loss']\n",
        "val_loss = history.history['val_loss']\n",
        "x = range(1, len(acc) + 1)\n",
        "\n",
        "plt.figure(figsize=(12, 5))\n",
        "plt.subplot(1, 2, 1)\n",
        "plt.plot(x, acc, 'b', label='Training acc')\n",
        "plt.plot(x, val_acc, 'r', label='Validation acc')\n",
        "plt.title('Training and validation accuracy')\n",
        "plt.legend()\n",
        "plt.subplot(1, 2, 2)\n",
        "plt.plot(x, loss, 'b', label='Training loss')\n",
        "plt.plot(x, val_loss, 'r', label='Validation loss')\n",
        "plt.title('Training and validation loss')\n",
        "plt.legend()"
      ],
      "execution_count": null,
      "outputs": [
        {
          "output_type": "execute_result",
          "data": {
            "text/plain": [
              "<matplotlib.legend.Legend at 0x7f99e0711978>"
            ]
          },
          "metadata": {
            "tags": []
          },
          "execution_count": 33
        },
        {
          "output_type": "display_data",
          "data": {
            "image/png": "[encoded data removed]",
            "text/plain": [
              "<Figure size 864x360 with 2 Axes>"
            ]
          },
          "metadata": {
            "tags": []
          }
        }
      ]
    },
    {
      "cell_type": "code",
      "metadata": {
        "id": "9VNuWfx4AJzw",
        "colab_type": "code",
        "colab": {}
      },
      "source": [
        ""
      ],
      "execution_count": null,
      "outputs": []
    }
  ]
}