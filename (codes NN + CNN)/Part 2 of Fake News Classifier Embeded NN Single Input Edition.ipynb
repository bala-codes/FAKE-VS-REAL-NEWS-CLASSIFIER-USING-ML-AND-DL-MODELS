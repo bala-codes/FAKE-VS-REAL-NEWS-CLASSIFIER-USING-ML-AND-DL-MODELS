{
  "nbformat": 4,
  "nbformat_minor": 0,
  "metadata": {
    "colab": {
      "name": "Part 2.2 of Fake News Classifier - Embeded Neural Networks-Single Input Edition.ipynb",
      "provenance": [],
      "collapsed_sections": [],
      "toc_visible": true,
      "include_colab_link": true
    },
    "kernelspec": {
      "name": "python3",
      "display_name": "Python 3"
    }
  },
  "cells": [
    {
      "cell_type": "markdown",
      "metadata": {
        "id": "view-in-github",
        "colab_type": "text"
      },
      "source": [
        "<a href=\"https://colab.research.google.com/github/bala-codes/FAKE-VS-REAL-NEWS-CLASSIFIER-USING-ML-AND-DL-MODELS/blob/master/(codes%20NN%20%2B%20CNN)/Part%202%20of%20Fake%20News%20Classifier%20Embeded%20NN%20Single%20Input%20Edition.ipynb\" target=\"_parent\"><img src=\"https://colab.research.google.com/assets/colab-badge.svg\" alt=\"Open In Colab\"/></a>"
      ]
    },
    {
      "cell_type": "code",
      "metadata": {
        "id": "HyEV8MJe4Ek9",
        "colab_type": "code",
        "colab": {
          "base_uri": "https://localhost:8080/",
          "height": 125
        },
        "outputId": "0a820d54-389a-4220-c1a4-73af97f8d0d9"
      },
      "source": [
        "from google.colab import drive\n",
        "drive.mount('/content/drive')"
      ],
      "execution_count": null,
      "outputs": [
        {
          "output_type": "stream",
          "text": [
            "Go to this URL in a browser: https://accounts.google.com/o/oauth2/auth?client_id=947318989803-6bn6qk8qdgf4n4g3pfee6491hc0brc4i.apps.googleusercontent.com&redirect_uri=urn%3Aietf%3Awg%3Aoauth%3A2.0%3Aoob&scope=email%20https%3A%2F%2Fwww.googleapis.com%2Fauth%2Fdocs.test%20https%3A%2F%2Fwww.googleapis.com%2Fauth%2Fdrive%20https%3A%2F%2Fwww.googleapis.com%2Fauth%2Fdrive.photos.readonly%20https%3A%2F%2Fwww.googleapis.com%2Fauth%2Fpeopleapi.readonly&response_type=code\n",
            "\n",
            "Enter your authorization code:\n",
            "··········\n",
            "Mounted at /content/drive\n"
          ],
          "name": "stdout"
        }
      ]
    },
    {
      "cell_type": "code",
      "metadata": {
        "id": "COvo7tDT4FxA",
        "colab_type": "code",
        "colab": {
          "base_uri": "https://localhost:8080/",
          "height": 87
        },
        "outputId": "225cbb0b-20d5-4c76-fcd4-e2d6bff8516c"
      },
      "source": [
        "#Importing the libraries which are required.\n",
        "import pandas as pd\n",
        "import nltk\n",
        "import re\n",
        "import numpy as np\n",
        "import matplotlib.pyplot as plt\n",
        "plt.style.use('ggplot')\n",
        "import pickle\n",
        "from nltk.corpus import stopwords\n",
        "import string\n",
        "nltk.download('stopwords')\n",
        "nltk.download('wordnet')\n",
        "import os\n",
        "os.environ['TF_CPP_MIN_LOG_LEVEL'] = '3' \n",
        "import tensorflow as tf\n",
        "try:\n",
        "    from tensorflow.python.util import module_wrapper as deprecation\n",
        "except ImportError:\n",
        "    from tensorflow.python.util import deprecation_wrapper as deprecation\n",
        "deprecation._PER_MODULE_WARNING_LIMIT = 0\n",
        "\n",
        "from tensorflow.python.util import deprecation\n",
        "deprecation._PRINT_DEPRECATION_WARNINGS = False"
      ],
      "execution_count": null,
      "outputs": [
        {
          "output_type": "stream",
          "text": [
            "[nltk_data] Downloading package stopwords to /root/nltk_data...\n",
            "[nltk_data]   Package stopwords is already up-to-date!\n",
            "[nltk_data] Downloading package wordnet to /root/nltk_data...\n",
            "[nltk_data]   Package wordnet is already up-to-date!\n"
          ],
          "name": "stdout"
        }
      ]
    },
    {
      "cell_type": "code",
      "metadata": {
        "id": "mVTGMtj54RMW",
        "colab_type": "code",
        "colab": {}
      },
      "source": [
        "all_punctuations = string.punctuation + '‘’,:”][],' \n",
        "\n",
        "def punc_remover(raw_text):\n",
        "    no_punct = \"\".join([i for i in raw_text if i not in all_punctuations])\n",
        "    return no_punct\n",
        "\n",
        "def stopword_remover(no_punc_text):\n",
        "    words = no_punc_text.split()\n",
        "    no_stp_words = \" \".join([i for i in words if i not in stopwords.words('english')])\n",
        "    return no_stp_words\n",
        "\n",
        "lemmer = nltk.stem.WordNetLemmatizer()\n",
        "def lem(words):\n",
        "    return \" \".join([lemmer.lemmatize(word,'v') for word in words.split()])\n",
        "    \n",
        "def text_cleaner(raw):\n",
        "    cleaned_text = stopword_remover(punc_remover(raw))\n",
        "    return lem(cleaned_text.lower())\n",
        "\n",
        "\n",
        "def plot_preds1(val1, val2):\n",
        "  class_labels = ['REAL', 'FAKE']\n",
        "  j = [val1, val2]\n",
        "  y_pos = np.arange(len(class_labels))\n",
        "  colors = ['g','r']\n",
        "  plt.barh(y_pos,j, color = colors, alpha = 0.6)\n",
        "  plt.yticks(y_pos,class_labels)\n",
        "  plt.title('PREDICTION FOR BEING FAKE VS REAL NEWS')\n",
        "  plt.xlabel('Percentage')\n",
        "  plt.ylabel('Labels')\n",
        "  plt.show()\n",
        "\n",
        "\n",
        "def plot_preds2(val1, val2):\n",
        "  class_labels = ['REAL','FAKE']\n",
        "  j = [val1, val2]\n",
        "  y_pos = np.arange(len(class_labels))\n",
        "  colors = ['g', 'r']\n",
        "  plt.barh(y_pos,j, color = colors, alpha = 0.6)\n",
        "  plt.yticks(y_pos,class_labels)\n",
        "  plt.title('PREDICTION FOR BEING FAKE VS REAL NEWS')\n",
        "  plt.xlabel('Percentage')\n",
        "  plt.ylabel('Labels')\n",
        "  plt.show()"
      ],
      "execution_count": null,
      "outputs": []
    },
    {
      "cell_type": "markdown",
      "metadata": {
        "id": "hLhHEguEkxKN",
        "colab_type": "text"
      },
      "source": [
        "# Run the below code if you want to use the Deep Forward Neural Network model and make the Prediction"
      ]
    },
    {
      "cell_type": "code",
      "metadata": {
        "id": "ljDmhp8y4c7p",
        "colab_type": "code",
        "colab": {
          "base_uri": "https://localhost:8080/",
          "height": 52
        },
        "outputId": "c2d8df2b-b14c-4c79-e53b-c9ec19300340"
      },
      "source": [
        "%%time\n",
        "# Use the below function to load the Saved Tokenizer\n",
        "with open('/content/drive/My Drive/Machine Learning Projects/FAKE VS REAL NEWS CATEGORY CLASSIFIER PROJECT/SOURCE CODES AND DATASETS/PACKAGE 2 - SOURCE CODES AND FILES/Pretrained Models/CNN_tokenizer.pkl', 'rb') as handle:\n",
        "    tokenizer = pickle.load(handle)\n",
        "\n",
        "import tensorflow as tf \n",
        "from keras.preprocessing.sequence import pad_sequences\n",
        "maxlen1 = 800\n",
        "\n",
        "nn_emb_model = tf.keras.models.load_model('/content/drive/My Drive/Machine Learning Projects/FAKE VS REAL NEWS CATEGORY CLASSIFIER PROJECT/SOURCE CODES AND DATASETS/PACKAGE 2 - SOURCE CODES AND FILES/Pretrained Models/FakeNews_Embedded_model.h5') \n",
        "\n",
        "def prediction1(x):\n",
        "  process1 = tokenizer.texts_to_sequences(x)\n",
        "  #print(\"P1\",process1)\n",
        "  process2 = pad_sequences(process1, padding='post', maxlen=maxlen1)\n",
        "  #print(\"P3\",process2)\n",
        "  prediction = nn_emb_model.predict(process2)\n",
        "  print(\"MODP\",prediction)\n",
        "  prediction = np.squeeze(prediction)\n",
        "  \n",
        "  val1 = np.squeeze(prediction)\n",
        "  val2 = 1 - np.squeeze(prediction)\n",
        "\n",
        "  value1 = \"The Given News Article is REAL \"\n",
        "  value0 = \"The Given News Article is FAKE\"\n",
        "  if prediction >= 0.5:\n",
        "    plot_preds1(val1 , val2)\n",
        "    return value1\n",
        "  else:\n",
        "    plot_preds2(val1 , val2)\n",
        "    return value0"
      ],
      "execution_count": null,
      "outputs": [
        {
          "output_type": "stream",
          "text": [
            "CPU times: user 2.98 s, sys: 460 ms, total: 3.44 s\n",
            "Wall time: 8.21 s\n"
          ],
          "name": "stdout"
        }
      ]
    },
    {
      "cell_type": "code",
      "metadata": {
        "id": "Eh5EFMEr4Uhm",
        "colab_type": "code",
        "colab": {
          "base_uri": "https://localhost:8080/",
          "height": 390
        },
        "outputId": "f1187a11-fe2c-41ef-e341-92ce19e88bf4"
      },
      "source": [
        "x = input(\"ENTER THE NEWS ARTICLE HERE : \") \n",
        "x = text_cleaner(x)\n",
        "x=[x,]\n",
        "print(\"\\n\",prediction1(x))"
      ],
      "execution_count": null,
      "outputs": [
        {
          "output_type": "stream",
          "text": [
            "ENTER THE NEWS ARTICLE HERE : India is scheduled to play Bangladesh in a T20 match at the Kotla on 3rd November. The low light smoggy conditions in Delhi is seen as a hazard for the players. Bangladesh players were seen watching Ram Gopal Varma movies to practice the low light conditions and to train their eyes to focus in the dark conditions. Movies made by Ramu are devoid of any light and many times families carry their personal torch to the stadium to be able to watch the movie properly.  images (1)  Movies like Bhoot, Company, Phoonk, Sarkar, and others had been shot in low light conditions and Ramu was appreciated by all for using less electricity while shooting the movies. Though this is the natural style of Ramu, people think he gives extra effort in saving power. Bangladesh players were told about these movies and they have been now continuously watching those movies to acclimatize to Delhi’s conditions.  The rapid spike in Delhi’s air quality index after Diwali has become a cause of concern. Bangladesh Cricket Board on Tuesday named Mahmudullah as the captain and he spoke with Faking News where he said “Cricket is not just a game of pitch, and athletism, it is also a game of hand-eye coordination. We are thankful to Ram Gopal Varma for giving us the original DVDs free of cost to practice. We are ready to play in Delhi and try to win the game.”  Faking News will bring you all news related to the India Bangladesh series in the coming days.\n",
            "MODP [[0.96661747]]\n"
          ],
          "name": "stdout"
        },
        {
          "output_type": "display_data",
          "data": {
            "image/png": "[encoded data removed]",
            "text/plain": [
              "<Figure size 432x288 with 1 Axes>"
            ]
          },
          "metadata": {
            "tags": []
          }
        },
        {
          "output_type": "stream",
          "text": [
            "\n",
            " The Given News Article is REAL \n"
          ],
          "name": "stdout"
        }
      ]
    },
    {
      "cell_type": "markdown",
      "metadata": {
        "id": "klHKqKKkmU7-",
        "colab_type": "text"
      },
      "source": [
        "# Run the below code if you want to use the Deep Concatted Convolutional  Neural Network model and make the Prediction"
      ]
    },
    {
      "cell_type": "code",
      "metadata": {
        "id": "kI_SrSu9mUOk",
        "colab_type": "code",
        "colab": {
          "base_uri": "https://localhost:8080/",
          "height": 52
        },
        "outputId": "d0b64c80-0094-4753-d617-f70441cc7147"
      },
      "source": [
        "%%time\n",
        "# Use the below function to load the Saved Tokenizer\n",
        "with open('/content/drive/My Drive/Machine Learning Projects/FAKE VS REAL NEWS CATEGORY CLASSIFIER PROJECT/SOURCE CODES AND DATASETS/PACKAGE 2 - SOURCE CODES AND FILES/Pretrained Models/CNN_tokenizer.pkl', 'rb') as handle:\n",
        "    tokenizer = pickle.load(handle)\n",
        "\n",
        "import tensorflow as tf \n",
        "from keras.preprocessing.sequence import pad_sequences\n",
        "maxlen2 = 1000\n",
        "\n",
        "concat_conv_model = tf.keras.models.load_model('/content/drive/My Drive/Machine Learning Projects/FAKE VS REAL NEWS CATEGORY CLASSIFIER PROJECT/SOURCE CODES AND DATASETS/PACKAGE 2 - SOURCE CODES AND FILES/Pretrained Models/FAKENEWS_CNN_CONCAT_MODELx2.h5') \n",
        "\n",
        "def prediction2(x):\n",
        "  process1 = tokenizer.texts_to_sequences(x)\n",
        "  #print(\"P1\",process1)\n",
        "  process2 = pad_sequences(process1, padding='post', maxlen=maxlen2)\n",
        "  #print(\"P3\",process2)\n",
        "  prediction = concat_conv_model.predict([process2,process2,process2])\n",
        "  prediction = np.squeeze(prediction)\n",
        "  print(\"MODP\",prediction)\n",
        "  \n",
        "  val1 = np.squeeze(prediction)\n",
        "  val2 = 1 - np.squeeze(prediction)\n",
        "\n",
        "  value1 = \"The Given News Article is REAL \"\n",
        "  value0 = \"The Given News Article is FAKE\"\n",
        "  if prediction >= 0.5:\n",
        "    plot_preds1(val1 , val2)\n",
        "    return value1\n",
        "  else:\n",
        "    plot_preds2(val1 , val2)\n",
        "    return value0"
      ],
      "execution_count": null,
      "outputs": [
        {
          "output_type": "stream",
          "text": [
            "CPU times: user 5.68 s, sys: 10.1 s, total: 15.8 s\n",
            "Wall time: 17.6 s\n"
          ],
          "name": "stdout"
        }
      ]
    },
    {
      "cell_type": "code",
      "metadata": {
        "id": "zuw5TcubnR6w",
        "colab_type": "code",
        "colab": {
          "base_uri": "https://localhost:8080/",
          "height": 390
        },
        "outputId": "9b740620-ccc9-4754-9449-92eaa343f611"
      },
      "source": [
        "x = input(\"ENTER THE NEWS ARTICLE HERE : \") \n",
        "x = text_cleaner(x)\n",
        "x=[x,]\n",
        "print(\"\\n\",prediction2(x))"
      ],
      "execution_count": null,
      "outputs": [
        {
          "output_type": "stream",
          "text": [
            "ENTER THE NEWS ARTICLE HERE : India is scheduled to play Bangladesh in a T20 match at the Kotla on 3rd November. The low light smoggy conditions in Delhi is seen as a hazard for the players. Bangladesh players were seen watching Ram Gopal Varma movies to practice the low light conditions and to train their eyes to focus in the dark conditions. Movies made by Ramu are devoid of any light and many times families carry their personal torch to the stadium to be able to watch the movie properly.  images (1)  Movies like Bhoot, Company, Phoonk, Sarkar, and others had been shot in low light conditions and Ramu was appreciated by all for using less electricity while shooting the movies. Though this is the natural style of Ramu, people think he gives extra effort in saving power. Bangladesh players were told about these movies and they have been now continuously watching those movies to acclimatize to Delhi’s conditions.  The rapid spike in Delhi’s air quality index after Diwali has become a cause of concern. Bangladesh Cricket Board on Tuesday named Mahmudullah as the captain and he spoke with Faking News where he said “Cricket is not just a game of pitch, and athletism, it is also a game of hand-eye coordination. We are thankful to Ram Gopal Varma for giving us the original DVDs free of cost to practice. We are ready to play in Delhi and try to win the game.”  Faking News will bring you all news related to the India Bangladesh series in the coming days.\n",
            "MODP 0.9954797\n"
          ],
          "name": "stdout"
        },
        {
          "output_type": "display_data",
          "data": {
            "image/png": "[encoded data removed]",
            "text/plain": [
              "<Figure size 432x288 with 1 Axes>"
            ]
          },
          "metadata": {
            "tags": []
          }
        },
        {
          "output_type": "stream",
          "text": [
            "\n",
            " The Given News Article is REAL \n"
          ],
          "name": "stdout"
        }
      ]
    },
    {
      "cell_type": "code",
      "metadata": {
        "id": "IQ-zDSWEqBvr",
        "colab_type": "code",
        "colab": {}
      },
      "source": [
        ""
      ],
      "execution_count": null,
      "outputs": []
    }
  ]
}