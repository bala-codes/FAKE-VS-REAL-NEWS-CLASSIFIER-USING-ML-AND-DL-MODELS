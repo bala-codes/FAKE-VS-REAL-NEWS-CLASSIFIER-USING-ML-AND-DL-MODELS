{
  "nbformat": 4,
  "nbformat_minor": 0,
  "metadata": {
    "colab": {
      "name": "SOTA MODELS - FAKE NEWS.ipynb",
      "provenance": [],
      "collapsed_sections": [],
      "toc_visible": true,
      "include_colab_link": true
    },
    "kernelspec": {
      "name": "python3",
      "display_name": "Python 3"
    },
    "accelerator": "GPU"
  },
  "cells": [
    {
      "cell_type": "markdown",
      "metadata": {
        "id": "view-in-github",
        "colab_type": "text"
      },
      "source": [
        "<a href=\"https://colab.research.google.com/github/bala-codes/FAKE-VS-REAL-NEWS-CLASSIFIER-USING-ML-AND-DL-MODELS/blob/master/codes%20(FASTAI)/Part%201%20FAKE%20NEWS%20CLASSIFIER%20TRAINING.ipynb\" target=\"_parent\"><img src=\"https://colab.research.google.com/assets/colab-badge.svg\" alt=\"Open In Colab\"/></a>"
      ]
    },
    {
      "cell_type": "code",
      "metadata": {
        "id": "-0oFvuTzMFgy",
        "colab_type": "code",
        "colab": {
          "base_uri": "https://localhost:8080/",
          "height": 54
        },
        "outputId": "c04a720f-c960-46fe-a619-f3e152e9ede1"
      },
      "source": [
        "from google.colab import drive\n",
        "drive.mount('/content/drive')"
      ],
      "execution_count": null,
      "outputs": [
        {
          "output_type": "stream",
          "text": [
            "Drive already mounted at /content/drive; to attempt to forcibly remount, call drive.mount(\"/content/drive\", force_remount=True).\n"
          ],
          "name": "stdout"
        }
      ]
    },
    {
      "cell_type": "code",
      "metadata": {
        "id": "dODqX-1CQnCc",
        "colab_type": "code",
        "colab": {}
      },
      "source": [
        "# https://medium.com/technonerds/using-fastais-ulmfit-to-make-a-state-of-the-art-multi-label-text-classifier-bf54e2943e83\n",
        "\n",
        "# https://docs.fast.ai/text.html"
      ],
      "execution_count": null,
      "outputs": []
    },
    {
      "cell_type": "code",
      "metadata": {
        "id": "B1HNQGPZMCdX",
        "colab_type": "code",
        "colab": {}
      },
      "source": [
        "import fastai\n",
        "from fastai import *\n",
        "from fastai.text import *\n",
        "import pandas as pd\n",
        "import numpy as np\n",
        "from functools import partial\n",
        "import io\n",
        "import os"
      ],
      "execution_count": null,
      "outputs": []
    },
    {
      "cell_type": "code",
      "metadata": {
        "id": "VIbECAqJMY-7",
        "colab_type": "code",
        "colab": {}
      },
      "source": [
        "header = ['SECTION_CLEANED','label']\n",
        "final_df = pd.read_csv('/content/drive/My Drive/Machine Learning Projects/FAKE VS REAL NEWS CATEGORY CLASSIFIER PROJECT/SOURCE CODES AND DATASETS/FAKE VS REAL NEWS - FINAL DATASETS/dfcleanedascsv.csv',usecols = header) \n",
        "final_df = pd.DataFrame(final_df)\n",
        "\n",
        "final_df.dropna(inplace=True)\n",
        "final_df = final_df.rename(columns = {\"SECTION_CLEANED\": \"content\"}) "
      ],
      "execution_count": null,
      "outputs": []
    },
    {
      "cell_type": "code",
      "metadata": {
        "id": "qpzQpVlOP5C8",
        "colab_type": "code",
        "colab": {
          "base_uri": "https://localhost:8080/",
          "height": 197
        },
        "outputId": "b75b3ffd-e789-4973-f0a8-777787e500d1"
      },
      "source": [
        "final_df.tail()"
      ],
      "execution_count": null,
      "outputs": [
        {
          "output_type": "execute_result",
          "data": {
            "text/html": [
              "<div>\n",
              "<style scoped>\n",
              "    .dataframe tbody tr th:only-of-type {\n",
              "        vertical-align: middle;\n",
              "    }\n",
              "\n",
              "    .dataframe tbody tr th {\n",
              "        vertical-align: top;\n",
              "    }\n",
              "\n",
              "    .dataframe thead th {\n",
              "        text-align: right;\n",
              "    }\n",
              "</style>\n",
              "<table border=\"1\" class=\"dataframe\">\n",
              "  <thead>\n",
              "    <tr style=\"text-align: right;\">\n",
              "      <th></th>\n",
              "      <th>label</th>\n",
              "      <th>content</th>\n",
              "    </tr>\n",
              "  </thead>\n",
              "  <tbody>\n",
              "    <tr>\n",
              "      <th>6946</th>\n",
              "      <td>REAL</td>\n",
              "      <td>hbos real time host bill maher – someone often...</td>\n",
              "    </tr>\n",
              "    <tr>\n",
              "      <th>6947</th>\n",
              "      <td>REAL</td>\n",
              "      <td>new york cnn hillary clinton visit two battleg...</td>\n",
              "    </tr>\n",
              "    <tr>\n",
              "      <th>6948</th>\n",
              "      <td>REAL</td>\n",
              "      <td>hollywood lose yet another one dearest actress...</td>\n",
              "    </tr>\n",
              "    <tr>\n",
              "      <th>6949</th>\n",
              "      <td>REAL</td>\n",
              "      <td>story highlight trump sit chair onstage feet a...</td>\n",
              "    </tr>\n",
              "    <tr>\n",
              "      <th>6950</th>\n",
              "      <td>REAL</td>\n",
              "      <td>donald trump jr son republican presidential no...</td>\n",
              "    </tr>\n",
              "  </tbody>\n",
              "</table>\n",
              "</div>"
            ],
            "text/plain": [
              "     label                                            content\n",
              "6946  REAL  hbos real time host bill maher – someone often...\n",
              "6947  REAL  new york cnn hillary clinton visit two battleg...\n",
              "6948  REAL  hollywood lose yet another one dearest actress...\n",
              "6949  REAL  story highlight trump sit chair onstage feet a...\n",
              "6950  REAL  donald trump jr son republican presidential no..."
            ]
          },
          "metadata": {
            "tags": []
          },
          "execution_count": 43
        }
      ]
    },
    {
      "cell_type": "code",
      "metadata": {
        "id": "ZTDPKufeM5Fc",
        "colab_type": "code",
        "colab": {}
      },
      "source": [
        "from sklearn.model_selection import train_test_split\n",
        "\n",
        "df_trn, df_val = train_test_split(final_df, stratify = final_df['label'], test_size=0.20)"
      ],
      "execution_count": null,
      "outputs": []
    },
    {
      "cell_type": "code",
      "metadata": {
        "id": "HAmiUSzYNGXL",
        "colab_type": "code",
        "colab": {
          "base_uri": "https://localhost:8080/",
          "height": 34
        },
        "outputId": "3574ef6f-7bd2-436c-bb1c-11d0316e86ff"
      },
      "source": [
        "print(df_trn.shape, df_val.shape)"
      ],
      "execution_count": null,
      "outputs": [
        {
          "output_type": "stream",
          "text": [
            "(5559, 2) (1390, 2)\n"
          ],
          "name": "stdout"
        }
      ]
    },
    {
      "cell_type": "code",
      "metadata": {
        "id": "wyCPV4g_NSkJ",
        "colab_type": "code",
        "colab": {}
      },
      "source": [
        "data_lm = TextLMDataBunch.from_df(train_df = df_trn , valid_df = df_val, path = \"\")\n",
        "\n",
        "data_clas = TextClasDataBunch.from_df(train_df = df_trn, valid_df = df_val, path = \"\", vocab = data_lm.train_ds.vocab, bs=32 )"
      ],
      "execution_count": null,
      "outputs": []
    },
    {
      "cell_type": "code",
      "metadata": {
        "id": "PAL5nEy6Arxq",
        "colab_type": "code",
        "colab": {}
      },
      "source": [
        "data_lm.save('/content/drive/My Drive/Machine Learning Projects/FAKE VS REAL NEWS CATEGORY CLASSIFIER PROJECT/SOURCE CODES AND DATASETS/PACKAGE 3 - SOURCE CODES AND FILES/SOTA MODELS/data_lm_export.pkl')\n",
        "data_clas.save('/content/drive/My Drive/Machine Learning Projects/FAKE VS REAL NEWS CATEGORY CLASSIFIER PROJECT/SOURCE CODES AND DATASETS/PACKAGE 3 - SOURCE CODES AND FILES/SOTA MODELS/data_clas_export.pkl')"
      ],
      "execution_count": null,
      "outputs": []
    },
    {
      "cell_type": "code",
      "metadata": {
        "id": "fIM8PqxAOE2D",
        "colab_type": "code",
        "colab": {
          "base_uri": "https://localhost:8080/",
          "height": 364
        },
        "outputId": "a90c6c9d-8f44-4153-e6f6-551cc5ae0f7d"
      },
      "source": [
        "data_clas.show_batch()"
      ],
      "execution_count": null,
      "outputs": [
        {
          "output_type": "display_data",
          "data": {
            "text/html": [
              "<table border=\"1\" class=\"dataframe\">\n",
              "  <thead>\n",
              "    <tr style=\"text-align: right;\">\n",
              "      <th>text</th>\n",
              "      <th>target</th>\n",
              "    </tr>\n",
              "  </thead>\n",
              "  <tbody>\n",
              "    <tr>\n",
              "      <td>xxbos moment every donald trump rally donald trump marvel crazy spectacle he s create “ is place america fun donald trump rally ask mischievous pursedlip grin moment always come protester try interrupt drown arena full rowdy white people scream “ trump trump trump that s fun part joint release pentup fury thousands proudly politically incorrect americans experience person feel catharsis vent whiners moochers mexicans muslims take country gleefully defy scold</td>\n",
              "      <td>REAL</td>\n",
              "    </tr>\n",
              "    <tr>\n",
              "      <td>xxbos afraid dangerous trump presidency protesters preemptively burn america grind clinton foundation foreclosure foreign donors demand refund hillary clinton blame youtube video unexpected spontaneous voter uprise prevent inevitable move white house sudden rise sea level explain disproportionately large tear shed climate scientists aftermath trump electoral victory fbi director comey delight receive nobel prize speed read 65 xxrep 4 0 email one week un deploy troop american college campuses order combat</td>\n",
              "      <td>FAKE</td>\n",
              "    </tr>\n",
              "    <tr>\n",
              "      <td>xxbos trump rally hollywood boulevard 102916 users browse forum google bot xxunk media yahoo bot 68 guests display post previous power phpbb © 2000 2002 2005 2007 phpbb group uncontested absurdities today accept slogans tomorrow come accept degrees precedent implication erosion default dint constant pressure one side constant retreat day suddenly declare countrys official ideology ayn rand rubiks rubiks cube ® use special individual permission seven town ltd write number</td>\n",
              "      <td>FAKE</td>\n",
              "    </tr>\n",
              "    <tr>\n",
              "      <td>xxbos unite state marine field mcconnell plum city online xxunk october 26 2016 1 abel danger ad claim hillary clinton use doj pride 8a actors blackmail mentor federal bridge certification authority – include erstwhile directors boeing lockheed martin raytheon northrop grumman – child pornography originate bc pig farm 2 ad claim early 2001 clintons 8a company use xxunk network xxunk starnet set server federal bridge basement chappaqua home allegedly use</td>\n",
              "      <td>FAKE</td>\n",
              "    </tr>\n",
              "    <tr>\n",
              "      <td>xxbos editors note update 125 pm et friday additional factchecking information hillary clinton accept democratic nomination president thursday night deliver speech lay plan address terrorist threats create job nprs politics team annotate clintons speech portion comment highlight follow analysis context fact check italics thank thank much thank thank much thank thank thank much thank amaze welcome thank great convention we ve chelsea thank i m proud mother proud woman you</td>\n",
              "      <td>REAL</td>\n",
              "    </tr>\n",
              "  </tbody>\n",
              "</table>"
            ],
            "text/plain": [
              "<IPython.core.display.HTML object>"
            ]
          },
          "metadata": {
            "tags": []
          }
        }
      ]
    },
    {
      "cell_type": "code",
      "metadata": {
        "id": "ztUmUp6_QaNz",
        "colab_type": "code",
        "colab": {}
      },
      "source": [
        "learn = language_model_learner(data_lm, AWD_LSTM, drop_mult=0.3)"
      ],
      "execution_count": null,
      "outputs": []
    },
    {
      "cell_type": "code",
      "metadata": {
        "id": "n4YWVr8FQlHU",
        "colab_type": "code",
        "colab": {
          "base_uri": "https://localhost:8080/",
          "height": 332
        },
        "outputId": "676f1739-b305-4899-9523-02158964bf61"
      },
      "source": [
        "learn.lr_find()\n",
        "learn.recorder.plot(suggestion=True)\n",
        "min_grad_lr = learn.recorder.min_grad_lr"
      ],
      "execution_count": null,
      "outputs": [
        {
          "output_type": "display_data",
          "data": {
            "text/html": [
              ""
            ],
            "text/plain": [
              "<IPython.core.display.HTML object>"
            ]
          },
          "metadata": {
            "tags": []
          }
        },
        {
          "output_type": "stream",
          "text": [
            "LR Finder is complete, type {learner_name}.recorder.plot() to see the graph.\n",
            "Min numerical gradient: 1.10E-02\n",
            "Min loss divided by 10: 2.51E-02\n"
          ],
          "name": "stdout"
        },
        {
          "output_type": "display_data",
          "data": {
            "image/png": "[encoded data removed]",
            "text/plain": [
              "<Figure size 432x288 with 1 Axes>"
            ]
          },
          "metadata": {
            "tags": []
          }
        }
      ]
    },
    {
      "cell_type": "code",
      "metadata": {
        "id": "cpMhe-3LQ6Uy",
        "colab_type": "code",
        "colab": {
          "base_uri": "https://localhost:8080/",
          "height": 107
        },
        "outputId": "2cec4155-fa16-4c77-b0ff-b432d4e608ff"
      },
      "source": [
        "learn.fit_one_cycle(2, min_grad_lr)\n",
        "print(min_grad_lr)"
      ],
      "execution_count": null,
      "outputs": [
        {
          "output_type": "display_data",
          "data": {
            "text/html": [
              "<table border=\"1\" class=\"dataframe\">\n",
              "  <thead>\n",
              "    <tr style=\"text-align: left;\">\n",
              "      <th>epoch</th>\n",
              "      <th>train_loss</th>\n",
              "      <th>valid_loss</th>\n",
              "      <th>accuracy</th>\n",
              "      <th>time</th>\n",
              "    </tr>\n",
              "  </thead>\n",
              "  <tbody>\n",
              "    <tr>\n",
              "      <td>0</td>\n",
              "      <td>7.003057</td>\n",
              "      <td>6.708082</td>\n",
              "      <td>0.099150</td>\n",
              "      <td>05:38</td>\n",
              "    </tr>\n",
              "    <tr>\n",
              "      <td>1</td>\n",
              "      <td>6.431359</td>\n",
              "      <td>6.508562</td>\n",
              "      <td>0.112013</td>\n",
              "      <td>05:39</td>\n",
              "    </tr>\n",
              "  </tbody>\n",
              "</table>"
            ],
            "text/plain": [
              "<IPython.core.display.HTML object>"
            ]
          },
          "metadata": {
            "tags": []
          }
        }
      ]
    },
    {
      "cell_type": "code",
      "metadata": {
        "id": "hGeQHMABRFEL",
        "colab_type": "code",
        "colab": {
          "base_uri": "https://localhost:8080/",
          "height": 107
        },
        "outputId": "f8836024-f96a-4bc3-f733-f63a05090b70"
      },
      "source": [
        "# unfreezing weights and training the rest of the NN\n",
        "learn.unfreeze()\n",
        "learn.fit_one_cycle(2, min_grad_lr)"
      ],
      "execution_count": null,
      "outputs": [
        {
          "output_type": "display_data",
          "data": {
            "text/html": [
              "<table border=\"1\" class=\"dataframe\">\n",
              "  <thead>\n",
              "    <tr style=\"text-align: left;\">\n",
              "      <th>epoch</th>\n",
              "      <th>train_loss</th>\n",
              "      <th>valid_loss</th>\n",
              "      <th>accuracy</th>\n",
              "      <th>time</th>\n",
              "    </tr>\n",
              "  </thead>\n",
              "  <tbody>\n",
              "    <tr>\n",
              "      <td>0</td>\n",
              "      <td>6.102898</td>\n",
              "      <td>6.369772</td>\n",
              "      <td>0.122942</td>\n",
              "      <td>06:30</td>\n",
              "    </tr>\n",
              "    <tr>\n",
              "      <td>1</td>\n",
              "      <td>5.801328</td>\n",
              "      <td>6.302051</td>\n",
              "      <td>0.130231</td>\n",
              "      <td>06:30</td>\n",
              "    </tr>\n",
              "  </tbody>\n",
              "</table>"
            ],
            "text/plain": [
              "<IPython.core.display.HTML object>"
            ]
          },
          "metadata": {
            "tags": []
          }
        }
      ]
    },
    {
      "cell_type": "code",
      "metadata": {
        "id": "TxqAN0AVRNWj",
        "colab_type": "code",
        "colab": {
          "base_uri": "https://localhost:8080/",
          "height": 34
        },
        "outputId": "ed58c30b-12f1-4967-c2ef-d7a42a14ea6a"
      },
      "source": [
        "learn.predict(\"United States of America\", n_words=10)"
      ],
      "execution_count": null,
      "outputs": [
        {
          "output_type": "execute_result",
          "data": {
            "text/plain": [
              "'United States of America mix giustra interest foundation behind game one owners not recognise'"
            ]
          },
          "metadata": {
            "tags": []
          },
          "execution_count": 52
        }
      ]
    },
    {
      "cell_type": "code",
      "metadata": {
        "id": "lsMJ1qNWRSSz",
        "colab_type": "code",
        "colab": {}
      },
      "source": [
        "learn.save_encoder('/content/drive/My Drive/Machine Learning Projects/FAKE VS REAL NEWS CATEGORY CLASSIFIER PROJECT/SOURCE CODES AND DATASETS/PACKAGE 3 - SOURCE CODES AND FILES/SOTA MODELS/ft_enc')"
      ],
      "execution_count": null,
      "outputs": []
    },
    {
      "cell_type": "markdown",
      "metadata": {
        "id": "-5ALiIsHSU9x",
        "colab_type": "text"
      },
      "source": [
        "# TEXT CLASSIFIER"
      ]
    },
    {
      "cell_type": "code",
      "metadata": {
        "id": "fxZe-U-CSWNY",
        "colab_type": "code",
        "colab": {
          "base_uri": "https://localhost:8080/",
          "height": 1000
        },
        "outputId": "ba3b3043-cec5-41c9-9387-4285838c9a1a"
      },
      "source": [
        "learn = text_classifier_learner(data_clas, AWD_LSTM, drop_mult=0.5)\n",
        "learn.load_encoder('ft_enc')"
      ],
      "execution_count": null,
      "outputs": [
        {
          "output_type": "execute_result",
          "data": {
            "text/plain": [
              "RNNLearner(data=TextClasDataBunch;\n",
              "\n",
              "Train: LabelList (5559 items)\n",
              "x: TextList\n",
              "xxbos change many americans head poll vote 2016 election tuesday secretary state john kerry travel to … antarctica kerrys trip include visit xxunk xxunk south pole station make first secretary state visit antarctica accord press release national science foundation come curious time give ongoing election ask time state department spokesman john kirby insist purpose “ to talk researchers scientists largely climate change research reporter respond question legitimacy trip note “ there s criticism trip basically know secretary want knock antarctica bucket list he s taxpayer expense kirby insist important kerry “ to see firsthand learn environment south pole “ as individual literally champion climate change research awareness decades secretary remain commit increase awareness education public kirby say location kerrys trip also interest russian scientists draw criticism 2012 drill xxunk “ alien lake vostok scientists claim go “ undisturbed sunlight 15 million years theories surface lake — which consider sixth largest world — include oil secret nazi base hitlers remain nuclear energy atlantis course ufo land site kerrys trip add lead secretary state travel miles 13 million since 2013 send even ahead former secretary state hillary clinton travel xxunk miles 2009 2013 addition stay away poll us would expect vote clinton kerry also show remind world beat total miles xxunk — an area clinton competitive 2010 clinton write email top aide huma abedin ask “ what s total “ we 36 trip date abedin respond note clinton need least four beat record 106 million set condoleezza rice follow rachel xxunk facebook twitter post election heat kerry head poles … in antarctica wtf appear first change,xxbos washington cnn theory carly fiorina one best fundraisers republican field breakout star cnns republican debate wednesday second straight contest she s distinguish she s former ceo major company she s wellconnected xxunk california problem money has nt follow hype yet buzz tend turn money spigot she s clearly get lot buzz last night say ken xxunk longtime republican bundler lobbyist probably enough fuel tank get february buoy two consecutive widely praise debate performances fiorina expect surge next round public opinion survey party insiders say next challenge convert goodwill hard dollars drive vote come next winter despite deep connections conservative movement washington moneyed class silicon valley fiorinas campaign 1 million hand summer slightly amount rick perry since drop race due financial problems former hewlettpackard executive take 17 million first two months campaign less every republican candidate share stage wednesday report total super pac collect check unlimited size haul 35 million smaller sum harmful give candidates unusual dependence outside group almost half money come one party biggest donors jerry perenchio shell face early test fiorinas campaign two weeks capitalize wednesdays performance need file new number election officials supporters along top unaligned gop fundraisers say narrative change email go crazy today say xxunk xxunk organize san diego fundraiser fiorina has nt commit help exclusively little world indication fire world likely is nt fiorinas first report reveal draw heavily deep well california donors something may need broaden make serious run gop nomination even top moneymen work campaign say expect new republican star give fundraise shop run money predict could post mammoth return final two weeks traditionally sleepy quarter already immediate sign thursday donors watch cnns debate closely stanley hubbard minnesota billionaire top backer struggle wisconsin governor scott walker say plan give maximum could fiorinas campaign 2700 though say super pac he d give would walkers maybe she s another margaret thatcher she s terrific say hubbard also cut new 2700 check chris christie marco rubio think they re breakthrough people hubbard part network xxunk donors organize charles david koch surprisingly extend invitation fiorina address millionaires exclusive conference summer covet speak slot give californian chance win biggest gop whale could easily write sevenfigure check fiorinas super pac group perhaps go outside group take place traditional campaign super pac christen carly america often time confuse report official operation carly president super pac officials travel candidate barnstorm country help businesswoman collect endorsements earlystate officials struggle reel large donations beyond perenchio convince handful republican donors give sixfigure amount group super pac support jeb bush bid instance raise 30 time amount fiorinas group second biggest donation come separate super pac bankroll billionaire republican bob mercer mercer expect overwhelmingly back fiorina rival ted cruz originally gift 11 million fiorina loyalists say wednesday nights debate mean bigmoney backers en route do nt know really chance win like see debate say orlando executive richard lee give group 25000 april despite originally pledge get involve primary last night probably able better that s think many republican donors like hubbard mercer support fiorina side bet xxunk field biggest name republican politics appear fiorinas campaignfinance report small dollar amount next name may envision pitbull democratic nominee shed eat hillary clinton alive say hubbard worthwhile investment party attack democrats wag war women xxunk 2700 could token come top fundraisers point candidate can not wage campaign entirely back super pac perrys group raise 17 million cash strap campaign last 100 days candidates tend spend months build professional fundraise operations systematically collect maximum check dozens associate top bundlers say does nt bloom overnight people go way call friends ask david xxunk top bundler mitt romney raise money bush tool place could really well does nt might get lot little donors — wo nt hurt — make difference she s go big donors fiorina friends say fine underestimate fundraiser argue past two debate evidence shell beat expectations believe first one would take seriously she s nice say super pac donor phil lebherz ally california lebherz say she s take third step she s threat,xxbos share facebook share twitter i ve always dream indoor garden selfsufficient winter live tiny apartment room hydroponic system … think thank nutritower dream mine possible nutritower nutritower vertical hydroponic system specifically design indoor use first system use patentpending vertical light design technology allow grow food ever without take valuable floor space 2 square feet floor space 48 pot efficient method grow food market nutritower vertical hydroponic system simple elegant efficient patentpending vertical light design gravity feed nutrient delivery system make effective way grow food home year round strong custom xxunk aluminium frame system vertical light energy efficient high output bulbs standard 24 pot layout highly xxunk pot easily remove maintenance gravity work large reservoir mean less maintenance quiet pump run minutes hour individual timers you re control small footprint allow place anywhere nutritower design flexible users need customize systems orient toward leafy green fruit vegetables x hydroponic system messy soil deal friends valhalla movement personally see interact system love much use greenhouse inspire xxunk still convince system awesome click learn 8 reason food revolution might happen kitchen,xxbos daily sheeple jake anderson anomalous signal deep space often evoke quick pulse gossip speculation alien die soon thereafter scientists able explain usually explanation involve natural cosmic process — asteroid space detritus frequencies explode star sometimes however signal mysterious explain there s reason may see sustain social media buzz regard alien past week days ago two scientists laval university quebec release paper argue may receive first communication extraterrestrials first bite context excite decade us stargaze awe wonder many sentient be live incomprehensibly enormous universe first search exoplanets accelerate dramatically aid kepler telescope identify 1000 planets outside solar system scientists long know milky way galaxy alone probably contain several hundred billion planets ability study elude us fairly recently ability exponentially augment jam webb telescope allow us analyze exoplanets atmospheres search trace industrial gas additionally discovery earthlike exoplanets — conceivably close enough visit decades — tantalize ramifications near future human race earlier year scientists announce incredible observation series inexplicable brightness frequencies star kic 8462852 lead many speculate signal could originate dyson sphere theoretical megastructure advance alien race kardschez type 2 civilization could harness power sun newest discovery star make even unlikely signal natural cause newest strange signal hail gaggle 234 star identify sloan digital sky survey analyze spectra 25 million star ef borra e trottier two astronomers discover anomalies discuss paper originally title “ signals probably extraterrestrial intelligence “ we find detect signal exactly shape extraterrestrial intelligence signal predict previous publication therefore agreement hypothesis write “ the fact find small fraction star within narrow spectral range center near spectral type sun also agreement eti hypothesis course far certain actual alien message interview none snopescom borra claim never actually use word probably confirmation need director seti search extraterrestrial intelligence institute andrew siemion issue admonish response “ you ca nt make definitive statements detections unless you ve exhaust every possible mean followup everyone excite discovery appear match prediction borra make 2012 claim alien could well use intermittent burst laser mean communication part siemion plan use breakthrough listen initiative closely assess several star 234 sample meanwhile borra andtrottier borras graduate student continue observe mysterious signal excite decade space research plan mission mar hopper well exploratory probe send moon europa may witness rebirth space race better incentive could venture space call alien species let hope time meet species transcend addiction war unsustainable resource allocation encourage share republish report analyse break news videos click detail contribute antimedia theantimediaorg “ anti name mean media simply current mainstream paradigm current media influence industrial complex topdown authoritarian system distribution — the opposite antimedia aim antimedia want offer new paradigm — a bottomup approach real diverse report seek establish space people journalists venue independent journalism move forward larger truthful scale share rate,xxbos islamic state militants acknowledge first time defeat syrian town kobani blame wither airstrikes usled coalition force flee town turkish border although strategic site kobani — know militants ayn alislam — turn test will militants coalition one point islamic state fighters control almost town 45000 people verge capture outright video release late friday proislamic state aamaq news agency two fighters make clear coalitions relentless air assault prove much militants ago retreat bite ayn alislam bombardment kill brothers say one mask fighter speak arabic north african accent video vow return drive people protection units know ypg main kurdish militia syria fighter refer rat islamic state stay say president obama say point toward destruction edge kobani second fighter stand road green sign spray name ayn alislam describe incessant pound coalition aircraft swear god plan leave air day night airstrikes day night say video bombard everything even motorcycle leave build stand god will return revenge multiply speak meet mexican canadian counterparts boston saturday secretary state john kerry say recapture kobani big deal afp report long way go overall campaign daesh — isil know — say along kobani real symbolic strategic objective kerry say push big deal make mistake also use tool use get — tool cooperation support — defeat violent transnational criminal organizations ensure rule law thrive people islamic state launch offensive region surround kobani midseptember capture 300 kurdish villages part city drive 2 xxrep 5 0 kurds unite state several arab ally begin strike back provide air cover kurdish militia pour turkey overall ally campaign aim roll back islamic state militants take third iraq syria declare capture territory new caliphate result airstrikes stiff resistance kurds islamic state — also know isil isis — begin retreat weeks ago lose 1000 fighters accord londonbased syrian observatory human right monitor deaths syrian civil war last days fight activists report militant group send inexperienced fighters teenagers front line lack recruit human right group say monday activists kurdish officials report town almost clear militants fourmonth battle kobani pummel airstrikes mutual shell boobytrapped vehicles leave large part town city uninhabitable syrian observatory human right say city anymore xxunk xxunk turkish photojournalist afp news agency tell time saw bomb drop kobani battle there s debris leave especially eastern part town isis try get\n",
              "y: CategoryList\n",
              "FAKE,REAL,FAKE,FAKE,REAL\n",
              "Path: .;\n",
              "\n",
              "Valid: LabelList (1390 items)\n",
              "x: TextList\n",
              "xxbos email realize headline must sound extremely bizarre article explain could actually happen learn fbi obtain search warrant enable agency examine approximately 65 xxrep 4 0 email sit electronic devices own huma abedin estrange husband anthony weiner fbi go email unlikely still possible decision whether charge hillary clinton crime could make november 8th course likely scenario hillary clinton indict election day americans vote scandal hang ominously clinton campaign fbi quickly take action possible hillary clinton could force race election day would require democrats come new candidate fact already call mainstream media clinton willingly remove race example follow come chicago tribune article entitle “ democrats ask clinton step aside “ … democrats rule democrats hold high moral standards impose people govern would follow simple process would demand mrs clinton step immediately let vice presidential nominee sen tim kaine virginia stand place democrats say honestly new criminal investigation go events around homebrew email server time secretary state clinton anywhere near white house good idea author article understand tim kaine would automatically take place clinton step election previous article include quote us news world report article explain would happen hillary clinton remove democratic ticket reason prior november 8th … clinton fall ticket democratic national committee members would gather vote replacement dnc members act superdelegates years primary overwhelmingly back clinton boatrocking socialist sen bernie sanders vermont dnc spokesman mark paustenbach say currently 445 committee members – number change time guide group bylaws give membership specific officeholders party leaders hold 200 spot selection state along optional 75 slot dnc members choose fill party rule replace presidential nominee merely specify majority members must present special meet call committee chairman meet would follow procedures set dnc rule bylaws committee proxy vote would allow email scandal force hillary clinton exit race last minute majority members democratic national committee would gather select new nominee would choose let take look top five options … 1 tim kaine would seem obvious choice since hillary clintons run mate win national campaign need name recognition americans outside state virginia little familiarity point prove little popularity campaign trail fact attendance many rally key swing state measure dozens seem unlikely dnc would select kaine replacement nominee 2 joe biden vicepresident joe biden far name recognition tim kaine recent days tout believe would actually nomination would decide run … vice president joe biden say recent interview believe could beat former secretary state hillary clinton democratic presidential nomination pursue biden ask interview cnn saturday news fbi reopen criminal probe clintons use private email server secretary state make secondguess decision last year run accord vice president short answer “ no thing keep run biden say recent death son beau unfortunately biden suffer many things kaine biden bore good campaign trail does nt sort charisma would motivate people go poll large number biden would probably represent “ safest choice democrats might win choice 3 bernie sanders bernie sanders would seem logical choice since runnerup hillary clinton truth lot things work bernie sanders first real loyalty democrats previously operate independent express desire return independent status campaign secondly democratic establishment much dislike play huge role decisions thirdly democratic insiders fear would “ another mcgovern would get absolutely wipe general election even though popular radical leave appear sanders would least likely choice list 4 elizabeth warren elizabeth warren would popular “ bernie sanders wing party would enable party replace hillary clinton another woman definitely possibility lack name recognition like sanders would concern republicans would frame candidacy “ another mcgovern far leave policies 5 michelle obama one recent survey find 67 percent democrats would rather third term obama first term hillary clinton days barack obamas approval rat run anywhere 9 11 think another obama white house farfetched might think michelle obama better name recognition anyone else list generally wellliked american people receive tremendous amount praise work campaign trail recently instance recent speech new hampshire laud “ the influential speech 2016 campaign recent msn article entitle “ campaign michelle obama become another political voice “ … speech amplify time meet enthusiastic response cement obamas place star presidential race put define stroke women view trump also voice moral authority three months leave white house already among rank public figure transcend politics title “ when rise level like see much weight word carry say anita mcbride former chief staff laura bush executive residence school public affairs american university “ we know did nt like politics impassioned language use feel compel speak people listen democrats michelle obama one would select replacement nominee need would give best chance win donald trump course obamas radical bernie sanders elizabeth warren american people become quite comfortable point certainly hope michelle obama become nominee hillary clinton step aside donald trump would exceedingly difficult time defeat final analysis none probably go matter anyway unlikely fbi move quickly enough force hillary clinton election day still small chance could actually happen happen go turn politics america completely upside take look future america begin end prepare do nt forget like freedom outpost facebook google plus twitter also get freedom outpost deliver amazon kindle device,xxbos drone strike us officials believe kill “ jihadi john islamic state xxunk whose behead western hostages come symbolize militants brutality appear week rare success struggle us campaign group military feat death islamic state wellknown spokesman confirm would step forward us effort counter group sophisticate socialmedia operations ante twoway propaganda war speak day strike raqqa islamic state de facto capital syria us military officials say “ reasonably certain two hellfire missiles fire american xxunk reaper drone late thursday kill british militant whose real name mohammed emwazi second individual army col steven warren us military spokesman give detail military officials confident emwazi 27 dead say drone strike carry plan warren say officials work definitively establish emwazi kill death would blow islamic state public image warren say even emwazi top operational commander “ this guy human animal say london british prime minister david cameron laud operation describe “ xxunk effort us british force “ if strike successful still await confirmation strike heart isil say use acronym islamic state senior us defense official like others speak condition anonymity discuss intelligence matter say three drone take part operation one british american plane conduct strike statement 10 down street cameron describe emwazi “ barbaric murderer islamic state “ lead xxunk “ this act selfdefense right thing say us officials say car believe carry emwazi another person pull two threestory build business around 11 pm local time thursday emwazi go inside build short time come get back car moment american missiles destroy vehicle syrian activist group raqqa slaughter silently monitor events city report drone strike target car near islamic court downtown raqqa shortly midnight among dozen blast hear intense wave airstrikes group say twitter fee emwazi appear video august 2014 unknown mask man english accent behead american journalist jam foley emwazi subsequently behead steven sotloff another american journalist appear video american aid worker abdulrahman kassig decapitate xxunk also kill david haines alan xxunk british aid workers japanese journalist kenji goto “ it small solace learn jihadi john may kill us government xxunk parent john diane foley say statement “ his death bring jim back much effort give find rescue jim hostages subsequently murder isis might alive today art shirley sotloff parent steven sotloff say xxunk death would change nothing “ its little late son never come back say “ more importantly today remember stevens remarkable life contributions others suffer hand isis obama administration attempt rescue americans summer 2014 delta force commandos storm prison think hold officials later conclude prisoners move days raid us officials say confirmation xxunk death probably require information glean intercept militant communications say probably impossible obtain dna sample make difficult establish death conclusively “ we could potentially never know certainty another defense official say moment jihadi john may become terrorist emwazi bestknown militant unite state kill year airstrikes group iraq syria emwazi bear kuwait grow london study computer program gradually become radicalize 2010 british authorities detain emwazi bar leave country believe travel syria around 2012 later join islamic state emwazi one group englishspeaking militants former hostages dub “ the beatles former prisoners describe emwazi frequently brutal xxunk take part xxunk beat clear one socalled beatles passenger destroy car stature emwazi fellow englishspeaking militants enhance propaganda effect execution videos draw intense international attention operational influence limit peter xxunk director kings colleges international center study radicalization say emwazi “ xxunk officer symbolically xxunk say death would show islamic state reel could undercut recruitment “ it feed narrative isis core territory lose say obama administration say contain expansion islamic state iraq syria local force unable dislodge militants important cities time islamic state affiliate spread across region xxunk xxunk middle east expert atlantic council washington think tank caution islamic state still count substantial support region “ killing highprofile propagandist significant propaganda win xxunk say “ but organization extremely adaptable long access aggrieve sunni population always reemerge one way another witte report london julie tate thomas gibbonsneff washington karla adam london liz sly beirut contribute report,xxbos ahead much anticipate title fight eddie alvarez conor xxunk take time busy schedule relax give readers wwn guide new york pound pound best city world box office baby 911 memorial sad sad alvarez crash land jumbo leave hook seemingly structurally sound facade face come crash inside job prepare like chump focus remain battle ahead madison square garden throw preparation learn garden big fuck arena forge metal fight god would say gods one notorious anticipate movement train grass beneath feet head central park ai nt get patch phoenix park would nt fighter today without xxunk back garden chase deer xxunk help hone xxunk agility study deer stag movements do nt surprise enter xxunk four hooves xxunk anything take win anyway back tour hear film sex city shit central park sex city alvarez though could nt score xxunk copper xxunk pocket say opponent challenge face department head like melt xxunk leave sun weeks even donald trump would grab pussy speak xxunk head prick i m weight class xxunk i m obese ill knock ill worth end 205 where s hollywood star fuck ill take whole walk back tour – would interest note actors sex city rich xxunk tour around new york warn people ask endless selfies famous love fan obviously camp you ve get watch you re eat make little xxunk reduce food intake ahead weigh like reduce selfie intake run overweight americans barely count xxunk you ve got ta take every chance gain edge opponent tell try new york pizza ca nt victory mean time might use throw around xxunk press conference scald hot slice slap eddie face might improve chance ladies peace i ve chuck euro top empire state build let steam,xxbos comment throughout election hillary clinton claim “ warrior women everything power help victims sexual assault that s come bad news video story xxunk … infowars report video show child rape victim kathy shelton explain clinton allow rapist go free defense lawyer even think know guilty afterwards clinton catch record laugh fact shed knowingly set child rapist free “ he take lie detector test clinton say record accord american thinker “ i take xxunk pass forever destroy faith xxunk laugh share story spread xxunk story let people see hillary clinton really,xxbos xxunk job growth number make official 2015 xxunk year job growth since 1990s slightly behind big gain 2014 unemployment fell 2015 already low 56 percent end 2014 5 percent december 2015 wag grow 25 percent 2015 is nt huge number look impressive remember inflation close zero year account second straight year strong economic result us economy complex system would mistake point single factor drive economic growth job creation one fully understand economies grow extent could look 2015s solid spectacular performance kind thing happen there s nothing hold economy back also identify several specific factor positively influence economic growth 2015 shortterm interest rat fell zero percent 2008 federal reserve keep december 2015 lower interest rat tend promote economic growth job creation people believe feed do even — earlier recession feed run series quantitative ease program pump even money economy phase 2014 — there s little doubt feds decision keep interest rat near zero percent year promote faster job growth earlier interest rate hike would do december federal reserve raise target interest rate 025 percent signal may increase rat 2016 may create drag economy year oil price high — around 100 per barrel 2011 mid2014 price start fall have nt stop since around 50 per barrel 2015 begin they ve fall 35 per barrel energy important input lot different products service cheaper oil fossil fuel like natural gas mean everyone associate oil industry bite extra cash pocket 2015 hard say exactly extra cash go — least go boost people save pay debt — consumers also spend stuff provide nice economic xxunk throughout 2015 since great recession state local governments tighten belt early recession add magnitude job losses later partially offset job gain private sector data brook institution show things start change mid2014 years shed employees state local governments start hire overall brook estimate federal state local government spend tax policies exert modestly positive effect growth gross domestic product — that s four years spend cut tax hike brook argue impose net fiscal drag economic growth\n",
              "y: CategoryList\n",
              "FAKE,REAL,FAKE,FAKE,REAL\n",
              "Path: .;\n",
              "\n",
              "Test: None, model=SequentialRNN(\n",
              "  (0): MultiBatchEncoder(\n",
              "    (module): AWD_LSTM(\n",
              "      (encoder): Embedding(40392, 400, padding_idx=1)\n",
              "      (encoder_dp): EmbeddingDropout(\n",
              "        (emb): Embedding(40392, 400, padding_idx=1)\n",
              "      )\n",
              "      (rnns): ModuleList(\n",
              "        (0): WeightDropout(\n",
              "          (module): LSTM(400, 1152, batch_first=True)\n",
              "        )\n",
              "        (1): WeightDropout(\n",
              "          (module): LSTM(1152, 1152, batch_first=True)\n",
              "        )\n",
              "        (2): WeightDropout(\n",
              "          (module): LSTM(1152, 400, batch_first=True)\n",
              "        )\n",
              "      )\n",
              "      (input_dp): RNNDropout()\n",
              "      (hidden_dps): ModuleList(\n",
              "        (0): RNNDropout()\n",
              "        (1): RNNDropout()\n",
              "        (2): RNNDropout()\n",
              "      )\n",
              "    )\n",
              "  )\n",
              "  (1): PoolingLinearClassifier(\n",
              "    (layers): Sequential(\n",
              "      (0): BatchNorm1d(1200, eps=1e-05, momentum=0.1, affine=True, track_running_stats=True)\n",
              "      (1): Dropout(p=0.2, inplace=False)\n",
              "      (2): Linear(in_features=1200, out_features=50, bias=True)\n",
              "      (3): ReLU(inplace=True)\n",
              "      (4): BatchNorm1d(50, eps=1e-05, momentum=0.1, affine=True, track_running_stats=True)\n",
              "      (5): Dropout(p=0.1, inplace=False)\n",
              "      (6): Linear(in_features=50, out_features=2, bias=True)\n",
              "    )\n",
              "  )\n",
              "), opt_func=functools.partial(<class 'torch.optim.adam.Adam'>, betas=(0.9, 0.99)), loss_func=FlattenedLoss of CrossEntropyLoss(), metrics=[<function accuracy at 0x7f06619c3e18>], true_wd=True, bn_wd=True, wd=0.01, train_bn=True, path=PosixPath('.'), model_dir='models', callback_fns=[functools.partial(<class 'fastai.basic_train.Recorder'>, add_time=True, silent=False)], callbacks=[RNNTrainer\n",
              "learn: RNNLearner(data=TextClasDataBunch;\n",
              "\n",
              "Train: LabelList (5559 items)\n",
              "x: TextList\n",
              "xxbos change many americans head poll vote 2016 election tuesday secretary state john kerry travel to … antarctica kerrys trip include visit xxunk xxunk south pole station make first secretary state visit antarctica accord press release national science foundation come curious time give ongoing election ask time state department spokesman john kirby insist purpose “ to talk researchers scientists largely climate change research reporter respond question legitimacy trip note “ there s criticism trip basically know secretary want knock antarctica bucket list he s taxpayer expense kirby insist important kerry “ to see firsthand learn environment south pole “ as individual literally champion climate change research awareness decades secretary remain commit increase awareness education public kirby say location kerrys trip also interest russian scientists draw criticism 2012 drill xxunk “ alien lake vostok scientists claim go “ undisturbed sunlight 15 million years theories surface lake — which consider sixth largest world — include oil secret nazi base hitlers remain nuclear energy atlantis course ufo land site kerrys trip add lead secretary state travel miles 13 million since 2013 send even ahead former secretary state hillary clinton travel xxunk miles 2009 2013 addition stay away poll us would expect vote clinton kerry also show remind world beat total miles xxunk — an area clinton competitive 2010 clinton write email top aide huma abedin ask “ what s total “ we 36 trip date abedin respond note clinton need least four beat record 106 million set condoleezza rice follow rachel xxunk facebook twitter post election heat kerry head poles … in antarctica wtf appear first change,xxbos washington cnn theory carly fiorina one best fundraisers republican field breakout star cnns republican debate wednesday second straight contest she s distinguish she s former ceo major company she s wellconnected xxunk california problem money has nt follow hype yet buzz tend turn money spigot she s clearly get lot buzz last night say ken xxunk longtime republican bundler lobbyist probably enough fuel tank get february buoy two consecutive widely praise debate performances fiorina expect surge next round public opinion survey party insiders say next challenge convert goodwill hard dollars drive vote come next winter despite deep connections conservative movement washington moneyed class silicon valley fiorinas campaign 1 million hand summer slightly amount rick perry since drop race due financial problems former hewlettpackard executive take 17 million first two months campaign less every republican candidate share stage wednesday report total super pac collect check unlimited size haul 35 million smaller sum harmful give candidates unusual dependence outside group almost half money come one party biggest donors jerry perenchio shell face early test fiorinas campaign two weeks capitalize wednesdays performance need file new number election officials supporters along top unaligned gop fundraisers say narrative change email go crazy today say xxunk xxunk organize san diego fundraiser fiorina has nt commit help exclusively little world indication fire world likely is nt fiorinas first report reveal draw heavily deep well california donors something may need broaden make serious run gop nomination even top moneymen work campaign say expect new republican star give fundraise shop run money predict could post mammoth return final two weeks traditionally sleepy quarter already immediate sign thursday donors watch cnns debate closely stanley hubbard minnesota billionaire top backer struggle wisconsin governor scott walker say plan give maximum could fiorinas campaign 2700 though say super pac he d give would walkers maybe she s another margaret thatcher she s terrific say hubbard also cut new 2700 check chris christie marco rubio think they re breakthrough people hubbard part network xxunk donors organize charles david koch surprisingly extend invitation fiorina address millionaires exclusive conference summer covet speak slot give californian chance win biggest gop whale could easily write sevenfigure check fiorinas super pac group perhaps go outside group take place traditional campaign super pac christen carly america often time confuse report official operation carly president super pac officials travel candidate barnstorm country help businesswoman collect endorsements earlystate officials struggle reel large donations beyond perenchio convince handful republican donors give sixfigure amount group super pac support jeb bush bid instance raise 30 time amount fiorinas group second biggest donation come separate super pac bankroll billionaire republican bob mercer mercer expect overwhelmingly back fiorina rival ted cruz originally gift 11 million fiorina loyalists say wednesday nights debate mean bigmoney backers en route do nt know really chance win like see debate say orlando executive richard lee give group 25000 april despite originally pledge get involve primary last night probably able better that s think many republican donors like hubbard mercer support fiorina side bet xxunk field biggest name republican politics appear fiorinas campaignfinance report small dollar amount next name may envision pitbull democratic nominee shed eat hillary clinton alive say hubbard worthwhile investment party attack democrats wag war women xxunk 2700 could token come top fundraisers point candidate can not wage campaign entirely back super pac perrys group raise 17 million cash strap campaign last 100 days candidates tend spend months build professional fundraise operations systematically collect maximum check dozens associate top bundlers say does nt bloom overnight people go way call friends ask david xxunk top bundler mitt romney raise money bush tool place could really well does nt might get lot little donors — wo nt hurt — make difference she s go big donors fiorina friends say fine underestimate fundraiser argue past two debate evidence shell beat expectations believe first one would take seriously she s nice say super pac donor phil lebherz ally california lebherz say she s take third step she s threat,xxbos share facebook share twitter i ve always dream indoor garden selfsufficient winter live tiny apartment room hydroponic system … think thank nutritower dream mine possible nutritower nutritower vertical hydroponic system specifically design indoor use first system use patentpending vertical light design technology allow grow food ever without take valuable floor space 2 square feet floor space 48 pot efficient method grow food market nutritower vertical hydroponic system simple elegant efficient patentpending vertical light design gravity feed nutrient delivery system make effective way grow food home year round strong custom xxunk aluminium frame system vertical light energy efficient high output bulbs standard 24 pot layout highly xxunk pot easily remove maintenance gravity work large reservoir mean less maintenance quiet pump run minutes hour individual timers you re control small footprint allow place anywhere nutritower design flexible users need customize systems orient toward leafy green fruit vegetables x hydroponic system messy soil deal friends valhalla movement personally see interact system love much use greenhouse inspire xxunk still convince system awesome click learn 8 reason food revolution might happen kitchen,xxbos daily sheeple jake anderson anomalous signal deep space often evoke quick pulse gossip speculation alien die soon thereafter scientists able explain usually explanation involve natural cosmic process — asteroid space detritus frequencies explode star sometimes however signal mysterious explain there s reason may see sustain social media buzz regard alien past week days ago two scientists laval university quebec release paper argue may receive first communication extraterrestrials first bite context excite decade us stargaze awe wonder many sentient be live incomprehensibly enormous universe first search exoplanets accelerate dramatically aid kepler telescope identify 1000 planets outside solar system scientists long know milky way galaxy alone probably contain several hundred billion planets ability study elude us fairly recently ability exponentially augment jam webb telescope allow us analyze exoplanets atmospheres search trace industrial gas additionally discovery earthlike exoplanets — conceivably close enough visit decades — tantalize ramifications near future human race earlier year scientists announce incredible observation series inexplicable brightness frequencies star kic 8462852 lead many speculate signal could originate dyson sphere theoretical megastructure advance alien race kardschez type 2 civilization could harness power sun newest discovery star make even unlikely signal natural cause newest strange signal hail gaggle 234 star identify sloan digital sky survey analyze spectra 25 million star ef borra e trottier two astronomers discover anomalies discuss paper originally title “ signals probably extraterrestrial intelligence “ we find detect signal exactly shape extraterrestrial intelligence signal predict previous publication therefore agreement hypothesis write “ the fact find small fraction star within narrow spectral range center near spectral type sun also agreement eti hypothesis course far certain actual alien message interview none snopescom borra claim never actually use word probably confirmation need director seti search extraterrestrial intelligence institute andrew siemion issue admonish response “ you ca nt make definitive statements detections unless you ve exhaust every possible mean followup everyone excite discovery appear match prediction borra make 2012 claim alien could well use intermittent burst laser mean communication part siemion plan use breakthrough listen initiative closely assess several star 234 sample meanwhile borra andtrottier borras graduate student continue observe mysterious signal excite decade space research plan mission mar hopper well exploratory probe send moon europa may witness rebirth space race better incentive could venture space call alien species let hope time meet species transcend addiction war unsustainable resource allocation encourage share republish report analyse break news videos click detail contribute antimedia theantimediaorg “ anti name mean media simply current mainstream paradigm current media influence industrial complex topdown authoritarian system distribution — the opposite antimedia aim antimedia want offer new paradigm — a bottomup approach real diverse report seek establish space people journalists venue independent journalism move forward larger truthful scale share rate,xxbos islamic state militants acknowledge first time defeat syrian town kobani blame wither airstrikes usled coalition force flee town turkish border although strategic site kobani — know militants ayn alislam — turn test will militants coalition one point islamic state fighters control almost town 45000 people verge capture outright video release late friday proislamic state aamaq news agency two fighters make clear coalitions relentless air assault prove much militants ago retreat bite ayn alislam bombardment kill brothers say one mask fighter speak arabic north african accent video vow return drive people protection units know ypg main kurdish militia syria fighter refer rat islamic state stay say president obama say point toward destruction edge kobani second fighter stand road green sign spray name ayn alislam describe incessant pound coalition aircraft swear god plan leave air day night airstrikes day night say video bombard everything even motorcycle leave build stand god will return revenge multiply speak meet mexican canadian counterparts boston saturday secretary state john kerry say recapture kobani big deal afp report long way go overall campaign daesh — isil know — say along kobani real symbolic strategic objective kerry say push big deal make mistake also use tool use get — tool cooperation support — defeat violent transnational criminal organizations ensure rule law thrive people islamic state launch offensive region surround kobani midseptember capture 300 kurdish villages part city drive 2 xxrep 5 0 kurds unite state several arab ally begin strike back provide air cover kurdish militia pour turkey overall ally campaign aim roll back islamic state militants take third iraq syria declare capture territory new caliphate result airstrikes stiff resistance kurds islamic state — also know isil isis — begin retreat weeks ago lose 1000 fighters accord londonbased syrian observatory human right monitor deaths syrian civil war last days fight activists report militant group send inexperienced fighters teenagers front line lack recruit human right group say monday activists kurdish officials report town almost clear militants fourmonth battle kobani pummel airstrikes mutual shell boobytrapped vehicles leave large part town city uninhabitable syrian observatory human right say city anymore xxunk xxunk turkish photojournalist afp news agency tell time saw bomb drop kobani battle there s debris leave especially eastern part town isis try get\n",
              "y: CategoryList\n",
              "FAKE,REAL,FAKE,FAKE,REAL\n",
              "Path: .;\n",
              "\n",
              "Valid: LabelList (1390 items)\n",
              "x: TextList\n",
              "xxbos email realize headline must sound extremely bizarre article explain could actually happen learn fbi obtain search warrant enable agency examine approximately 65 xxrep 4 0 email sit electronic devices own huma abedin estrange husband anthony weiner fbi go email unlikely still possible decision whether charge hillary clinton crime could make november 8th course likely scenario hillary clinton indict election day americans vote scandal hang ominously clinton campaign fbi quickly take action possible hillary clinton could force race election day would require democrats come new candidate fact already call mainstream media clinton willingly remove race example follow come chicago tribune article entitle “ democrats ask clinton step aside “ … democrats rule democrats hold high moral standards impose people govern would follow simple process would demand mrs clinton step immediately let vice presidential nominee sen tim kaine virginia stand place democrats say honestly new criminal investigation go events around homebrew email server time secretary state clinton anywhere near white house good idea author article understand tim kaine would automatically take place clinton step election previous article include quote us news world report article explain would happen hillary clinton remove democratic ticket reason prior november 8th … clinton fall ticket democratic national committee members would gather vote replacement dnc members act superdelegates years primary overwhelmingly back clinton boatrocking socialist sen bernie sanders vermont dnc spokesman mark paustenbach say currently 445 committee members – number change time guide group bylaws give membership specific officeholders party leaders hold 200 spot selection state along optional 75 slot dnc members choose fill party rule replace presidential nominee merely specify majority members must present special meet call committee chairman meet would follow procedures set dnc rule bylaws committee proxy vote would allow email scandal force hillary clinton exit race last minute majority members democratic national committee would gather select new nominee would choose let take look top five options … 1 tim kaine would seem obvious choice since hillary clintons run mate win national campaign need name recognition americans outside state virginia little familiarity point prove little popularity campaign trail fact attendance many rally key swing state measure dozens seem unlikely dnc would select kaine replacement nominee 2 joe biden vicepresident joe biden far name recognition tim kaine recent days tout believe would actually nomination would decide run … vice president joe biden say recent interview believe could beat former secretary state hillary clinton democratic presidential nomination pursue biden ask interview cnn saturday news fbi reopen criminal probe clintons use private email server secretary state make secondguess decision last year run accord vice president short answer “ no thing keep run biden say recent death son beau unfortunately biden suffer many things kaine biden bore good campaign trail does nt sort charisma would motivate people go poll large number biden would probably represent “ safest choice democrats might win choice 3 bernie sanders bernie sanders would seem logical choice since runnerup hillary clinton truth lot things work bernie sanders first real loyalty democrats previously operate independent express desire return independent status campaign secondly democratic establishment much dislike play huge role decisions thirdly democratic insiders fear would “ another mcgovern would get absolutely wipe general election even though popular radical leave appear sanders would least likely choice list 4 elizabeth warren elizabeth warren would popular “ bernie sanders wing party would enable party replace hillary clinton another woman definitely possibility lack name recognition like sanders would concern republicans would frame candidacy “ another mcgovern far leave policies 5 michelle obama one recent survey find 67 percent democrats would rather third term obama first term hillary clinton days barack obamas approval rat run anywhere 9 11 think another obama white house farfetched might think michelle obama better name recognition anyone else list generally wellliked american people receive tremendous amount praise work campaign trail recently instance recent speech new hampshire laud “ the influential speech 2016 campaign recent msn article entitle “ campaign michelle obama become another political voice “ … speech amplify time meet enthusiastic response cement obamas place star presidential race put define stroke women view trump also voice moral authority three months leave white house already among rank public figure transcend politics title “ when rise level like see much weight word carry say anita mcbride former chief staff laura bush executive residence school public affairs american university “ we know did nt like politics impassioned language use feel compel speak people listen democrats michelle obama one would select replacement nominee need would give best chance win donald trump course obamas radical bernie sanders elizabeth warren american people become quite comfortable point certainly hope michelle obama become nominee hillary clinton step aside donald trump would exceedingly difficult time defeat final analysis none probably go matter anyway unlikely fbi move quickly enough force hillary clinton election day still small chance could actually happen happen go turn politics america completely upside take look future america begin end prepare do nt forget like freedom outpost facebook google plus twitter also get freedom outpost deliver amazon kindle device,xxbos drone strike us officials believe kill “ jihadi john islamic state xxunk whose behead western hostages come symbolize militants brutality appear week rare success struggle us campaign group military feat death islamic state wellknown spokesman confirm would step forward us effort counter group sophisticate socialmedia operations ante twoway propaganda war speak day strike raqqa islamic state de facto capital syria us military officials say “ reasonably certain two hellfire missiles fire american xxunk reaper drone late thursday kill british militant whose real name mohammed emwazi second individual army col steven warren us military spokesman give detail military officials confident emwazi 27 dead say drone strike carry plan warren say officials work definitively establish emwazi kill death would blow islamic state public image warren say even emwazi top operational commander “ this guy human animal say london british prime minister david cameron laud operation describe “ xxunk effort us british force “ if strike successful still await confirmation strike heart isil say use acronym islamic state senior us defense official like others speak condition anonymity discuss intelligence matter say three drone take part operation one british american plane conduct strike statement 10 down street cameron describe emwazi “ barbaric murderer islamic state “ lead xxunk “ this act selfdefense right thing say us officials say car believe carry emwazi another person pull two threestory build business around 11 pm local time thursday emwazi go inside build short time come get back car moment american missiles destroy vehicle syrian activist group raqqa slaughter silently monitor events city report drone strike target car near islamic court downtown raqqa shortly midnight among dozen blast hear intense wave airstrikes group say twitter fee emwazi appear video august 2014 unknown mask man english accent behead american journalist jam foley emwazi subsequently behead steven sotloff another american journalist appear video american aid worker abdulrahman kassig decapitate xxunk also kill david haines alan xxunk british aid workers japanese journalist kenji goto “ it small solace learn jihadi john may kill us government xxunk parent john diane foley say statement “ his death bring jim back much effort give find rescue jim hostages subsequently murder isis might alive today art shirley sotloff parent steven sotloff say xxunk death would change nothing “ its little late son never come back say “ more importantly today remember stevens remarkable life contributions others suffer hand isis obama administration attempt rescue americans summer 2014 delta force commandos storm prison think hold officials later conclude prisoners move days raid us officials say confirmation xxunk death probably require information glean intercept militant communications say probably impossible obtain dna sample make difficult establish death conclusively “ we could potentially never know certainty another defense official say moment jihadi john may become terrorist emwazi bestknown militant unite state kill year airstrikes group iraq syria emwazi bear kuwait grow london study computer program gradually become radicalize 2010 british authorities detain emwazi bar leave country believe travel syria around 2012 later join islamic state emwazi one group englishspeaking militants former hostages dub “ the beatles former prisoners describe emwazi frequently brutal xxunk take part xxunk beat clear one socalled beatles passenger destroy car stature emwazi fellow englishspeaking militants enhance propaganda effect execution videos draw intense international attention operational influence limit peter xxunk director kings colleges international center study radicalization say emwazi “ xxunk officer symbolically xxunk say death would show islamic state reel could undercut recruitment “ it feed narrative isis core territory lose say obama administration say contain expansion islamic state iraq syria local force unable dislodge militants important cities time islamic state affiliate spread across region xxunk xxunk middle east expert atlantic council washington think tank caution islamic state still count substantial support region “ killing highprofile propagandist significant propaganda win xxunk say “ but organization extremely adaptable long access aggrieve sunni population always reemerge one way another witte report london julie tate thomas gibbonsneff washington karla adam london liz sly beirut contribute report,xxbos ahead much anticipate title fight eddie alvarez conor xxunk take time busy schedule relax give readers wwn guide new york pound pound best city world box office baby 911 memorial sad sad alvarez crash land jumbo leave hook seemingly structurally sound facade face come crash inside job prepare like chump focus remain battle ahead madison square garden throw preparation learn garden big fuck arena forge metal fight god would say gods one notorious anticipate movement train grass beneath feet head central park ai nt get patch phoenix park would nt fighter today without xxunk back garden chase deer xxunk help hone xxunk agility study deer stag movements do nt surprise enter xxunk four hooves xxunk anything take win anyway back tour hear film sex city shit central park sex city alvarez though could nt score xxunk copper xxunk pocket say opponent challenge face department head like melt xxunk leave sun weeks even donald trump would grab pussy speak xxunk head prick i m weight class xxunk i m obese ill knock ill worth end 205 where s hollywood star fuck ill take whole walk back tour – would interest note actors sex city rich xxunk tour around new york warn people ask endless selfies famous love fan obviously camp you ve get watch you re eat make little xxunk reduce food intake ahead weigh like reduce selfie intake run overweight americans barely count xxunk you ve got ta take every chance gain edge opponent tell try new york pizza ca nt victory mean time might use throw around xxunk press conference scald hot slice slap eddie face might improve chance ladies peace i ve chuck euro top empire state build let steam,xxbos comment throughout election hillary clinton claim “ warrior women everything power help victims sexual assault that s come bad news video story xxunk … infowars report video show child rape victim kathy shelton explain clinton allow rapist go free defense lawyer even think know guilty afterwards clinton catch record laugh fact shed knowingly set child rapist free “ he take lie detector test clinton say record accord american thinker “ i take xxunk pass forever destroy faith xxunk laugh share story spread xxunk story let people see hillary clinton really,xxbos xxunk job growth number make official 2015 xxunk year job growth since 1990s slightly behind big gain 2014 unemployment fell 2015 already low 56 percent end 2014 5 percent december 2015 wag grow 25 percent 2015 is nt huge number look impressive remember inflation close zero year account second straight year strong economic result us economy complex system would mistake point single factor drive economic growth job creation one fully understand economies grow extent could look 2015s solid spectacular performance kind thing happen there s nothing hold economy back also identify several specific factor positively influence economic growth 2015 shortterm interest rat fell zero percent 2008 federal reserve keep december 2015 lower interest rat tend promote economic growth job creation people believe feed do even — earlier recession feed run series quantitative ease program pump even money economy phase 2014 — there s little doubt feds decision keep interest rat near zero percent year promote faster job growth earlier interest rate hike would do december federal reserve raise target interest rate 025 percent signal may increase rat 2016 may create drag economy year oil price high — around 100 per barrel 2011 mid2014 price start fall have nt stop since around 50 per barrel 2015 begin they ve fall 35 per barrel energy important input lot different products service cheaper oil fossil fuel like natural gas mean everyone associate oil industry bite extra cash pocket 2015 hard say exactly extra cash go — least go boost people save pay debt — consumers also spend stuff provide nice economic xxunk throughout 2015 since great recession state local governments tighten belt early recession add magnitude job losses later partially offset job gain private sector data brook institution show things start change mid2014 years shed employees state local governments start hire overall brook estimate federal state local government spend tax policies exert modestly positive effect growth gross domestic product — that s four years spend cut tax hike brook argue impose net fiscal drag economic growth\n",
              "y: CategoryList\n",
              "FAKE,REAL,FAKE,FAKE,REAL\n",
              "Path: .;\n",
              "\n",
              "Test: None, model=SequentialRNN(\n",
              "  (0): MultiBatchEncoder(\n",
              "    (module): AWD_LSTM(\n",
              "      (encoder): Embedding(40392, 400, padding_idx=1)\n",
              "      (encoder_dp): EmbeddingDropout(\n",
              "        (emb): Embedding(40392, 400, padding_idx=1)\n",
              "      )\n",
              "      (rnns): ModuleList(\n",
              "        (0): WeightDropout(\n",
              "          (module): LSTM(400, 1152, batch_first=True)\n",
              "        )\n",
              "        (1): WeightDropout(\n",
              "          (module): LSTM(1152, 1152, batch_first=True)\n",
              "        )\n",
              "        (2): WeightDropout(\n",
              "          (module): LSTM(1152, 400, batch_first=True)\n",
              "        )\n",
              "      )\n",
              "      (input_dp): RNNDropout()\n",
              "      (hidden_dps): ModuleList(\n",
              "        (0): RNNDropout()\n",
              "        (1): RNNDropout()\n",
              "        (2): RNNDropout()\n",
              "      )\n",
              "    )\n",
              "  )\n",
              "  (1): PoolingLinearClassifier(\n",
              "    (layers): Sequential(\n",
              "      (0): BatchNorm1d(1200, eps=1e-05, momentum=0.1, affine=True, track_running_stats=True)\n",
              "      (1): Dropout(p=0.2, inplace=False)\n",
              "      (2): Linear(in_features=1200, out_features=50, bias=True)\n",
              "      (3): ReLU(inplace=True)\n",
              "      (4): BatchNorm1d(50, eps=1e-05, momentum=0.1, affine=True, track_running_stats=True)\n",
              "      (5): Dropout(p=0.1, inplace=False)\n",
              "      (6): Linear(in_features=50, out_features=2, bias=True)\n",
              "    )\n",
              "  )\n",
              "), opt_func=functools.partial(<class 'torch.optim.adam.Adam'>, betas=(0.9, 0.99)), loss_func=FlattenedLoss of CrossEntropyLoss(), metrics=[<function accuracy at 0x7f06619c3e18>], true_wd=True, bn_wd=True, wd=0.01, train_bn=True, path=PosixPath('.'), model_dir='models', callback_fns=[functools.partial(<class 'fastai.basic_train.Recorder'>, add_time=True, silent=False)], callbacks=[...], layer_groups=[Sequential(\n",
              "  (0): Embedding(40392, 400, padding_idx=1)\n",
              "  (1): EmbeddingDropout(\n",
              "    (emb): Embedding(40392, 400, padding_idx=1)\n",
              "  )\n",
              "), Sequential(\n",
              "  (0): WeightDropout(\n",
              "    (module): LSTM(400, 1152, batch_first=True)\n",
              "  )\n",
              "  (1): RNNDropout()\n",
              "), Sequential(\n",
              "  (0): WeightDropout(\n",
              "    (module): LSTM(1152, 1152, batch_first=True)\n",
              "  )\n",
              "  (1): RNNDropout()\n",
              "), Sequential(\n",
              "  (0): WeightDropout(\n",
              "    (module): LSTM(1152, 400, batch_first=True)\n",
              "  )\n",
              "  (1): RNNDropout()\n",
              "), Sequential(\n",
              "  (0): PoolingLinearClassifier(\n",
              "    (layers): Sequential(\n",
              "      (0): BatchNorm1d(1200, eps=1e-05, momentum=0.1, affine=True, track_running_stats=True)\n",
              "      (1): Dropout(p=0.2, inplace=False)\n",
              "      (2): Linear(in_features=1200, out_features=50, bias=True)\n",
              "      (3): ReLU(inplace=True)\n",
              "      (4): BatchNorm1d(50, eps=1e-05, momentum=0.1, affine=True, track_running_stats=True)\n",
              "      (5): Dropout(p=0.1, inplace=False)\n",
              "      (6): Linear(in_features=50, out_features=2, bias=True)\n",
              "    )\n",
              "  )\n",
              ")], add_time=True, silent=False)\n",
              "alpha: 2.0\n",
              "beta: 1.0], layer_groups=[Sequential(\n",
              "  (0): Embedding(40392, 400, padding_idx=1)\n",
              "  (1): EmbeddingDropout(\n",
              "    (emb): Embedding(40392, 400, padding_idx=1)\n",
              "  )\n",
              "), Sequential(\n",
              "  (0): WeightDropout(\n",
              "    (module): LSTM(400, 1152, batch_first=True)\n",
              "  )\n",
              "  (1): RNNDropout()\n",
              "), Sequential(\n",
              "  (0): WeightDropout(\n",
              "    (module): LSTM(1152, 1152, batch_first=True)\n",
              "  )\n",
              "  (1): RNNDropout()\n",
              "), Sequential(\n",
              "  (0): WeightDropout(\n",
              "    (module): LSTM(1152, 400, batch_first=True)\n",
              "  )\n",
              "  (1): RNNDropout()\n",
              "), Sequential(\n",
              "  (0): PoolingLinearClassifier(\n",
              "    (layers): Sequential(\n",
              "      (0): BatchNorm1d(1200, eps=1e-05, momentum=0.1, affine=True, track_running_stats=True)\n",
              "      (1): Dropout(p=0.2, inplace=False)\n",
              "      (2): Linear(in_features=1200, out_features=50, bias=True)\n",
              "      (3): ReLU(inplace=True)\n",
              "      (4): BatchNorm1d(50, eps=1e-05, momentum=0.1, affine=True, track_running_stats=True)\n",
              "      (5): Dropout(p=0.1, inplace=False)\n",
              "      (6): Linear(in_features=50, out_features=2, bias=True)\n",
              "    )\n",
              "  )\n",
              ")], add_time=True, silent=False)"
            ]
          },
          "metadata": {
            "tags": []
          },
          "execution_count": 54
        }
      ]
    },
    {
      "cell_type": "code",
      "metadata": {
        "id": "HLs4L1WxSafn",
        "colab_type": "code",
        "colab": {
          "base_uri": "https://localhost:8080/",
          "height": 332
        },
        "outputId": "5dceead8-96b4-4eb0-9fde-e23cfde3fba9"
      },
      "source": [
        "learn.lr_find()\n",
        "learn.recorder.plot(suggestion=True)\n",
        "min_grad_lr = learn.recorder.min_grad_lr"
      ],
      "execution_count": null,
      "outputs": [
        {
          "output_type": "display_data",
          "data": {
            "text/html": [
              ""
            ],
            "text/plain": [
              "<IPython.core.display.HTML object>"
            ]
          },
          "metadata": {
            "tags": []
          }
        },
        {
          "output_type": "stream",
          "text": [
            "LR Finder is complete, type {learner_name}.recorder.plot() to see the graph.\n",
            "Min numerical gradient: 1.74E-03\n",
            "Min loss divided by 10: 5.25E-02\n"
          ],
          "name": "stdout"
        },
        {
          "output_type": "display_data",
          "data": {
            "image/png": "[encoded data removed]",
            "text/plain": [
              "<Figure size 432x288 with 1 Axes>"
            ]
          },
          "metadata": {
            "tags": []
          }
        }
      ]
    },
    {
      "cell_type": "code",
      "metadata": {
        "id": "32XiT3ptScN9",
        "colab_type": "code",
        "colab": {
          "base_uri": "https://localhost:8080/",
          "height": 125
        },
        "outputId": "7efd03a8-ff44-43be-8b18-e546d7fc116f"
      },
      "source": [
        "print(min_grad_lr)\n",
        "learn.fit_one_cycle(10, min_grad_lr)"
      ],
      "execution_count": null,
      "outputs": [
        {
          "output_type": "stream",
          "text": [
            "0.001737800828749376\n"
          ],
          "name": "stdout"
        },
        {
          "output_type": "display_data",
          "data": {
            "text/html": [
              "<table border=\"1\" class=\"dataframe\">\n",
              "  <thead>\n",
              "    <tr style=\"text-align: left;\">\n",
              "      <th>epoch</th>\n",
              "      <th>train_loss</th>\n",
              "      <th>valid_loss</th>\n",
              "      <th>accuracy</th>\n",
              "      <th>time</th>\n",
              "    </tr>\n",
              "  </thead>\n",
              "  <tbody>\n",
              "    <tr>\n",
              "      <td>0</td>\n",
              "      <td>0.410680</td>\n",
              "      <td>0.328541</td>\n",
              "      <td>0.873381</td>\n",
              "      <td>02:38</td>\n",
              "    </tr>\n",
              "    <tr>\n",
              "      <td>1</td>\n",
              "      <td>0.338782</td>\n",
              "      <td>0.307484</td>\n",
              "      <td>0.881295</td>\n",
              "      <td>02:49</td>\n",
              "    </tr>\n",
              "  </tbody>\n",
              "</table>"
            ],
            "text/plain": [
              "<IPython.core.display.HTML object>"
            ]
          },
          "metadata": {
            "tags": []
          }
        }
      ]
    },
    {
      "cell_type": "code",
      "metadata": {
        "id": "OPPNKk_zSeMc",
        "colab_type": "code",
        "colab": {
          "base_uri": "https://localhost:8080/",
          "height": 278
        },
        "outputId": "a140c36e-0a92-4354-e0b8-c452aea3af1e"
      },
      "source": [
        "learn.recorder.plot_losses()"
      ],
      "execution_count": null,
      "outputs": [
        {
          "output_type": "display_data",
          "data": {
            "image/png": "[encoded data removed]",
            "text/plain": [
              "<Figure size 432x288 with 1 Axes>"
            ]
          },
          "metadata": {
            "tags": []
          }
        }
      ]
    },
    {
      "cell_type": "code",
      "metadata": {
        "id": "oC9sY--CSfdc",
        "colab_type": "code",
        "colab": {
          "base_uri": "https://localhost:8080/",
          "height": 167
        },
        "outputId": "707fe33d-79ab-4a63-acbc-cfaf9e295aad"
      },
      "source": [
        "learn.freeze_to(-2)\n",
        "learn.fit_one_cycle(4, slice(5e-3, 2e-3), moms=(0.8,0.7))"
      ],
      "execution_count": null,
      "outputs": [
        {
          "output_type": "display_data",
          "data": {
            "text/html": [
              "<table border=\"1\" class=\"dataframe\">\n",
              "  <thead>\n",
              "    <tr style=\"text-align: left;\">\n",
              "      <th>epoch</th>\n",
              "      <th>train_loss</th>\n",
              "      <th>valid_loss</th>\n",
              "      <th>accuracy</th>\n",
              "      <th>time</th>\n",
              "    </tr>\n",
              "  </thead>\n",
              "  <tbody>\n",
              "    <tr>\n",
              "      <td>0</td>\n",
              "      <td>0.357944</td>\n",
              "      <td>0.309379</td>\n",
              "      <td>0.880576</td>\n",
              "      <td>03:39</td>\n",
              "    </tr>\n",
              "    <tr>\n",
              "      <td>1</td>\n",
              "      <td>0.315535</td>\n",
              "      <td>0.258528</td>\n",
              "      <td>0.905036</td>\n",
              "      <td>03:04</td>\n",
              "    </tr>\n",
              "    <tr>\n",
              "      <td>2</td>\n",
              "      <td>0.246118</td>\n",
              "      <td>0.234454</td>\n",
              "      <td>0.913669</td>\n",
              "      <td>03:35</td>\n",
              "    </tr>\n",
              "    <tr>\n",
              "      <td>3</td>\n",
              "      <td>0.199054</td>\n",
              "      <td>0.226157</td>\n",
              "      <td>0.915108</td>\n",
              "      <td>03:49</td>\n",
              "    </tr>\n",
              "  </tbody>\n",
              "</table>"
            ],
            "text/plain": [
              "<IPython.core.display.HTML object>"
            ]
          },
          "metadata": {
            "tags": []
          }
        }
      ]
    },
    {
      "cell_type": "code",
      "metadata": {
        "id": "rQI_UGmSShaO",
        "colab_type": "code",
        "colab": {
          "base_uri": "https://localhost:8080/",
          "height": 282
        },
        "outputId": "c54c5a2e-5deb-4aae-9085-ebf4b36dc0aa"
      },
      "source": [
        "learn.recorder.plot_losses()\n"
      ],
      "execution_count": null,
      "outputs": [
        {
          "output_type": "display_data",
          "data": {
            "image/png": "[encoded data removed]",
            "text/plain": [
              "<Figure size 432x288 with 1 Axes>"
            ]
          },
          "metadata": {
            "tags": []
          }
        }
      ]
    },
    {
      "cell_type": "code",
      "metadata": {
        "id": "Xb8YtUWwSlDU",
        "colab_type": "code",
        "colab": {
          "base_uri": "https://localhost:8080/",
          "height": 214
        },
        "outputId": "d43af7bf-80ba-4ca8-81c3-1481e36c9306"
      },
      "source": [
        "learn.unfreeze()\n",
        "learn.fit_one_cycle(5, slice(2e-3/100, 2e-3), moms=(0.8,0.7))"
      ],
      "execution_count": null,
      "outputs": [
        {
          "output_type": "display_data",
          "data": {
            "text/html": [
              "\n",
              "    <div>\n",
              "        <style>\n",
              "            /* Turns off some styling */\n",
              "            progress {\n",
              "                /* gets rid of default border in Firefox and Opera. */\n",
              "                border: none;\n",
              "                /* Needs to be in here for Safari polyfill so background images work as expected. */\n",
              "                background-size: auto;\n",
              "            }\n",
              "            .progress-bar-interrupted, .progress-bar-interrupted::-webkit-progress-bar {\n",
              "                background: #F44336;\n",
              "            }\n",
              "        </style>\n",
              "      <progress value='4' class='' max='5', style='width:300px; height:20px; vertical-align: middle;'></progress>\n",
              "      80.00% [4/5 27:22<06:50]\n",
              "    </div>\n",
              "    \n",
              "<table border=\"1\" class=\"dataframe\">\n",
              "  <thead>\n",
              "    <tr style=\"text-align: left;\">\n",
              "      <th>epoch</th>\n",
              "      <th>train_loss</th>\n",
              "      <th>valid_loss</th>\n",
              "      <th>accuracy</th>\n",
              "      <th>time</th>\n",
              "    </tr>\n",
              "  </thead>\n",
              "  <tbody>\n",
              "    <tr>\n",
              "      <td>0</td>\n",
              "      <td>0.188117</td>\n",
              "      <td>0.236767</td>\n",
              "      <td>0.911511</td>\n",
              "      <td>06:49</td>\n",
              "    </tr>\n",
              "    <tr>\n",
              "      <td>1</td>\n",
              "      <td>0.199807</td>\n",
              "      <td>0.234869</td>\n",
              "      <td>0.911511</td>\n",
              "      <td>06:17</td>\n",
              "    </tr>\n",
              "    <tr>\n",
              "      <td>2</td>\n",
              "      <td>0.169954</td>\n",
              "      <td>0.247142</td>\n",
              "      <td>0.921583</td>\n",
              "      <td>07:07</td>\n",
              "    </tr>\n",
              "    <tr>\n",
              "      <td>3</td>\n",
              "      <td>0.136344</td>\n",
              "      <td>0.239664</td>\n",
              "      <td>0.917986</td>\n",
              "      <td>07:07</td>\n",
              "    </tr>\n",
              "  </tbody>\n",
              "</table><p>\n",
              "\n",
              "    <div>\n",
              "        <style>\n",
              "            /* Turns off some styling */\n",
              "            progress {\n",
              "                /* gets rid of default border in Firefox and Opera. */\n",
              "                border: none;\n",
              "                /* Needs to be in here for Safari polyfill so background images work as expected. */\n",
              "                background-size: auto;\n",
              "            }\n",
              "            .progress-bar-interrupted, .progress-bar-interrupted::-webkit-progress-bar {\n",
              "                background: #F44336;\n",
              "            }\n",
              "        </style>\n",
              "      <progress value='137' class='' max='173', style='width:300px; height:20px; vertical-align: middle;'></progress>\n",
              "      79.19% [137/173 04:03<01:03 0.1240]\n",
              "    </div>\n",
              "    "
            ],
            "text/plain": [
              "<IPython.core.display.HTML object>"
            ]
          },
          "metadata": {
            "tags": []
          }
        }
      ]
    },
    {
      "cell_type": "code",
      "metadata": {
        "id": "ktoYXiPhSn_N",
        "colab_type": "code",
        "colab": {}
      },
      "source": [
        "preds,y,losses = learn.get_preds(with_loss=True)\n",
        "interp = ClassificationInterpretation(learn, preds, y, losses)\n",
        "interp.plot_confusion_matrix()"
      ],
      "execution_count": null,
      "outputs": []
    },
    {
      "cell_type": "code",
      "metadata": {
        "id": "7wwNEbEESsSU",
        "colab_type": "code",
        "colab": {}
      },
      "source": [
        "learn.predict(\"homebrew not working\")\n"
      ],
      "execution_count": null,
      "outputs": []
    },
    {
      "cell_type": "code",
      "metadata": {
        "id": "Wj92zsAO_DUC",
        "colab_type": "code",
        "colab": {
          "base_uri": "https://localhost:8080/",
          "height": 71
        },
        "outputId": "356a0a9a-93ac-4e30-d55a-b61aad2b3335"
      },
      "source": [
        "output = learn.predict(input())\n",
        "print(output)"
      ],
      "execution_count": null,
      "outputs": [
        {
          "output_type": "stream",
          "text": [
            "With both BJP and Shiv Sena locking horns over who will be the CM of Maharashtra, there seems to be no end to the bickering between the two parties. And adding fuel to the fire are daily statements from Saamna Editor Sanjay Raut.  Sanjay-Raut  All that is now set to change after Supreme Court has asked Mr. Raut to give his vocal chords some much deserved rest and let leaders of both parties find a solution through discussions.  The Saamna Editor has been relentless with his daily comments, on behalf of his party, to have a Shiv Sainik as the CM of Maharashtra. SC termed it as noise pollution and pointed that it was unwanted at a time when a major portion of the country was grappling with air pollution.  “Mr. Raut has made his point of view pretty clear and now he should just keep quiet. It is understood that both parties want their CM in Maharashtra. But his rants are unwanted and unnecessary,” the Judge pointed out.  Home Minister Amit Shah welcomed the Court’s decision and said, “Matbhed hona tandurust gatbandhan ki nisani hai. Baat cheet se hi iss mamale ka hal nikalge. Lekin koi Sanjay Rautji ka muh band karo.”  Not particularly happy with SC’s reprimand, Mr. Raut said that he will observe a maun vrat for the time being. But will continue using sign language to get his message of having Sainik as CM across till it becomes a reality.\n",
            "(Category REAL, tensor(1), tensor([0.0291, 0.9709]))\n"
          ],
          "name": "stdout"
        }
      ]
    },
    {
      "cell_type": "code",
      "metadata": {
        "id": "5PnjNLNFSvpb",
        "colab_type": "code",
        "colab": {}
      },
      "source": [
        "learn.export()\n"
      ],
      "execution_count": null,
      "outputs": []
    }
  ]
}